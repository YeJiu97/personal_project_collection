{
 "cells": [
  {
   "attachments": {},
   "cell_type": "markdown",
   "id": "6730fecf",
   "metadata": {},
   "source": [
    "## Assignment 1 \n",
    "### \\<Wangjun Shen> \\<a1702057>"
   ]
  },
  {
   "attachments": {},
   "cell_type": "markdown",
   "id": "3df2aac6",
   "metadata": {},
   "source": [
    "### 1. Reading datasets"
   ]
  },
  {
   "cell_type": "code",
   "execution_count": 1,
   "id": "e967e07b",
   "metadata": {},
   "outputs": [
    {
     "data": {
      "text/plain": [
       "['{\"ratings\": {\"service\": 1.0, \"cleanliness\": 2.0, \"overall\": 1.0, \"value\": 1.0, \"location\": 3.0, \"sleep_quality\": 2.0, \"rooms\": 1.0}, \"title\": \"\\\\u201cHorrible experience\\\\u201d\", \"text\": \"First of all we got there and they didn\\'t have the room we booked; did not pay us the difference from the room we booked to the cheaper one they gave us. STAFF took forever to address our problem, not KID friendly, pool dirty- and parking wow good luck going somewhere at night time and come back to the hotel to try to find a parking space THAT THEY CHARGE AN ADDITIONAL FEE FOR! (NOT INCLUDED IN THEIR OVERPRICED HOTEL STAY)\\\\nWe thought by paying more we would get a good deal well this hotel is not the case!!\\\\n$400 for a 2 night stay plus horrible customer service and a manager who never returned our call when we submitted the complain is not how you do business- They are giving SHERATON a horrible reputation- I guess they are managed by SHERATON but have their own \\\\\"policies\\\\\" and undesirable customer service.\\\\nGreat time in San Diego but a nightmare of a hotel.\\\\nDon\\'t ever write reviews but this one was called for, if you can avoid this hotel do it.\\\\n(Being a military family and moving from state to state we know about hotels and excellent customer service) \\\\n(Oh yeah no free breakfast either)\", \"author\": {\"username\": \"Kh3RD\", \"num_reviews\": 1, \"id\": \"AB404BB664D653ECF79DE0E0867F6D34\", \"location\": \"Las Vegas, Nevada\"}, \"date_stayed\": \"September 2012\", \"offering_id\": 80138, \"num_helpful_votes\": 0, \"date\": \"September 19, 2012\", \"id\": 140716137, \"via_mobile\": false}\\n',\n",
       " '{\"ratings\": {\"cleanliness\": 1.0, \"sleep_quality\": 1.0, \"overall\": 1.0, \"value\": 2.0, \"service\": 1.0}, \"title\": \"\\\\u201cStay Away\\\\u201d\", \"text\": \"Found Racist graffiti in the room. Request to change room was ignored. Had to stay in room with swastikas and racism scratched into the wood. Broken door to outside fire escape was open all night and off camera. Bugs and ants in the room. Complained to GM he offered me a gift certificate for a free stay. I will never stay here again.\", \"author\": {\"username\": \"TheUglyPhotographer\", \"num_cities\": 3, \"num_helpful_votes\": 4, \"num_reviews\": 4, \"num_type_reviews\": 4, \"id\": \"BB116F87FE8F9AB356F63853BFD32FFE\", \"location\": \"Oceanside, California\"}, \"date_stayed\": \"June 2011\", \"offering_id\": 240151, \"num_helpful_votes\": 1, \"date\": \"June 27, 2011\", \"id\": 114807323, \"via_mobile\": false}\\n',\n",
       " '{\"ratings\": {\"service\": 4.0, \"cleanliness\": 5.0, \"overall\": 4.0, \"value\": 3.0, \"location\": 5.0, \"sleep_quality\": 4.0, \"rooms\": 4.0}, \"title\": \"\\\\u201cGreat location and service\\\\u201d\", \"text\": \"Close to Union Square - hotel is a bit of a maze to get to the lobby. Rooms are quickly accessed via speedy elevators. Rooms are highly funcational with flat screen large TV\\'s and bed have pillow tops. All very good and what you would expect from a 4 star plus hotel.\", \"author\": {\"username\": \"Moonstonemoclips\", \"num_cities\": 31, \"num_helpful_votes\": 27, \"num_reviews\": 48, \"num_type_reviews\": 32, \"id\": \"F3D0CF371B788300E73A1413B2DABB4B\", \"location\": \"Kirkland\"}, \"date_stayed\": \"October 2010\", \"offering_id\": 80793, \"num_helpful_votes\": 0, \"date\": \"October 25, 2010\", \"id\": 84805430, \"via_mobile\": false}\\n',\n",
       " '{\"ratings\": {\"service\": 3.0, \"cleanliness\": 2.0, \"overall\": 2.0, \"value\": 1.0, \"location\": 4.0, \"sleep_quality\": 1.0, \"rooms\": 1.0}, \"title\": \"\\\\u201cI will never go back here again!\\\\u201d\", \"text\": \"I had a bad vibe about this place from the moment I walked in. The main lobby had very dim lighting, probably to cover up the fatigue of the place. We paid for a King suite and were supposed to get a free upgrade to a deluxe king because I had clicked on a facebook link when I made the reservations on the hotel website. The first room we were given was very big but very bare as it was poorly furnished. The room had no view at all. When we complained they supposedly upgraded us to a street view room which was much smaller, and had a queen size bed, not a king as we had expected. Instead of complaining again we decided just to deal with it. My issues with the room were the following: the bed was right at the door to the room and there was only one nightstand. The television was at the far side of the room, too far for comfortable viewing. There were no comfortable chairs (just a desk chair). There was a wet spot on the rug which of course I only noticed after I put my clean socks on. The bathroom was tiny and narrow. If you opted to leave the door open so as not to feel closed in, you would be unable to reach the toilet paper which was on the wall behind the open door. Very strange arrangement. That night the work on the street started just as we put our heads on the pillow. We called the desk to complain about this hoping for another room so we would be able to sleep. We were told there was nothing available but were given a free buffet breakfast. Thank goodness it was free because it certainly wasn\\'t worth $25 per person. This hotel was overpriced and in need up some upgrading. I would never recommend this hotel.\", \"author\": {\"username\": \"JoanellenJ\", \"num_cities\": 10, \"num_helpful_votes\": 9, \"num_reviews\": 22, \"num_type_reviews\": 5, \"id\": \"BC6BC07F81B768F78B6CE17A18762C11\", \"location\": \"New York\"}, \"date_stayed\": \"June 2012\", \"offering_id\": 111418, \"num_helpful_votes\": 1, \"date\": \"June 28, 2012\", \"id\": 132971117, \"via_mobile\": false}\\n',\n",
       " '{\"ratings\": {\"overall\": 1.0}, \"title\": \"\\\\u201cRipped off our VISA card after departure\\\\u201d\", \"text\": \"After we received our \\\\\"final\\\\\" bill and left the Empire, they assessed another $60 charge on our credit card. Called accounting and sent email to ask for justification; no response. Have asked our credit card company to withhold payment.\", \"author\": {\"username\": \"Lynnworks\", \"num_cities\": 3, \"num_helpful_votes\": 7, \"num_reviews\": 3, \"num_type_reviews\": 3, \"id\": \"F7E9D044FA2554FD06A871289312E043\", \"location\": \"Providence\"}, \"date_stayed\": \"January 2012\", \"offering_id\": 671150, \"num_helpful_votes\": 3, \"date\": \"February 4, 2012\", \"id\": 124104157, \"via_mobile\": false}\\n']"
      ]
     },
     "execution_count": 1,
     "metadata": {},
     "output_type": "execute_result"
    }
   ],
   "source": [
    "import json\n",
    "\n",
    "file_path = 'random_30000_hotel_reviews.JSON'\n",
    "with open(file_path, 'r', encoding='utf-8') as file:\n",
    "    lines = [next(file) for _ in range(5)]\n",
    "\n",
    "lines"
   ]
  },
  {
   "cell_type": "code",
   "execution_count": 2,
   "id": "0b1e9efa",
   "metadata": {},
   "outputs": [
    {
     "name": "stdout",
     "output_type": "stream",
     "text": [
      "Training data size: 10000\n",
      "Development data size: 10000\n",
      "Test data size: 10000\n"
     ]
    }
   ],
   "source": [
    "import json\n",
    "import re\n",
    "\n",
    "def clean_and_tokenize(text):\n",
    "    cleaned_text = re.sub(r'\\W+', ' ', text)\n",
    "    tokens = cleaned_text.split()\n",
    "    return tokens\n",
    "\n",
    "training_data = []\n",
    "development_data = []\n",
    "test_data = []\n",
    "\n",
    "with open(file_path, 'r', encoding='utf-8') as file:\n",
    "    for i, line in enumerate(file):\n",
    "        entry = json.loads(line)\n",
    "        full_text = entry['title'] + \" \" + entry['text']\n",
    "        tokens = clean_and_tokenize(full_text)\n",
    "        if i < 10000:\n",
    "            training_data.append((tokens, entry['ratings']['overall']))\n",
    "        elif i < 20000:\n",
    "            development_data.append((tokens, entry['ratings']['overall']))\n",
    "        elif i < 30000:\n",
    "            test_data.append((tokens, entry['ratings']['overall']))\n",
    "        else:\n",
    "            break\n",
    "\n",
    "print(\"Training data size:\", len(training_data))\n",
    "print(\"Development data size:\", len(development_data))\n",
    "print(\"Test data size:\", len(test_data))"
   ]
  },
  {
   "attachments": {},
   "cell_type": "markdown",
   "id": "31d75afc",
   "metadata": {},
   "source": [
    "### 2. Exploratory Data Analysis (EDA)"
   ]
  },
  {
   "cell_type": "code",
   "execution_count": 3,
   "id": "2d286790",
   "metadata": {},
   "outputs": [
    {
     "data": {
      "image/png": "[encoded data removed]",
      "text/plain": [
       "<Figure size 1000x600 with 1 Axes>"
      ]
     },
     "metadata": {},
     "output_type": "display_data"
    }
   ],
   "source": [
    "import pandas as pd\n",
    "import matplotlib.pyplot as plt\n",
    "\n",
    "overall_ratings = [rating for _, rating in development_data]\n",
    "ratings_df = pd.DataFrame(overall_ratings, columns=['Overall Rating'])\n",
    "\n",
    "plt.figure(figsize=(10, 6))\n",
    "ratings_df['Overall Rating'].value_counts().sort_index().plot(kind='bar')\n",
    "plt.title('Distribution of Overall Ratings in the Development Dataset')\n",
    "plt.xlabel('Overall Rating')\n",
    "plt.ylabel('Number of Instances')\n",
    "plt.xticks(rotation=0)\n",
    "plt.grid(axis='y', linestyle='--')\n",
    "plt.show()"
   ]
  },
  {
   "cell_type": "code",
   "execution_count": 4,
   "id": "35c7fdf9",
   "metadata": {},
   "outputs": [
    {
     "name": "stdout",
     "output_type": "stream",
     "text": [
      "Number of unique words in the development dataset: 31736\n"
     ]
    }
   ],
   "source": [
    "from collections import Counter\n",
    "\n",
    "all_tokens_dev = [token for tokens, _ in development_data for token in tokens]\n",
    "word_counts = Counter(all_tokens_dev)\n",
    "num_unique_words = len(word_counts)\n",
    "\n",
    "print(\"Number of unique words in the development dataset:\", num_unique_words)"
   ]
  },
  {
   "attachments": {},
   "cell_type": "markdown",
   "id": "d4a554ee",
   "metadata": {},
   "source": [
    "SMOTE (Synthetic Minority Over-sampling Technique) helps to cope with the problem of the imbalance between the classes in the training data. Reasons to apply SMOTE:\n",
    "\n",
    "Dealing with class imbalance: Most of the real-world datasets, and hence the target distribution of the sentiment analysis task, suffer from being imbalanced. There is a problem with the imbalance associated with the training data having 'overall' ratings—a situation where some rating classes have much fewer samples compared to others. Generally, class imbalance leads to biased models that have the best accuracy for the majority class and perform poorly on the minority classes. Synthetic balancing can help in this by using SMOTE to create examples in the minority classes synthetically up to it balances the distribution of classes.\n",
    "\n",
    "Improving model performance: SMOTE is applied to the minority classes to help in oversampling so that during training, the model is exposed to a balanced dataset. In so doing, this may allow the opportunity to learn features and characteristics of the minority better and hence improve the performance in classification. This should give the model less bias towards the majority class and, hence, a more reasonable overall accuracy and F1 score."
   ]
  },
  {
   "attachments": {},
   "cell_type": "markdown",
   "id": "333cefa8",
   "metadata": {},
   "source": [
    "### 3. Preprocessing"
   ]
  },
  {
   "cell_type": "code",
   "execution_count": 5,
   "id": "c292820d",
   "metadata": {},
   "outputs": [
    {
     "data": {
      "text/plain": [
       "<Figure size 1000x600 with 0 Axes>"
      ]
     },
     "metadata": {},
     "output_type": "display_data"
    },
    {
     "data": {
      "image/png": "[encoded data removed]",
      "text/plain": [
       "<Figure size 1000x600 with 1 Axes>"
      ]
     },
     "metadata": {},
     "output_type": "display_data"
    }
   ],
   "source": [
    "review_lengths = [len(tokens) for tokens, _ in development_data]\n",
    "data_df = pd.DataFrame({'Review Length': review_lengths, 'Overall Rating': overall_ratings})\n",
    "\n",
    "plt.figure(figsize=(10, 6))\n",
    "data_df.boxplot(column='Review Length', by='Overall Rating', figsize=(10, 6))\n",
    "plt.title('Relationship between Review Length and Overall Rating')\n",
    "plt.suptitle(\"\")\n",
    "plt.xlabel('Overall Rating')\n",
    "plt.ylabel('Review Length')\n",
    "plt.xticks(rotation=0)\n",
    "plt.grid(axis='y', linestyle='--')\n",
    "plt.show()"
   ]
  },
  {
   "cell_type": "code",
   "execution_count": 6,
   "id": "54e54e8e",
   "metadata": {},
   "outputs": [
    {
     "name": "stdout",
     "output_type": "stream",
     "text": [
      "Distribution of 'overall' ratings after applying SMOTE:\n",
      "1.0    4136\n",
      "4.0    4136\n",
      "2.0    4136\n",
      "3.0    4136\n",
      "5.0    4136\n",
      "dtype: int64\n"
     ]
    }
   ],
   "source": [
    "from imblearn.over_sampling import SMOTE\n",
    "from sklearn.feature_extraction.text import CountVectorizer\n",
    "\n",
    "X_train = [tokens for tokens, _ in training_data]\n",
    "y_train = [rating for _, rating in training_data]\n",
    "X_train_str = [' '.join(tokens) for tokens in X_train]\n",
    "\n",
    "vectorizer = CountVectorizer()\n",
    "X_train_features = vectorizer.fit_transform(X_train_str)\n",
    "smote = SMOTE(random_state=42)\n",
    "X_train_resampled, y_train_resampled = smote.fit_resample(X_train_features, y_train)\n",
    "\n",
    "print(\"Distribution of 'overall' ratings after applying SMOTE:\")\n",
    "print(pd.Series(y_train_resampled).value_counts())"
   ]
  },
  {
   "attachments": {},
   "cell_type": "markdown",
   "id": "84874b33",
   "metadata": {},
   "source": [
    "Dataset Characteristics:\n",
    "\n",
    "Imbalanced Classes: The class sentiment rating in the dataset is highly imbalanced, as it predominantly represents higher ratings.\n",
    "\n",
    "High Textual Diversity: This is characterized by a large variety in the language used, including informal language very common in online reviews.\n",
    "\n",
    "Sentiment expression variation: these ways of showing sentiment are so varied in the way one expresses them either directly, sarcastically, or with irony.\n",
    "\n",
    "Analysis for Text-Processing Methods:\n",
    "\n",
    "Stop-Words Removal: Since a good number of reviews are informal, and there is very high textual diversity, there is an impending danger to lose important context in case stop-words are removed without caution. Nevertheless, in the context of verbosity in some reviews, the removal of common stop-words shall be affected by focusing on more sentiment-significant words.\n",
    "\n",
    "Lemmatization: This is evidence that standardizing words to their lemma could be helpful in identifying core sentiment more effectively, but at the same time, it has to be taken into account that it incurs computational costs and there is over-normalization.\n",
    "\n",
    "Lowercasing: Data Analysis Insight: The inconsistency of case usage in a casual dataset, combined with the use of online vernacular, means that standardizing by lowercasing removes some of the emotional emphasis shown in some casing."
   ]
  },
  {
   "attachments": {},
   "cell_type": "markdown",
   "id": "067cebcf",
   "metadata": {},
   "source": [
    "### 4. Selecting supervised method for sentiment classification"
   ]
  },
  {
   "cell_type": "code",
   "execution_count": 7,
   "id": "23c816a9",
   "metadata": {},
   "outputs": [],
   "source": [
    "from sklearn.naive_bayes import MultinomialNB\n",
    "from sklearn.metrics import accuracy_score, f1_score\n",
    "\n",
    "mnb = MultinomialNB()"
   ]
  },
  {
   "cell_type": "code",
   "execution_count": 8,
   "id": "12db8287",
   "metadata": {},
   "outputs": [
    {
     "name": "stdout",
     "output_type": "stream",
     "text": [
      "Evaluating None preprocessing...\n",
      "Accuracy: 0.6043\n",
      "F1 Score: 0.5916\n",
      "\n",
      "Evaluating Lowercase preprocessing...\n",
      "Accuracy: 0.6043\n",
      "F1 Score: 0.5916\n",
      "\n",
      "Evaluating Stop Words Removal preprocessing...\n",
      "Accuracy: 0.6021\n",
      "F1 Score: 0.5880\n",
      "\n",
      "Evaluating Lemmatization preprocessing...\n",
      "Accuracy: 0.6058\n",
      "F1 Score: 0.5937\n",
      "\n",
      "Evaluating Lowercase + Stop Words Removal + Lemmatization preprocessing...\n",
      "Accuracy: 0.6016\n",
      "F1 Score: 0.5891\n",
      "\n"
     ]
    }
   ],
   "source": [
    "from sklearn.model_selection import cross_validate\n",
    "from nltk.corpus import stopwords\n",
    "from nltk.stem import WordNetLemmatizer\n",
    "\n",
    "lemmatizer = WordNetLemmatizer()\n",
    "\n",
    "def preprocess_none(text):\n",
    "    return text\n",
    "\n",
    "def preprocess_lowercase(text):\n",
    "    return text.lower()\n",
    "\n",
    "def preprocess_stopwords(text):\n",
    "    stop_words = set(stopwords.words('english'))\n",
    "    tokens = text.split()\n",
    "    filtered_tokens = [token for token in tokens if token.lower() not in stop_words]\n",
    "    return ' '.join(filtered_tokens)\n",
    "\n",
    "def preprocess_lemmatize(text):\n",
    "    tokens = text.split()\n",
    "    lemmatized_tokens = [lemmatizer.lemmatize(token) for token in tokens]\n",
    "    return ' '.join(lemmatized_tokens)\n",
    "\n",
    "def preprocess_combined(text):\n",
    "    text = text.lower()\n",
    "    stop_words = set(stopwords.words('english'))\n",
    "    tokens = text.split()\n",
    "    filtered_tokens = [lemmatizer.lemmatize(token) for token in tokens if token.lower() not in stop_words]\n",
    "    return ' '.join(filtered_tokens)\n",
    "\n",
    "preprocess_methods = [\n",
    "    ('None', preprocess_none),\n",
    "    ('Lowercase', preprocess_lowercase),\n",
    "    ('Stop Words Removal', preprocess_stopwords),\n",
    "    ('Lemmatization', preprocess_lemmatize),\n",
    "    ('Lowercase + Stop Words Removal + Lemmatization', preprocess_combined)\n",
    "]\n",
    "\n",
    "for method_name, preprocess_func in preprocess_methods:\n",
    "    print(f\"Evaluating {method_name} preprocessing...\")\n",
    "    \n",
    "    X_train_preprocessed = [preprocess_func(text) for text in X_train_str]\n",
    "    vectorizer = CountVectorizer()\n",
    "    X_train_features = vectorizer.fit_transform(X_train_preprocessed)\n",
    "    \n",
    "    cv_scores = cross_validate(mnb, X_train_features, y_train, cv=10, scoring=['accuracy', 'f1_weighted'])\n",
    "    \n",
    "    print(f\"Accuracy: {cv_scores['test_accuracy'].mean():.4f}\")\n",
    "    print(f\"F1 Score: {cv_scores['test_f1_weighted'].mean():.4f}\")\n",
    "    print()"
   ]
  },
  {
   "attachments": {},
   "cell_type": "markdown",
   "id": "751aae23",
   "metadata": {},
   "source": [
    "Suitability of MNB for text classification: MNB is a kind of probability classifier and has been extensively used in text classification tasks. It is based on word frequency distribution through the multinomial model and suitably handles high-dimensional sparse text data. In general, multinomial naive Bayes performs well in a sentiment analysis and other text classification tasks, particularly with a small to medium-sized dataset. MNB, being very fast both in training and prediction times, could be a very good reference model to others in text classification.\n",
    "\n",
    "Accuracy as an overall measure of classification performance: This intuitive evaluation metric evidently represents the proportion of the number of samples correctly classified to the total number of samples. It does provide an overall performance of the classifier and, thus, is very suitable for a quick evaluation of the classification task. Very suitable and the most used method in applications when the class distribution is similar. However, in a case of imbalanced class distribution, there exists a majority class that accuracy would surrender to and hence be irrelevant.\n",
    "\n",
    "F1 Score takes both Precision and Recall for the two classes. F1 Score is the harmonic mean of Precision and Recall. Precision calculates the true positive samples with those predicted as positive samples from the classifier. On the other hand, precision recalls the proportion of true-positive samples that are correctly predicted as positive by the classifier. F1 score combines the two and therefore would give an overall evaluation of the performance of the classifier, especially when dealing with an imbalanced class distribution. An overall F1 Score may be derived by calculating the F1 Score of each class, and then finally averaging it—either macro or micro."
   ]
  },
  {
   "attachments": {},
   "cell_type": "markdown",
   "id": "333ba5cb",
   "metadata": {},
   "source": [
    "### 5. Sentiment classification using VADER lexicon and method"
   ]
  },
  {
   "cell_type": "code",
   "execution_count": 9,
   "id": "58a6ebe4",
   "metadata": {},
   "outputs": [
    {
     "name": "stdout",
     "output_type": "stream",
     "text": [
      "VADER Accuracy: 0.4052\n",
      "VADER F1 Score: 0.2344\n"
     ]
    }
   ],
   "source": [
    "from vaderSentiment.vaderSentiment import SentimentIntensityAnalyzer\n",
    "\n",
    "def preprocess_vader(text):\n",
    "    return ' '.join(text)\n",
    "\n",
    "X_dev = [tokens for tokens, _ in development_data]\n",
    "X_dev_str = [preprocess_vader(' '.join(tokens)) for tokens in X_dev]\n",
    "y_dev = [rating for _, rating in development_data]\n",
    "\n",
    "analyzer = SentimentIntensityAnalyzer()\n",
    "vader_predictions = []\n",
    "for text in X_dev_str:\n",
    "    vs = analyzer.polarity_scores(text)\n",
    "    vader_predictions.append(vs['compound'])\n",
    "\n",
    "def vader_to_rating(score):\n",
    "    if score >= 0.5:\n",
    "        return 5\n",
    "    elif score >= 0.1:\n",
    "        return 4\n",
    "    elif score >= -0.1:\n",
    "        return 3\n",
    "    elif score >= -0.5:\n",
    "        return 2\n",
    "    else:\n",
    "        return 1\n",
    "\n",
    "vader_ratings = [vader_to_rating(score) for score in vader_predictions]\n",
    "vader_accuracy = accuracy_score(y_dev, vader_ratings)\n",
    "vader_f1 = f1_score(y_dev, vader_ratings, average='weighted')\n",
    "\n",
    "print(f\"VADER Accuracy: {vader_accuracy:.4f}\")\n",
    "print(f\"VADER F1 Score: {vader_f1:.4f}\")"
   ]
  },
  {
   "attachments": {},
   "cell_type": "markdown",
   "id": "0e8f6d83",
   "metadata": {},
   "source": [
    "Best preprocessing method from 4.3:\n",
    "\n",
    "Lemmatization\n",
    "\n",
    "Accuracy: 0.6058\n",
    "\n",
    "F1 Score: 0.5937\n",
    "\n",
    "VADER sentiment analysis:\n",
    "\n",
    "Accuracy: 0.4052\n",
    "\n",
    "F1 Score: 0.2344\n",
    "\n",
    "Observations and comments:\n",
    "\n",
    "Performance difference: The best pre-processing method from point 4.3 (lemmatization) is much better than VADER sentiment analysis. The best accuracy obtained with the lemmatization preprocessing is 0.6058, which is much better than the VADER accuracy of 0.4052. Similarly, the F1 Score of Lemmatization (0.5937) is much higher than the F1 Score of VADER (0.2344). \n",
    "\n",
    "Preprocessing techniques in performance: This is a statement that sets the basis that preprocessing techniques—lowercase, stop word, and lemmatization—all have the capability to improve model performance. Of all the considered pre-processing techniques, actually, lemmatization resulted in the best performance, reflecting effective normalization of words toward a base or dictionary form—very important to the capture of semantic resemblance for improved performance of the model. \n",
    "\n",
    "VADER limitations: The fact that VADER scores lower than the machine learning approach with preprocessing would propose some kind of incapability on the part of VADER to predict the sentiment ratings in this dataset accurately. VADER adopts a rule-based approach and a predefined lexicon. Such an approach often loses the subtlety and sentiment specific to context in reviews of hotels. Some of the issues with VADER, related to its rule-based approach, are the complexity of language, domain-specific terminologies, and varying expressions in the reviews."
   ]
  },
  {
   "attachments": {},
   "cell_type": "markdown",
   "id": "ba7ea3a2",
   "metadata": {},
   "source": [
    "### 6. Combining VADER with the best classifier"
   ]
  },
  {
   "cell_type": "code",
   "execution_count": 15,
   "id": "99cf2087",
   "metadata": {},
   "outputs": [
    {
     "name": "stdout",
     "output_type": "stream",
     "text": [
      "Combined Method Accuracy: 0.6124\n",
      "Combined Method F1 Score: 0.6046\n"
     ]
    }
   ],
   "source": [
    "from sklearn.feature_extraction.text import CountVectorizer\n",
    "from sklearn.pipeline import Pipeline, FeatureUnion\n",
    "from sklearn.base import BaseEstimator, TransformerMixin\n",
    "from nltk.stem import WordNetLemmatizer\n",
    "import numpy as np\n",
    "\n",
    "class LemmatizeTransformer(BaseEstimator, TransformerMixin):\n",
    "    def __init__(self):\n",
    "        self.lemmatizer = WordNetLemmatizer()\n",
    "        \n",
    "    def fit(self, X, y=None):\n",
    "        return self\n",
    "    \n",
    "    def transform(self, X):\n",
    "        return [' '.join([self.lemmatizer.lemmatize(token) for token in text.split()]) for text in X]\n",
    "\n",
    "class VaderFeatures(BaseEstimator, TransformerMixin):\n",
    "    def __init__(self):\n",
    "        self.analyzer = SentimentIntensityAnalyzer()\n",
    "        \n",
    "    def fit(self, X, y=None):\n",
    "        return self\n",
    "    \n",
    "    def transform(self, X):\n",
    "        vader_scores = []\n",
    "        for text in X:\n",
    "            vs = self.analyzer.polarity_scores(text)\n",
    "            vader_scores.append([vs['neg'], vs['neu'], vs['pos'], vs['compound']])\n",
    "        \n",
    "        vader_scores = np.array(vader_scores)\n",
    "        min_value = np.min(vader_scores)\n",
    "        if min_value < 0:\n",
    "            vader_scores -= min_value\n",
    "        \n",
    "        return vader_scores\n",
    "\n",
    "X_train_str = [' '.join(tokens) for tokens in X_train]\n",
    "X_dev_str = [' '.join(tokens) for tokens in X_dev]\n",
    "\n",
    "vader_features = VaderFeatures()\n",
    "text_features = Pipeline([\n",
    "    ('lemmatize', LemmatizeTransformer()),\n",
    "    ('vectorize', CountVectorizer(ngram_range=(1, 2), min_df=2))\n",
    "])\n",
    "\n",
    "combined_features = FeatureUnion([\n",
    "    ('vader', vader_features),\n",
    "    ('text', text_features)\n",
    "])\n",
    "\n",
    "pipeline = Pipeline([\n",
    "    ('features', combined_features),\n",
    "    ('classifier', MultinomialNB(alpha=0.5))\n",
    "])\n",
    "\n",
    "pipeline.fit(X_train_str, y_train)\n",
    "y_pred = pipeline.predict(X_dev_str)\n",
    "\n",
    "combined_accuracy = accuracy_score(y_dev, y_pred)\n",
    "combined_f1 = f1_score(y_dev, y_pred, average='weighted')\n",
    "\n",
    "print(f\"Combined Method Accuracy: {combined_accuracy:.4f}\")\n",
    "print(f\"Combined Method F1 Score: {combined_f1:.4f}\")"
   ]
  },
  {
   "attachments": {},
   "cell_type": "markdown",
   "id": "dbb96304",
   "metadata": {},
   "source": [
    "Best preprocessing method from 4.3:\n",
    "\n",
    "Lemmatization\n",
    "\n",
    "Accuracy: 0.6058\n",
    "\n",
    "F1 Score: 0.5937\n",
    "\n",
    "VADER sentiment analysis from 5:\n",
    "\n",
    "Accuracy: 0.4052\n",
    "\n",
    "F1 Score: 0.2344\n",
    "\n",
    "Combined method:\n",
    "\n",
    "Accuracy: 0.6124\n",
    "\n",
    "F1 Score: 0.6046 \n",
    "\n",
    "Observations and comments:\n",
    "\n",
    "Improvement in the combined method: This shows improved sentiment classification by the combined approach of VADER sentiment features with the best preprocessing technique (lemmatization) among all compared approaches. Simultaneously, the combined method (0.6124) is more accurate than the best method of preprocessing only by a small number from Section 4.3 (0.6058) and significantly better than VADER alone (0.4052). At the same time, the combined method (0.6046) is better at classifying than the best preprocessing method (0.5937) and VADER (0.2344) through F1 Score. \n",
    "\n",
    "Synergy between VADER and preprocessing: The improved performance of the combined approach reveals the existence of synergy between the features extracted by VADER for sentiment analysis and preprocessing techniques. In other words, the method that leads to VADER sentiment scores combined with preprocessed text features would have captured the rule-based sentiment information in addition to patterns learned from such preprocessed data by such combined features. This combination improved the capability of making more accurate predictions and overall model performance. \n",
    "\n",
    "Limitation of using VADER alone as a sentiment analyzer: The results in point 5 show that using VADER alone as a sentiment analyzer returns much lower values for accuracy and F1 Score compared to the result when the preprocessing methods or combined method were used. This clearly indicates how risky it can be if one tries to make use of a rule-based approach, as with VADER, which may not in fact capture all the complexities and finer nuances reflected by the sentiment expressed in the hotel reviews. The sentiment ratings in this data are values based on lexicon and pre-specified rules in VADER."
   ]
  },
  {
   "attachments": {},
   "cell_type": "markdown",
   "id": "3b6798ac",
   "metadata": {},
   "source": [
    "1. Hutto, C.J. & Gilbert, E.E. (2014). VADER: A Parsimonious Rule-based Model for Sentiment Analysis of Social Media Text. Eighth International Conference on Weblogs and Social Media (ICWSM-14). Ann Arbor, MI, June 2014.\n",
    "\n",
    "2. Pedregosa, F., Varoquaux, G., Gramfort, A., Michel, V., Thirion, B., Grisel, O., ... & Duchesnay, E. (2011). Scikit-learn: Machine learning in Python. Journal of machine learning research, 12(Oct), 2825-2830."
   ]
  },
  {
   "attachments": {},
   "cell_type": "markdown",
   "id": "23d3d17f",
   "metadata": {},
   "source": [
    "### 7. Trainig and testing the final method"
   ]
  },
  {
   "cell_type": "code",
   "execution_count": 17,
   "id": "3d4dae7f",
   "metadata": {},
   "outputs": [
    {
     "name": "stdout",
     "output_type": "stream",
     "text": [
      "Test Set Accuracy: 0.6184\n",
      "Test Set F1 Score: 0.6109\n"
     ]
    }
   ],
   "source": [
    "from sklearn.feature_extraction.text import CountVectorizer\n",
    "from sklearn.pipeline import Pipeline\n",
    "from nltk.stem import WordNetLemmatizer\n",
    "\n",
    "class LemmatizeTransformer(BaseEstimator, TransformerMixin):\n",
    "    def __init__(self):\n",
    "        self.lemmatizer = WordNetLemmatizer()\n",
    "        \n",
    "    def fit(self, X, y=None):\n",
    "        return self\n",
    "    \n",
    "    def transform(self, X):\n",
    "        return [' '.join([self.lemmatizer.lemmatize(token) for token in text.split()]) for text in X]\n",
    "\n",
    "X_test = [tokens for tokens, _ in test_data]\n",
    "y_test = [rating for _, rating in test_data]\n",
    "X_train_str = [' '.join(tokens) for tokens in X_train]\n",
    "X_test_str = [' '.join(tokens) for tokens in X_test]\n",
    "\n",
    "pipeline = Pipeline([\n",
    "    ('lemmatize', LemmatizeTransformer()),\n",
    "    ('vectorize', CountVectorizer(ngram_range=(1, 2), min_df=2)),\n",
    "    ('classifier', MultinomialNB(alpha=0.5))\n",
    "])\n",
    "\n",
    "pipeline.fit(X_train_str, y_train)\n",
    "y_pred = pipeline.predict(X_test_str)\n",
    "\n",
    "test_accuracy = accuracy_score(y_test, y_pred)\n",
    "test_f1 = f1_score(y_test, y_pred, average='weighted')\n",
    "\n",
    "print(f\"Test Set Accuracy: {test_accuracy:.4f}\")\n",
    "print(f\"Test Set F1 Score: {test_f1:.4f}\")"
   ]
  },
  {
   "attachments": {},
   "cell_type": "markdown",
   "id": "9d9eb38f",
   "metadata": {},
   "source": [
    "Best preprocessing method from point 4:\n",
    "\n",
    "Lemmatization\n",
    "\n",
    "Development Set Accuracy: 0.6058\n",
    "\n",
    "Development Set F1 Score: 0.5937\n",
    "\n",
    "Final model (Lemmatization preprocessing, trained on training set, tested on test set):\n",
    "\n",
    "Test Set Accuracy: 0.6184\n",
    "\n",
    "Test Set F1 Score: 0.6109\n",
    "\n",
    "Observations and comments: \n",
    "\n",
    "Improvement in performance: The final model developed with preprocessing through Lemmatization is tested over the test set, which actually outperforms all other tested models over accuracy and F1 Score. Point 4 test set accuracy (0.6184) is a little higher than what was obtained on the development set (0.6058); similarly, the F1 Score at point 4 (0.6109) is a little higher than that on the development set (0.5937).\n",
    "\n",
    "Generalization to unseen data: Such an improvement on the test set, given that this final model is trained on the preprocessed training set, does generalize well to the unseen data. This preprocessing technique (Lemmatization) normalizes the text, at the same time capturing the semantic similarity, thus allowing the model to learn strong patterns and make accurate predictions on new unseen examples in the test set. \n",
    "\n",
    "Effectiveness of unsupervised preprocessing: The preprocessing step in the final model has been unsupervised; that means, it does not take into consideration what the sentiment ratings (target attribute) are, if at all, during the preprocessing phase. For example, lemmatization is applied totally independent of the text data, taking into account the sentiment labels. However, the increase in performance over the test set does give an indication that the unsupervised preprocessing technique did capture relevant features in an effective manner, which consequently resulted in improved predictive power."
   ]
  },
  {
   "attachments": {},
   "cell_type": "markdown",
   "id": "e8993010",
   "metadata": {},
   "source": [
    "### 8. Reviews aspect prediction"
   ]
  },
  {
   "attachments": {},
   "cell_type": "markdown",
   "id": "e2a4ff4d",
   "metadata": {},
   "source": [
    "This proposal looks at developing a method for the prediction of ratings on the different aspects, given the title and text content for each of the reviews. This task can be regarded as a multi-faceted sentiment analysis problem aimed at providing a comprehensive evaluation of the hotel experience through exploiting textual information that is available in the reviews.\n",
    "\n",
    "The proposed methodology involves several key steps. To this end, the review data will be cleaned and normalized in an attempt to make text aesthetically appealing by reducing noise and standardizing the input. Then, aspect-based techniques apply, which decide on the important aspects evoked in each review, either with the use of rule-based methods or using unsupervised learning approaches (Pontiki et al., 2016; Korfiatis and Poulos, 2013). Sentiment classification of finding the sentiment given to each aspect present in the reviews is done by use of either lexicon-based methods or machine learning methods (Asghar et al., 2018; Zhang et al., 2018).\n",
    "\n",
    "Accordingly, the scores or labels of the sentiment are mapped to the rating scales. For each of the developed aspects, based on the sentiment information, a rating prediction model estimates the numerical rating of the sentiment from the textual aspects (Symeonidis et al., 2018). This dataset will be divided into training, validation, and testing sets in order to evaluate the performance of the proposed multi-aspect sentiment analysis model. Afterwards, the trained hyperparameters and the further fine-tuned model using the validation set are going to be used to train on the training set. The final performance will be evaluated on the testing set using the proper metrics, such as the Mean Absolute Error, Root Mean Squared Error, or Mean Squared Error (Zhang et al., 2018). This evaluation will provide a guide to the capability of the model for successful aspect-rating predictions based on textual content from hotel reviews.\n",
    "\n",
    "To the best of my belief, in the current conclusion, a multi-aspect sentiment prediction approach is proposed to predict the ratings of a hotel's multi-aspect aspect in the reviews. The idea is, therefore, to provide a combination of those three mentioned technologies of aspect extraction, sentiment analysis, and rating prediction methods, which basically target offering a wider perspective of the hotel's services, so as to give a granular understanding of customer satisfaction. This is the possible application of this approach outside the hotel business, as one could rather easily adapt it to other multi-aspect sentiment analysis applications found useful, for instance, reviews of products or analysis of customer feedback."
   ]
  },
  {
   "attachments": {},
   "cell_type": "markdown",
   "id": "af38d9fc",
   "metadata": {},
   "source": [
    "### 9. References"
   ]
  },
  {
   "attachments": {},
   "cell_type": "markdown",
   "id": "66c18947",
   "metadata": {},
   "source": [
    "1. Asghar, M. Z., Khan, A., Ahmad, S., & Kundi, F. M. (2018). A review of feature extraction in sentiment analysis. Journal of Basic and Applied Scientific Research, 4(3), 181-186.\n",
    "\n",
    "2. Korfiatis, N., & Poulos, M. (2013). Using online consumer reviews as a source for demographic recommendations: A case study using online travel reviews. Expert Systems with Applications, 40(14), 5507-5515.\n",
    "\n",
    "3. Pontiki, M., Galanis, D., Pavlopoulos, J., Papageorgiou, H., Androutsopoulos, I., & Manandhar, S. (2016). SemEval-2016 task 5: Aspect based sentiment analysis. In Proceedings of the 10th International Workshop on Semantic Evaluation (SemEval-2016) (pp. 19-30).\n",
    "\n",
    "4. Symeonidis, S., Effrosynidis, D., & Arampatzis, A. (2018). A comparative evaluation of pre-processing techniques and their interactions for Twitter sentiment analysis. Expert Systems with Applications, 110, 298-310.\n",
    "\n",
    "5. Zhang, L., Wang, S., & Liu, B. (2018). Deep learning for sentiment analysis: A survey. Wiley Interdisciplinary Reviews: Data Mining and Knowledge Discovery, 8(4), e1253."
   ]
  }
 ],
 "metadata": {
  "kernelspec": {
   "display_name": "Python 3 (ipykernel)",
   "language": "python",
   "name": "python3"
  },
  "language_info": {
   "codemirror_mode": {
    "name": "ipython",
    "version": 3
   },
   "file_extension": ".py",
   "mimetype": "text/x-python",
   "name": "python",
   "nbconvert_exporter": "python",
   "pygments_lexer": "ipython3",
   "version": "3.11.9"
  }
 },
 "nbformat": 4,
 "nbformat_minor": 5
}
