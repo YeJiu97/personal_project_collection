{
 "cells": [
  {
   "cell_type": "code",
   "execution_count": 269,
   "id": "bc1d135c-3ac9-42cb-97c4-b013237bf423",
   "metadata": {},
   "outputs": [],
   "source": [
    "import warnings\n",
    "warnings.filterwarnings('ignore')"
   ]
  },
  {
   "cell_type": "markdown",
   "id": "f29c39fa-0a06-44b2-9b87-7436f8cd1b7f",
   "metadata": {},
   "source": [
    "# 背景"
   ]
  },
  {
   "cell_type": "markdown",
   "id": "daf2f09d-f3a6-46f9-b63a-bf91574ac574",
   "metadata": {},
   "source": [
    "定价优化是数据科学能够提供巨大价值的另一个领域。此次分析的目标是评估网站上运行的定价测试是否成功。\n",
    "\n",
    "在分析中，需要重点关注用户细分，并提供有关不同行为用户群体的见解，以及可能发现的其他有价值的洞察。"
   ]
  },
  {
   "cell_type": "markdown",
   "id": "7733e3f9-aaae-4921-b1b7-cbe422e76c44",
   "metadata": {},
   "source": [
    "XYZ公司销售一款软件，定价为 39。由于收入增长停滞不前，产品副总裁决定进行一次提价测试。她希望通过提高价格来增加收入。在实验中，66%的用户看到的是旧价格（39），而随机抽取的33%的用户看到的是更高的价格（59）。\n",
    "\n",
    "测试已经运行了一段时间，产品副总裁希望了解测试的结果，并考虑是否应该将所有用户的价格都提高。\n",
    "\n",
    "她特别想知道以下问题的答案：\n",
    "\n",
    "1. 公司应该将软件定价为39 还是 59？\n",
    "2. 产品副总裁希望全面了解用户行为，特别是关注可以提高转化率的可操作性见解。你在数据中发现了哪些主要的见解？\n",
    "3. **[额外问题]** 产品副总裁认为测试运行时间过长，她应该在更短的时间内就能得到具有统计显著性的结果。你是否同意她的直觉？你会在测试运行多少天后停止测试？请解释原因。"
   ]
  },
  {
   "cell_type": "markdown",
   "id": "fb9b6734-46ca-46f8-a4c9-77f231cd6a28",
   "metadata": {},
   "source": [
    "# 导入数据"
   ]
  },
  {
   "cell_type": "code",
   "execution_count": 270,
   "id": "1c44163c-a447-4a05-b165-48345662900f",
   "metadata": {},
   "outputs": [],
   "source": [
    "# 导入必备的库\n",
    "import numpy as np\n",
    "import pandas as pd\n",
    "import matplotlib.pyplot as plt\n",
    "import seaborn as sns\n",
    "\n",
    "%matplotlib inline"
   ]
  },
  {
   "cell_type": "markdown",
   "id": "965a9c99-c7d1-4c7f-9bfa-89bb85386f43",
   "metadata": {},
   "source": [
    "导入数据集："
   ]
  },
  {
   "cell_type": "code",
   "execution_count": 271,
   "id": "0a90ba6d-44ce-471a-8216-5c6f35b009ec",
   "metadata": {},
   "outputs": [],
   "source": [
    "user_data = pd.read_csv(\"./../dataset/06. Pricing_Test/user_table.csv\")"
   ]
  },
  {
   "cell_type": "code",
   "execution_count": 272,
   "id": "76163958-482e-42cf-a741-dc89ed94926b",
   "metadata": {},
   "outputs": [
    {
     "data": {
      "text/html": [
       "<div>\n",
       "<style scoped>\n",
       "    .dataframe tbody tr th:only-of-type {\n",
       "        vertical-align: middle;\n",
       "    }\n",
       "\n",
       "    .dataframe tbody tr th {\n",
       "        vertical-align: top;\n",
       "    }\n",
       "\n",
       "    .dataframe thead th {\n",
       "        text-align: right;\n",
       "    }\n",
       "</style>\n",
       "<table border=\"1\" class=\"dataframe\">\n",
       "  <thead>\n",
       "    <tr style=\"text-align: right;\">\n",
       "      <th></th>\n",
       "      <th>user_id</th>\n",
       "      <th>city</th>\n",
       "      <th>country</th>\n",
       "      <th>lat</th>\n",
       "      <th>long</th>\n",
       "    </tr>\n",
       "  </thead>\n",
       "  <tbody>\n",
       "    <tr>\n",
       "      <th>0</th>\n",
       "      <td>510335</td>\n",
       "      <td>Peabody</td>\n",
       "      <td>USA</td>\n",
       "      <td>42.53</td>\n",
       "      <td>-70.97</td>\n",
       "    </tr>\n",
       "    <tr>\n",
       "      <th>1</th>\n",
       "      <td>89568</td>\n",
       "      <td>Reno</td>\n",
       "      <td>USA</td>\n",
       "      <td>39.54</td>\n",
       "      <td>-119.82</td>\n",
       "    </tr>\n",
       "    <tr>\n",
       "      <th>2</th>\n",
       "      <td>434134</td>\n",
       "      <td>Rialto</td>\n",
       "      <td>USA</td>\n",
       "      <td>34.11</td>\n",
       "      <td>-117.39</td>\n",
       "    </tr>\n",
       "    <tr>\n",
       "      <th>3</th>\n",
       "      <td>289769</td>\n",
       "      <td>Carson City</td>\n",
       "      <td>USA</td>\n",
       "      <td>39.15</td>\n",
       "      <td>-119.74</td>\n",
       "    </tr>\n",
       "    <tr>\n",
       "      <th>4</th>\n",
       "      <td>939586</td>\n",
       "      <td>Chicago</td>\n",
       "      <td>USA</td>\n",
       "      <td>41.84</td>\n",
       "      <td>-87.68</td>\n",
       "    </tr>\n",
       "  </tbody>\n",
       "</table>\n",
       "</div>"
      ],
      "text/plain": [
       "   user_id         city country    lat    long\n",
       "0   510335      Peabody     USA  42.53  -70.97\n",
       "1    89568         Reno     USA  39.54 -119.82\n",
       "2   434134       Rialto     USA  34.11 -117.39\n",
       "3   289769  Carson City     USA  39.15 -119.74\n",
       "4   939586      Chicago     USA  41.84  -87.68"
      ]
     },
     "execution_count": 272,
     "metadata": {},
     "output_type": "execute_result"
    }
   ],
   "source": [
    "user_data.head()"
   ]
  },
  {
   "cell_type": "code",
   "execution_count": 273,
   "id": "20002a9a-4245-49f0-9249-b62bb776fccf",
   "metadata": {},
   "outputs": [],
   "source": [
    "test_data = pd.read_csv(\"./../dataset/06. Pricing_Test/test_results.csv\", parse_dates=['timestamp'])"
   ]
  },
  {
   "cell_type": "code",
   "execution_count": 274,
   "id": "2e174374-711a-4a2c-846c-c4a21db45635",
   "metadata": {},
   "outputs": [
    {
     "data": {
      "text/html": [
       "<div>\n",
       "<style scoped>\n",
       "    .dataframe tbody tr th:only-of-type {\n",
       "        vertical-align: middle;\n",
       "    }\n",
       "\n",
       "    .dataframe tbody tr th {\n",
       "        vertical-align: top;\n",
       "    }\n",
       "\n",
       "    .dataframe thead th {\n",
       "        text-align: right;\n",
       "    }\n",
       "</style>\n",
       "<table border=\"1\" class=\"dataframe\">\n",
       "  <thead>\n",
       "    <tr style=\"text-align: right;\">\n",
       "      <th></th>\n",
       "      <th>user_id</th>\n",
       "      <th>timestamp</th>\n",
       "      <th>source</th>\n",
       "      <th>device</th>\n",
       "      <th>operative_system</th>\n",
       "      <th>test</th>\n",
       "      <th>price</th>\n",
       "      <th>converted</th>\n",
       "    </tr>\n",
       "  </thead>\n",
       "  <tbody>\n",
       "    <tr>\n",
       "      <th>0</th>\n",
       "      <td>604839</td>\n",
       "      <td>2015-05-08 03:38:34</td>\n",
       "      <td>ads_facebook</td>\n",
       "      <td>mobile</td>\n",
       "      <td>iOS</td>\n",
       "      <td>0</td>\n",
       "      <td>39</td>\n",
       "      <td>0</td>\n",
       "    </tr>\n",
       "    <tr>\n",
       "      <th>1</th>\n",
       "      <td>624057</td>\n",
       "      <td>2015-05-10 21:08:46</td>\n",
       "      <td>seo-google</td>\n",
       "      <td>mobile</td>\n",
       "      <td>android</td>\n",
       "      <td>0</td>\n",
       "      <td>39</td>\n",
       "      <td>0</td>\n",
       "    </tr>\n",
       "    <tr>\n",
       "      <th>2</th>\n",
       "      <td>317970</td>\n",
       "      <td>2015-04-04 15:01:23</td>\n",
       "      <td>ads-bing</td>\n",
       "      <td>mobile</td>\n",
       "      <td>android</td>\n",
       "      <td>0</td>\n",
       "      <td>39</td>\n",
       "      <td>0</td>\n",
       "    </tr>\n",
       "    <tr>\n",
       "      <th>3</th>\n",
       "      <td>685636</td>\n",
       "      <td>2015-05-07 07:26:01</td>\n",
       "      <td>direct_traffic</td>\n",
       "      <td>mobile</td>\n",
       "      <td>iOS</td>\n",
       "      <td>1</td>\n",
       "      <td>59</td>\n",
       "      <td>0</td>\n",
       "    </tr>\n",
       "    <tr>\n",
       "      <th>4</th>\n",
       "      <td>820854</td>\n",
       "      <td>2015-05-24 11:04:40</td>\n",
       "      <td>ads_facebook</td>\n",
       "      <td>web</td>\n",
       "      <td>mac</td>\n",
       "      <td>0</td>\n",
       "      <td>39</td>\n",
       "      <td>0</td>\n",
       "    </tr>\n",
       "  </tbody>\n",
       "</table>\n",
       "</div>"
      ],
      "text/plain": [
       "   user_id            timestamp          source  device operative_system  \\\n",
       "0   604839  2015-05-08 03:38:34    ads_facebook  mobile              iOS   \n",
       "1   624057  2015-05-10 21:08:46      seo-google  mobile          android   \n",
       "2   317970  2015-04-04 15:01:23        ads-bing  mobile          android   \n",
       "3   685636  2015-05-07 07:26:01  direct_traffic  mobile              iOS   \n",
       "4   820854  2015-05-24 11:04:40    ads_facebook     web              mac   \n",
       "\n",
       "   test  price  converted  \n",
       "0     0     39          0  \n",
       "1     0     39          0  \n",
       "2     0     39          0  \n",
       "3     1     59          0  \n",
       "4     0     39          0  "
      ]
     },
     "execution_count": 274,
     "metadata": {},
     "output_type": "execute_result"
    }
   ],
   "source": [
    "test_data.head()"
   ]
  },
  {
   "cell_type": "markdown",
   "id": "73265c85-7f9a-4396-a533-806af584074d",
   "metadata": {},
   "source": [
    "查看一下缺失值的情况："
   ]
  },
  {
   "cell_type": "code",
   "execution_count": 275,
   "id": "bee17a2e-a2d4-402f-a344-eec18fd9d075",
   "metadata": {},
   "outputs": [
    {
     "data": {
      "text/plain": [
       "user_id    0\n",
       "city       0\n",
       "country    0\n",
       "lat        0\n",
       "long       0\n",
       "dtype: int64"
      ]
     },
     "execution_count": 275,
     "metadata": {},
     "output_type": "execute_result"
    }
   ],
   "source": [
    "user_data.isnull().sum()"
   ]
  },
  {
   "cell_type": "code",
   "execution_count": 276,
   "id": "61c8886e-926a-4c08-990a-14b5be5b8e4b",
   "metadata": {},
   "outputs": [
    {
     "data": {
      "text/plain": [
       "user_id             0\n",
       "timestamp           0\n",
       "source              0\n",
       "device              0\n",
       "operative_system    0\n",
       "test                0\n",
       "price               0\n",
       "converted           0\n",
       "dtype: int64"
      ]
     },
     "execution_count": 276,
     "metadata": {},
     "output_type": "execute_result"
    }
   ],
   "source": [
    "test_data.isnull().sum()"
   ]
  },
  {
   "cell_type": "markdown",
   "id": "f7285f02-197f-4952-ada1-c5e53acdfe98",
   "metadata": {},
   "source": [
    "都不存在着缺失值。"
   ]
  },
  {
   "cell_type": "markdown",
   "id": "ecc6ccc4-d221-49d2-a6e0-ea497cf559f5",
   "metadata": {},
   "source": [
    "# 数据处理"
   ]
  },
  {
   "cell_type": "markdown",
   "id": "d55481c2-8067-489d-b022-3307ab8a5ee2",
   "metadata": {},
   "source": [
    "查看一下其他的信息："
   ]
  },
  {
   "cell_type": "code",
   "execution_count": 277,
   "id": "5c5bea52-c55e-4513-b5d4-ba9278cdc75a",
   "metadata": {},
   "outputs": [
    {
     "name": "stdout",
     "output_type": "stream",
     "text": [
      "<class 'pandas.core.frame.DataFrame'>\n",
      "RangeIndex: 275616 entries, 0 to 275615\n",
      "Data columns (total 5 columns):\n",
      " #   Column   Non-Null Count   Dtype  \n",
      "---  ------   --------------   -----  \n",
      " 0   user_id  275616 non-null  int64  \n",
      " 1   city     275616 non-null  object \n",
      " 2   country  275616 non-null  object \n",
      " 3   lat      275616 non-null  float64\n",
      " 4   long     275616 non-null  float64\n",
      "dtypes: float64(2), int64(1), object(2)\n",
      "memory usage: 10.5+ MB\n"
     ]
    }
   ],
   "source": [
    "user_data.info()"
   ]
  },
  {
   "cell_type": "code",
   "execution_count": 278,
   "id": "68e20e19-c804-43c7-96f8-12186e406ecf",
   "metadata": {},
   "outputs": [
    {
     "name": "stdout",
     "output_type": "stream",
     "text": [
      "<class 'pandas.core.frame.DataFrame'>\n",
      "RangeIndex: 316800 entries, 0 to 316799\n",
      "Data columns (total 8 columns):\n",
      " #   Column            Non-Null Count   Dtype \n",
      "---  ------            --------------   ----- \n",
      " 0   user_id           316800 non-null  int64 \n",
      " 1   timestamp         316800 non-null  object\n",
      " 2   source            316800 non-null  object\n",
      " 3   device            316800 non-null  object\n",
      " 4   operative_system  316800 non-null  object\n",
      " 5   test              316800 non-null  int64 \n",
      " 6   price             316800 non-null  int64 \n",
      " 7   converted         316800 non-null  int64 \n",
      "dtypes: int64(4), object(4)\n",
      "memory usage: 19.3+ MB\n"
     ]
    }
   ],
   "source": [
    "test_data.info()"
   ]
  },
  {
   "cell_type": "markdown",
   "id": "9aa112ba-064f-4368-99dc-5f6e134f5698",
   "metadata": {},
   "source": [
    "从 info() 的结果来看，user_data 和 test_data 中的 user_id 数量是不匹配的：\n",
    "\n",
    "- user_data 中的 user_id 数量是 275,616。\n",
    "- test_data 中的 user_id 数量是 316,800。\n",
    "\n",
    "这可能意味着：\n",
    "\n",
    "- 不一致的用户记录：test_data 中的部分 user_id 在 user_data 中没有对应的记录，反之亦然。\n",
    "- 重复或缺失的记录：一种可能性是其中一个数据集存在重复的 user_id，或者另一个数据集中有缺失的 user_id。"
   ]
  },
  {
   "cell_type": "markdown",
   "id": "0c698db0-623d-45a9-a375-4bdd82612ce3",
   "metadata": {},
   "source": [
    "首先确定一下是否存在着重复值："
   ]
  },
  {
   "cell_type": "code",
   "execution_count": 279,
   "id": "19644bd9-0b0b-4c50-b993-2ca30f72dcaf",
   "metadata": {},
   "outputs": [],
   "source": [
    "# 检查 user_data 中的重复 user_id\n",
    "duplicate_user_ids_in_user_data = user_data[user_data.duplicated(subset='user_id', keep=False)]\n",
    "num_duplicates_user_data = duplicate_user_ids_in_user_data['user_id'].nunique()\n",
    "\n",
    "# 检查 test_data 中的重复 user_id\n",
    "duplicate_user_ids_in_test_data = test_data[test_data.duplicated(subset='user_id', keep=False)]\n",
    "num_duplicates_test_data = duplicate_user_ids_in_test_data['user_id'].nunique()"
   ]
  },
  {
   "cell_type": "code",
   "execution_count": 280,
   "id": "e2c34e89-5852-4915-afa0-7863c3152a11",
   "metadata": {},
   "outputs": [
    {
     "data": {
      "text/plain": [
       "(0, 0)"
      ]
     },
     "execution_count": 280,
     "metadata": {},
     "output_type": "execute_result"
    }
   ],
   "source": [
    "num_duplicates_user_data, num_duplicates_test_data"
   ]
  },
  {
   "cell_type": "markdown",
   "id": "1e5a8e2d-d943-4700-90f5-ce130707a081",
   "metadata": {},
   "source": [
    "可以认为两个数据集中都不存在着重复值。"
   ]
  },
  {
   "cell_type": "markdown",
   "id": "bb286caf-9fac-4f33-a8bd-bc896f067008",
   "metadata": {},
   "source": [
    "接着查看的是数据集的重叠部分，各自的独特部分："
   ]
  },
  {
   "cell_type": "code",
   "execution_count": 281,
   "id": "83cb7fc8-2259-47cd-a8e3-478946edbe99",
   "metadata": {},
   "outputs": [],
   "source": [
    "# 查找 user_data 和 test_data 中重叠的和不重叠的 user_id\n",
    "\n",
    "# 提取两个数据集中所有的 user_id\n",
    "user_ids_user_data = set(user_data['user_id'])\n",
    "user_ids_test_data = set(test_data['user_id'])\n",
    "\n",
    "# 计算重叠的 user_id 数量\n",
    "overlap_user_ids = user_ids_user_data & user_ids_test_data\n",
    "num_overlap_user_ids = len(overlap_user_ids)\n",
    "\n",
    "# 计算 user_data 中不重叠的 user_id 数量\n",
    "num_non_overlap_user_data = len(user_ids_user_data - user_ids_test_data)\n",
    "\n",
    "# 计算 test_data 中不重叠的 user_id 数量\n",
    "num_non_overlap_test_data = len(user_ids_test_data - user_ids_user_data)"
   ]
  },
  {
   "cell_type": "code",
   "execution_count": 282,
   "id": "0f9b1a8f-0604-4296-a0a1-2b6155ab0ae0",
   "metadata": {},
   "outputs": [
    {
     "data": {
      "text/plain": [
       "(275616, 0, 41184)"
      ]
     },
     "execution_count": 282,
     "metadata": {},
     "output_type": "execute_result"
    }
   ],
   "source": [
    "num_overlap_user_ids, num_non_overlap_user_data, num_non_overlap_test_data"
   ]
  },
  {
   "cell_type": "markdown",
   "id": "6fed677b-c6ca-44c2-8bef-b0de5cc5624d",
   "metadata": {},
   "source": [
    "上述的结果指出：\n",
    "\n",
    "1. **重叠的 `user_id` 数量**: 275,616  \n",
    "   这表示在两个数据集中共有 275,616 个 `user_id` 是相同的。\n",
    "\n",
    "2. **`user_data` 中不重叠的 `user_id` 数量**: 0  \n",
    "   这表示 `user_data` 中的所有 `user_id` 都出现在 `test_data` 中。\n",
    "\n",
    "3. **`test_data` 中不重叠的 `user_id` 数量**: 41,184  \n",
    "   这表示 `test_data` 中有 41,184 个 `user_id` 没有出现在 `user_data` 中。\n",
    "\n",
    "**结论**\n",
    "\n",
    "- **完全重叠**：`user_data` 中的所有用户都存在于 `test_data` 中。\n",
    "- **额外的用户**：`test_data` 中有 41,184 个用户没有在 `user_data` 中找到。\n",
    "\n",
    "这可能意味着 `test_data` 中包含了一些没有位置信息（city、country 等）的用户，或者这些用户在 `user_data` 中的记录丢失了。"
   ]
  },
  {
   "cell_type": "code",
   "execution_count": 283,
   "id": "d1fec1f7-cda1-43ad-9dc9-7681599809d4",
   "metadata": {},
   "outputs": [],
   "source": [
    "# 提取出 test_data 中不在 user_data 中的 user_id 对应的记录\n",
    "unique_test_data = test_data[test_data['user_id'].isin(user_ids_test_data - user_ids_user_data)]"
   ]
  },
  {
   "cell_type": "markdown",
   "id": "7bf6516a-5c10-4e05-b944-f188ce069833",
   "metadata": {},
   "source": [
    "开始进行合并："
   ]
  },
  {
   "cell_type": "code",
   "execution_count": 284,
   "id": "ec7fce9f-26ca-41d2-aac7-c6a2ef376b60",
   "metadata": {},
   "outputs": [],
   "source": [
    "# merge test_results with user_table\n",
    "data = pd.merge(left=test_data, right=user_data, how='left', on='user_id')"
   ]
  },
  {
   "cell_type": "code",
   "execution_count": 285,
   "id": "21b61c12-1c78-4ac4-83e0-c9f46a2c53dc",
   "metadata": {},
   "outputs": [
    {
     "data": {
      "text/html": [
       "<div>\n",
       "<style scoped>\n",
       "    .dataframe tbody tr th:only-of-type {\n",
       "        vertical-align: middle;\n",
       "    }\n",
       "\n",
       "    .dataframe tbody tr th {\n",
       "        vertical-align: top;\n",
       "    }\n",
       "\n",
       "    .dataframe thead th {\n",
       "        text-align: right;\n",
       "    }\n",
       "</style>\n",
       "<table border=\"1\" class=\"dataframe\">\n",
       "  <thead>\n",
       "    <tr style=\"text-align: right;\">\n",
       "      <th></th>\n",
       "      <th>user_id</th>\n",
       "      <th>timestamp</th>\n",
       "      <th>source</th>\n",
       "      <th>device</th>\n",
       "      <th>operative_system</th>\n",
       "      <th>test</th>\n",
       "      <th>price</th>\n",
       "      <th>converted</th>\n",
       "      <th>city</th>\n",
       "      <th>country</th>\n",
       "      <th>lat</th>\n",
       "      <th>long</th>\n",
       "    </tr>\n",
       "  </thead>\n",
       "  <tbody>\n",
       "    <tr>\n",
       "      <th>0</th>\n",
       "      <td>604839</td>\n",
       "      <td>2015-05-08 03:38:34</td>\n",
       "      <td>ads_facebook</td>\n",
       "      <td>mobile</td>\n",
       "      <td>iOS</td>\n",
       "      <td>0</td>\n",
       "      <td>39</td>\n",
       "      <td>0</td>\n",
       "      <td>Buffalo</td>\n",
       "      <td>USA</td>\n",
       "      <td>42.89</td>\n",
       "      <td>-78.86</td>\n",
       "    </tr>\n",
       "    <tr>\n",
       "      <th>1</th>\n",
       "      <td>624057</td>\n",
       "      <td>2015-05-10 21:08:46</td>\n",
       "      <td>seo-google</td>\n",
       "      <td>mobile</td>\n",
       "      <td>android</td>\n",
       "      <td>0</td>\n",
       "      <td>39</td>\n",
       "      <td>0</td>\n",
       "      <td>Lakeville</td>\n",
       "      <td>USA</td>\n",
       "      <td>44.68</td>\n",
       "      <td>-93.24</td>\n",
       "    </tr>\n",
       "    <tr>\n",
       "      <th>2</th>\n",
       "      <td>317970</td>\n",
       "      <td>2015-04-04 15:01:23</td>\n",
       "      <td>ads-bing</td>\n",
       "      <td>mobile</td>\n",
       "      <td>android</td>\n",
       "      <td>0</td>\n",
       "      <td>39</td>\n",
       "      <td>0</td>\n",
       "      <td>Parma</td>\n",
       "      <td>USA</td>\n",
       "      <td>41.38</td>\n",
       "      <td>-81.73</td>\n",
       "    </tr>\n",
       "    <tr>\n",
       "      <th>3</th>\n",
       "      <td>685636</td>\n",
       "      <td>2015-05-07 07:26:01</td>\n",
       "      <td>direct_traffic</td>\n",
       "      <td>mobile</td>\n",
       "      <td>iOS</td>\n",
       "      <td>1</td>\n",
       "      <td>59</td>\n",
       "      <td>0</td>\n",
       "      <td>Fayetteville</td>\n",
       "      <td>USA</td>\n",
       "      <td>35.07</td>\n",
       "      <td>-78.90</td>\n",
       "    </tr>\n",
       "    <tr>\n",
       "      <th>4</th>\n",
       "      <td>820854</td>\n",
       "      <td>2015-05-24 11:04:40</td>\n",
       "      <td>ads_facebook</td>\n",
       "      <td>web</td>\n",
       "      <td>mac</td>\n",
       "      <td>0</td>\n",
       "      <td>39</td>\n",
       "      <td>0</td>\n",
       "      <td>Fishers</td>\n",
       "      <td>USA</td>\n",
       "      <td>39.95</td>\n",
       "      <td>-86.02</td>\n",
       "    </tr>\n",
       "  </tbody>\n",
       "</table>\n",
       "</div>"
      ],
      "text/plain": [
       "   user_id            timestamp          source  device operative_system  \\\n",
       "0   604839  2015-05-08 03:38:34    ads_facebook  mobile              iOS   \n",
       "1   624057  2015-05-10 21:08:46      seo-google  mobile          android   \n",
       "2   317970  2015-04-04 15:01:23        ads-bing  mobile          android   \n",
       "3   685636  2015-05-07 07:26:01  direct_traffic  mobile              iOS   \n",
       "4   820854  2015-05-24 11:04:40    ads_facebook     web              mac   \n",
       "\n",
       "   test  price  converted          city country    lat   long  \n",
       "0     0     39          0       Buffalo     USA  42.89 -78.86  \n",
       "1     0     39          0     Lakeville     USA  44.68 -93.24  \n",
       "2     0     39          0         Parma     USA  41.38 -81.73  \n",
       "3     1     59          0  Fayetteville     USA  35.07 -78.90  \n",
       "4     0     39          0       Fishers     USA  39.95 -86.02  "
      ]
     },
     "execution_count": 285,
     "metadata": {},
     "output_type": "execute_result"
    }
   ],
   "source": [
    "data.head()"
   ]
  },
  {
   "cell_type": "code",
   "execution_count": 286,
   "id": "1903bf71-9841-4af1-b3eb-1563c571f176",
   "metadata": {},
   "outputs": [
    {
     "data": {
      "text/html": [
       "<div>\n",
       "<style scoped>\n",
       "    .dataframe tbody tr th:only-of-type {\n",
       "        vertical-align: middle;\n",
       "    }\n",
       "\n",
       "    .dataframe tbody tr th {\n",
       "        vertical-align: top;\n",
       "    }\n",
       "\n",
       "    .dataframe thead th {\n",
       "        text-align: right;\n",
       "    }\n",
       "</style>\n",
       "<table border=\"1\" class=\"dataframe\">\n",
       "  <thead>\n",
       "    <tr style=\"text-align: right;\">\n",
       "      <th></th>\n",
       "      <th></th>\n",
       "      <th>user_id</th>\n",
       "    </tr>\n",
       "    <tr>\n",
       "      <th>test</th>\n",
       "      <th>price</th>\n",
       "      <th></th>\n",
       "    </tr>\n",
       "  </thead>\n",
       "  <tbody>\n",
       "    <tr>\n",
       "      <th rowspan=\"2\" valign=\"top\">0</th>\n",
       "      <th>39</th>\n",
       "      <td>202517</td>\n",
       "    </tr>\n",
       "    <tr>\n",
       "      <th>59</th>\n",
       "      <td>210</td>\n",
       "    </tr>\n",
       "    <tr>\n",
       "      <th rowspan=\"2\" valign=\"top\">1</th>\n",
       "      <th>39</th>\n",
       "      <td>155</td>\n",
       "    </tr>\n",
       "    <tr>\n",
       "      <th>59</th>\n",
       "      <td>113918</td>\n",
       "    </tr>\n",
       "  </tbody>\n",
       "</table>\n",
       "</div>"
      ],
      "text/plain": [
       "            user_id\n",
       "test price         \n",
       "0    39      202517\n",
       "     59         210\n",
       "1    39         155\n",
       "     59      113918"
      ]
     },
     "execution_count": 286,
     "metadata": {},
     "output_type": "execute_result"
    }
   ],
   "source": [
    "# Problem with the data: test and price not match\n",
    "data[['price', 'test', 'user_id']].groupby(['test', 'price']).count()"
   ]
  },
  {
   "cell_type": "markdown",
   "id": "29f6f899-7dfc-42de-883a-e2cf144cb9ff",
   "metadata": {},
   "source": [
    "这个结果显示了在价格测试中，不同用户（user_id）对不同价格（price）的反应。具体数据如下：\n",
    "\n",
    "- 用户 `user_id` 为 `0` 的情况下，价格为 `39` 时，测试结果为 `202517`。同样，价格为 `59` 时，测试结果为 `210`。\n",
    "- 用户 `user_id` 为 `1` 的情况下，价格为 `39` 时，测试结果为 `155`。同样，价格为 `59` 时，测试结果为 `113918`。\n",
    "\n",
    "这是存在着问题的，如果测试设计中原价应该是 39，而新价格应该是 59，那么测试数据应当按照这一标准来记录。"
   ]
  },
  {
   "cell_type": "code",
   "execution_count": 287,
   "id": "0009fab0-c6db-4609-90ba-3ea3e190c5dc",
   "metadata": {},
   "outputs": [],
   "source": [
    "# 由于占比非常的低，所以采用直接移除来进行处理\n",
    "data = data[((data['test']==0) & (data['price']==39)) | ((data['test']==1) & (data['price']==59))]"
   ]
  },
  {
   "cell_type": "code",
   "execution_count": 288,
   "id": "ce2b2df7-3e64-4457-8fa6-c120da17ed9a",
   "metadata": {},
   "outputs": [
    {
     "data": {
      "text/html": [
       "<div>\n",
       "<style scoped>\n",
       "    .dataframe tbody tr th:only-of-type {\n",
       "        vertical-align: middle;\n",
       "    }\n",
       "\n",
       "    .dataframe tbody tr th {\n",
       "        vertical-align: top;\n",
       "    }\n",
       "\n",
       "    .dataframe thead th {\n",
       "        text-align: right;\n",
       "    }\n",
       "</style>\n",
       "<table border=\"1\" class=\"dataframe\">\n",
       "  <thead>\n",
       "    <tr style=\"text-align: right;\">\n",
       "      <th></th>\n",
       "      <th></th>\n",
       "      <th>user_id</th>\n",
       "    </tr>\n",
       "    <tr>\n",
       "      <th>test</th>\n",
       "      <th>price</th>\n",
       "      <th></th>\n",
       "    </tr>\n",
       "  </thead>\n",
       "  <tbody>\n",
       "    <tr>\n",
       "      <th>0</th>\n",
       "      <th>39</th>\n",
       "      <td>202517</td>\n",
       "    </tr>\n",
       "    <tr>\n",
       "      <th>1</th>\n",
       "      <th>59</th>\n",
       "      <td>113918</td>\n",
       "    </tr>\n",
       "  </tbody>\n",
       "</table>\n",
       "</div>"
      ],
      "text/plain": [
       "            user_id\n",
       "test price         \n",
       "0    39      202517\n",
       "1    59      113918"
      ]
     },
     "execution_count": 288,
     "metadata": {},
     "output_type": "execute_result"
    }
   ],
   "source": [
    "data[['price', 'test', 'user_id']].groupby(['test', 'price']).count()"
   ]
  },
  {
   "cell_type": "markdown",
   "id": "b83b26d9-945c-4c48-b48b-6962cb3f5f2e",
   "metadata": {},
   "source": [
    "现在完成了移除，接着生成一个新的变量，利润："
   ]
  },
  {
   "cell_type": "code",
   "execution_count": 289,
   "id": "405b0bb0-42b5-48b4-b44d-9c82eb14fe15",
   "metadata": {},
   "outputs": [],
   "source": [
    "data['revenue'] = data['converted'] * data['price']"
   ]
  },
  {
   "cell_type": "code",
   "execution_count": 290,
   "id": "9a3e32dc-97a4-4247-ba37-1a5d23f5a53b",
   "metadata": {},
   "outputs": [
    {
     "data": {
      "text/html": [
       "<div>\n",
       "<style scoped>\n",
       "    .dataframe tbody tr th:only-of-type {\n",
       "        vertical-align: middle;\n",
       "    }\n",
       "\n",
       "    .dataframe tbody tr th {\n",
       "        vertical-align: top;\n",
       "    }\n",
       "\n",
       "    .dataframe thead th {\n",
       "        text-align: right;\n",
       "    }\n",
       "</style>\n",
       "<table border=\"1\" class=\"dataframe\">\n",
       "  <thead>\n",
       "    <tr style=\"text-align: right;\">\n",
       "      <th></th>\n",
       "      <th>user_id</th>\n",
       "      <th>timestamp</th>\n",
       "      <th>source</th>\n",
       "      <th>device</th>\n",
       "      <th>operative_system</th>\n",
       "      <th>test</th>\n",
       "      <th>price</th>\n",
       "      <th>converted</th>\n",
       "      <th>city</th>\n",
       "      <th>country</th>\n",
       "      <th>lat</th>\n",
       "      <th>long</th>\n",
       "      <th>revenue</th>\n",
       "    </tr>\n",
       "  </thead>\n",
       "  <tbody>\n",
       "    <tr>\n",
       "      <th>0</th>\n",
       "      <td>604839</td>\n",
       "      <td>2015-05-08 03:38:34</td>\n",
       "      <td>ads_facebook</td>\n",
       "      <td>mobile</td>\n",
       "      <td>iOS</td>\n",
       "      <td>0</td>\n",
       "      <td>39</td>\n",
       "      <td>0</td>\n",
       "      <td>Buffalo</td>\n",
       "      <td>USA</td>\n",
       "      <td>42.89</td>\n",
       "      <td>-78.86</td>\n",
       "      <td>0</td>\n",
       "    </tr>\n",
       "    <tr>\n",
       "      <th>1</th>\n",
       "      <td>624057</td>\n",
       "      <td>2015-05-10 21:08:46</td>\n",
       "      <td>seo-google</td>\n",
       "      <td>mobile</td>\n",
       "      <td>android</td>\n",
       "      <td>0</td>\n",
       "      <td>39</td>\n",
       "      <td>0</td>\n",
       "      <td>Lakeville</td>\n",
       "      <td>USA</td>\n",
       "      <td>44.68</td>\n",
       "      <td>-93.24</td>\n",
       "      <td>0</td>\n",
       "    </tr>\n",
       "    <tr>\n",
       "      <th>2</th>\n",
       "      <td>317970</td>\n",
       "      <td>2015-04-04 15:01:23</td>\n",
       "      <td>ads-bing</td>\n",
       "      <td>mobile</td>\n",
       "      <td>android</td>\n",
       "      <td>0</td>\n",
       "      <td>39</td>\n",
       "      <td>0</td>\n",
       "      <td>Parma</td>\n",
       "      <td>USA</td>\n",
       "      <td>41.38</td>\n",
       "      <td>-81.73</td>\n",
       "      <td>0</td>\n",
       "    </tr>\n",
       "    <tr>\n",
       "      <th>3</th>\n",
       "      <td>685636</td>\n",
       "      <td>2015-05-07 07:26:01</td>\n",
       "      <td>direct_traffic</td>\n",
       "      <td>mobile</td>\n",
       "      <td>iOS</td>\n",
       "      <td>1</td>\n",
       "      <td>59</td>\n",
       "      <td>0</td>\n",
       "      <td>Fayetteville</td>\n",
       "      <td>USA</td>\n",
       "      <td>35.07</td>\n",
       "      <td>-78.90</td>\n",
       "      <td>0</td>\n",
       "    </tr>\n",
       "    <tr>\n",
       "      <th>4</th>\n",
       "      <td>820854</td>\n",
       "      <td>2015-05-24 11:04:40</td>\n",
       "      <td>ads_facebook</td>\n",
       "      <td>web</td>\n",
       "      <td>mac</td>\n",
       "      <td>0</td>\n",
       "      <td>39</td>\n",
       "      <td>0</td>\n",
       "      <td>Fishers</td>\n",
       "      <td>USA</td>\n",
       "      <td>39.95</td>\n",
       "      <td>-86.02</td>\n",
       "      <td>0</td>\n",
       "    </tr>\n",
       "  </tbody>\n",
       "</table>\n",
       "</div>"
      ],
      "text/plain": [
       "   user_id            timestamp          source  device operative_system  \\\n",
       "0   604839  2015-05-08 03:38:34    ads_facebook  mobile              iOS   \n",
       "1   624057  2015-05-10 21:08:46      seo-google  mobile          android   \n",
       "2   317970  2015-04-04 15:01:23        ads-bing  mobile          android   \n",
       "3   685636  2015-05-07 07:26:01  direct_traffic  mobile              iOS   \n",
       "4   820854  2015-05-24 11:04:40    ads_facebook     web              mac   \n",
       "\n",
       "   test  price  converted          city country    lat   long  revenue  \n",
       "0     0     39          0       Buffalo     USA  42.89 -78.86        0  \n",
       "1     0     39          0     Lakeville     USA  44.68 -93.24        0  \n",
       "2     0     39          0         Parma     USA  41.38 -81.73        0  \n",
       "3     1     59          0  Fayetteville     USA  35.07 -78.90        0  \n",
       "4     0     39          0       Fishers     USA  39.95 -86.02        0  "
      ]
     },
     "execution_count": 290,
     "metadata": {},
     "output_type": "execute_result"
    }
   ],
   "source": [
    "data.head()"
   ]
  },
  {
   "cell_type": "markdown",
   "id": "646bffba-6a4a-4811-b4cc-6ccd835d1cef",
   "metadata": {},
   "source": [
    "查看一下缺失值的分布情况："
   ]
  },
  {
   "cell_type": "code",
   "execution_count": 291,
   "id": "07cac868-c75d-40da-bc56-06aafd557c4a",
   "metadata": {},
   "outputs": [
    {
     "data": {
      "text/plain": [
       "user_id                 0\n",
       "timestamp               0\n",
       "source                  0\n",
       "device                  0\n",
       "operative_system        0\n",
       "test                    0\n",
       "price                   0\n",
       "converted               0\n",
       "city                41141\n",
       "country             41141\n",
       "lat                 41141\n",
       "long                41141\n",
       "revenue                 0\n",
       "dtype: int64"
      ]
     },
     "execution_count": 291,
     "metadata": {},
     "output_type": "execute_result"
    }
   ],
   "source": [
    "data.isnull().sum()"
   ]
  },
  {
   "cell_type": "markdown",
   "id": "bc00f1bb-34fc-48ad-a8c3-3429036d5b36",
   "metadata": {},
   "source": [
    "# 可视化"
   ]
  },
  {
   "cell_type": "markdown",
   "id": "842d71e3-107e-4b91-adfd-75b09374ee93",
   "metadata": {},
   "source": [
    "我们需要可视化test 0和test 1中的不同特征的分布情况，这些特征的分布应该是近似的，如果存在着较大的差异，则可以视作进行随机抽样的时候出现了问题。"
   ]
  },
  {
   "cell_type": "markdown",
   "id": "a2dc8e62-6b16-4919-8502-0dfaafda79a2",
   "metadata": {},
   "source": [
    "**source**"
   ]
  },
  {
   "cell_type": "code",
   "execution_count": 292,
   "id": "fb5555a5-261d-4f8e-9b42-0c8fd39f8dfd",
   "metadata": {},
   "outputs": [],
   "source": [
    "# source\n",
    "source = data.groupby('test')['source'].apply(lambda x: x.value_counts(normalize=True))# .unstack()"
   ]
  },
  {
   "cell_type": "code",
   "execution_count": 293,
   "id": "ceeab26b-7cfe-468d-9646-427e7de917f1",
   "metadata": {},
   "outputs": [
    {
     "data": {
      "text/plain": [
       "test                 \n",
       "0     direct_traffic     0.191154\n",
       "      ads-google         0.186873\n",
       "      ads_facebook       0.168253\n",
       "      ads_other          0.095083\n",
       "      seo-google         0.074502\n",
       "      ads-bing           0.072014\n",
       "      seo_facebook       0.066468\n",
       "      friend_referral    0.064790\n",
       "      seo-other          0.029030\n",
       "      ads-yahoo          0.023761\n",
       "      seo-yahoo          0.021509\n",
       "      seo-bing           0.006562\n",
       "1     direct_traffic     0.189259\n",
       "      ads-google         0.188706\n",
       "      ads_facebook       0.169253\n",
       "      ads_other          0.092786\n",
       "      ads-bing           0.072394\n",
       "      seo-google         0.070753\n",
       "      seo_facebook       0.067786\n",
       "      friend_referral    0.066337\n",
       "      seo-other          0.029539\n",
       "      ads-yahoo          0.024219\n",
       "      seo-yahoo          0.021814\n",
       "      seo-bing           0.007154\n",
       "Name: source, dtype: float64"
      ]
     },
     "execution_count": 293,
     "metadata": {},
     "output_type": "execute_result"
    }
   ],
   "source": [
    "source"
   ]
  },
  {
   "cell_type": "code",
   "execution_count": 294,
   "id": "66a3e7a4-c625-476d-963e-954cd0de762c",
   "metadata": {},
   "outputs": [],
   "source": [
    "source = data.groupby('test')['source'].apply(lambda x: x.value_counts(normalize=True)).unstack()"
   ]
  },
  {
   "cell_type": "code",
   "execution_count": 295,
   "id": "28790e7b-b8e1-4a71-beac-ad479ebc9dbb",
   "metadata": {},
   "outputs": [
    {
     "data": {
      "text/html": [
       "<div>\n",
       "<style scoped>\n",
       "    .dataframe tbody tr th:only-of-type {\n",
       "        vertical-align: middle;\n",
       "    }\n",
       "\n",
       "    .dataframe tbody tr th {\n",
       "        vertical-align: top;\n",
       "    }\n",
       "\n",
       "    .dataframe thead th {\n",
       "        text-align: right;\n",
       "    }\n",
       "</style>\n",
       "<table border=\"1\" class=\"dataframe\">\n",
       "  <thead>\n",
       "    <tr style=\"text-align: right;\">\n",
       "      <th></th>\n",
       "      <th>ads-bing</th>\n",
       "      <th>ads-google</th>\n",
       "      <th>ads-yahoo</th>\n",
       "      <th>ads_facebook</th>\n",
       "      <th>ads_other</th>\n",
       "      <th>direct_traffic</th>\n",
       "      <th>friend_referral</th>\n",
       "      <th>seo-bing</th>\n",
       "      <th>seo-google</th>\n",
       "      <th>seo-other</th>\n",
       "      <th>seo-yahoo</th>\n",
       "      <th>seo_facebook</th>\n",
       "    </tr>\n",
       "    <tr>\n",
       "      <th>test</th>\n",
       "      <th></th>\n",
       "      <th></th>\n",
       "      <th></th>\n",
       "      <th></th>\n",
       "      <th></th>\n",
       "      <th></th>\n",
       "      <th></th>\n",
       "      <th></th>\n",
       "      <th></th>\n",
       "      <th></th>\n",
       "      <th></th>\n",
       "      <th></th>\n",
       "    </tr>\n",
       "  </thead>\n",
       "  <tbody>\n",
       "    <tr>\n",
       "      <th>0</th>\n",
       "      <td>0.072014</td>\n",
       "      <td>0.186873</td>\n",
       "      <td>0.023761</td>\n",
       "      <td>0.168253</td>\n",
       "      <td>0.095083</td>\n",
       "      <td>0.191154</td>\n",
       "      <td>0.064790</td>\n",
       "      <td>0.006562</td>\n",
       "      <td>0.074502</td>\n",
       "      <td>0.029030</td>\n",
       "      <td>0.021509</td>\n",
       "      <td>0.066468</td>\n",
       "    </tr>\n",
       "    <tr>\n",
       "      <th>1</th>\n",
       "      <td>0.072394</td>\n",
       "      <td>0.188706</td>\n",
       "      <td>0.024219</td>\n",
       "      <td>0.169253</td>\n",
       "      <td>0.092786</td>\n",
       "      <td>0.189259</td>\n",
       "      <td>0.066337</td>\n",
       "      <td>0.007154</td>\n",
       "      <td>0.070753</td>\n",
       "      <td>0.029539</td>\n",
       "      <td>0.021814</td>\n",
       "      <td>0.067786</td>\n",
       "    </tr>\n",
       "  </tbody>\n",
       "</table>\n",
       "</div>"
      ],
      "text/plain": [
       "      ads-bing  ads-google  ads-yahoo  ads_facebook  ads_other  \\\n",
       "test                                                             \n",
       "0     0.072014    0.186873   0.023761      0.168253   0.095083   \n",
       "1     0.072394    0.188706   0.024219      0.169253   0.092786   \n",
       "\n",
       "      direct_traffic  friend_referral  seo-bing  seo-google  seo-other  \\\n",
       "test                                                                     \n",
       "0           0.191154         0.064790  0.006562    0.074502   0.029030   \n",
       "1           0.189259         0.066337  0.007154    0.070753   0.029539   \n",
       "\n",
       "      seo-yahoo  seo_facebook  \n",
       "test                           \n",
       "0      0.021509      0.066468  \n",
       "1      0.021814      0.067786  "
      ]
     },
     "execution_count": 295,
     "metadata": {},
     "output_type": "execute_result"
    }
   ],
   "source": [
    "source"
   ]
  },
  {
   "cell_type": "markdown",
   "id": "0b74fb56-98bc-4994-944c-6cbe140d10a7",
   "metadata": {},
   "source": [
    "接着进行可视化："
   ]
  },
  {
   "cell_type": "code",
   "execution_count": 296,
   "id": "cd1bcb55-36c0-4fac-ba6c-2ace79f1fe4b",
   "metadata": {},
   "outputs": [
    {
     "data": {
      "image/png": "[encoded data removed]",
      "text/plain": [
       "<Figure size 1200x600 with 1 Axes>"
      ]
     },
     "metadata": {},
     "output_type": "display_data"
    }
   ],
   "source": [
    "fig, ax = plt.subplots(figsize=(12, 6))\n",
    "source.plot(kind='bar', ax=ax)\n",
    "plt.show()"
   ]
  },
  {
   "cell_type": "markdown",
   "id": "313bffb0-7865-4585-b37c-adf90f5783a3",
   "metadata": {},
   "source": [
    "从可视化的结果来看，不同的来源的在两个test上的分布是基本一致的。"
   ]
  },
  {
   "cell_type": "code",
   "execution_count": 297,
   "id": "e2e981e6-4921-4541-be45-e33240b5c811",
   "metadata": {},
   "outputs": [],
   "source": [
    "# Visualization of source\n",
    "count = data[['source', 'test', 'revenue']].groupby(['source', 'test']).count().reset_index()"
   ]
  },
  {
   "cell_type": "code",
   "execution_count": 298,
   "id": "c1073e56-f296-459d-9266-423aea11952e",
   "metadata": {},
   "outputs": [
    {
     "data": {
      "text/html": [
       "<div>\n",
       "<style scoped>\n",
       "    .dataframe tbody tr th:only-of-type {\n",
       "        vertical-align: middle;\n",
       "    }\n",
       "\n",
       "    .dataframe tbody tr th {\n",
       "        vertical-align: top;\n",
       "    }\n",
       "\n",
       "    .dataframe thead th {\n",
       "        text-align: right;\n",
       "    }\n",
       "</style>\n",
       "<table border=\"1\" class=\"dataframe\">\n",
       "  <thead>\n",
       "    <tr style=\"text-align: right;\">\n",
       "      <th></th>\n",
       "      <th>source</th>\n",
       "      <th>test</th>\n",
       "      <th>revenue</th>\n",
       "    </tr>\n",
       "  </thead>\n",
       "  <tbody>\n",
       "    <tr>\n",
       "      <th>0</th>\n",
       "      <td>ads-bing</td>\n",
       "      <td>0</td>\n",
       "      <td>14584</td>\n",
       "    </tr>\n",
       "    <tr>\n",
       "      <th>1</th>\n",
       "      <td>ads-bing</td>\n",
       "      <td>1</td>\n",
       "      <td>8247</td>\n",
       "    </tr>\n",
       "    <tr>\n",
       "      <th>2</th>\n",
       "      <td>ads-google</td>\n",
       "      <td>0</td>\n",
       "      <td>37845</td>\n",
       "    </tr>\n",
       "    <tr>\n",
       "      <th>3</th>\n",
       "      <td>ads-google</td>\n",
       "      <td>1</td>\n",
       "      <td>21497</td>\n",
       "    </tr>\n",
       "    <tr>\n",
       "      <th>4</th>\n",
       "      <td>ads-yahoo</td>\n",
       "      <td>0</td>\n",
       "      <td>4812</td>\n",
       "    </tr>\n",
       "    <tr>\n",
       "      <th>5</th>\n",
       "      <td>ads-yahoo</td>\n",
       "      <td>1</td>\n",
       "      <td>2759</td>\n",
       "    </tr>\n",
       "    <tr>\n",
       "      <th>6</th>\n",
       "      <td>ads_facebook</td>\n",
       "      <td>0</td>\n",
       "      <td>34074</td>\n",
       "    </tr>\n",
       "    <tr>\n",
       "      <th>7</th>\n",
       "      <td>ads_facebook</td>\n",
       "      <td>1</td>\n",
       "      <td>19281</td>\n",
       "    </tr>\n",
       "    <tr>\n",
       "      <th>8</th>\n",
       "      <td>ads_other</td>\n",
       "      <td>0</td>\n",
       "      <td>19256</td>\n",
       "    </tr>\n",
       "    <tr>\n",
       "      <th>9</th>\n",
       "      <td>ads_other</td>\n",
       "      <td>1</td>\n",
       "      <td>10570</td>\n",
       "    </tr>\n",
       "    <tr>\n",
       "      <th>10</th>\n",
       "      <td>direct_traffic</td>\n",
       "      <td>0</td>\n",
       "      <td>38712</td>\n",
       "    </tr>\n",
       "    <tr>\n",
       "      <th>11</th>\n",
       "      <td>direct_traffic</td>\n",
       "      <td>1</td>\n",
       "      <td>21560</td>\n",
       "    </tr>\n",
       "    <tr>\n",
       "      <th>12</th>\n",
       "      <td>friend_referral</td>\n",
       "      <td>0</td>\n",
       "      <td>13121</td>\n",
       "    </tr>\n",
       "    <tr>\n",
       "      <th>13</th>\n",
       "      <td>friend_referral</td>\n",
       "      <td>1</td>\n",
       "      <td>7557</td>\n",
       "    </tr>\n",
       "    <tr>\n",
       "      <th>14</th>\n",
       "      <td>seo-bing</td>\n",
       "      <td>0</td>\n",
       "      <td>1329</td>\n",
       "    </tr>\n",
       "    <tr>\n",
       "      <th>15</th>\n",
       "      <td>seo-bing</td>\n",
       "      <td>1</td>\n",
       "      <td>815</td>\n",
       "    </tr>\n",
       "    <tr>\n",
       "      <th>16</th>\n",
       "      <td>seo-google</td>\n",
       "      <td>0</td>\n",
       "      <td>15088</td>\n",
       "    </tr>\n",
       "    <tr>\n",
       "      <th>17</th>\n",
       "      <td>seo-google</td>\n",
       "      <td>1</td>\n",
       "      <td>8060</td>\n",
       "    </tr>\n",
       "    <tr>\n",
       "      <th>18</th>\n",
       "      <td>seo-other</td>\n",
       "      <td>0</td>\n",
       "      <td>5879</td>\n",
       "    </tr>\n",
       "    <tr>\n",
       "      <th>19</th>\n",
       "      <td>seo-other</td>\n",
       "      <td>1</td>\n",
       "      <td>3365</td>\n",
       "    </tr>\n",
       "    <tr>\n",
       "      <th>20</th>\n",
       "      <td>seo-yahoo</td>\n",
       "      <td>0</td>\n",
       "      <td>4356</td>\n",
       "    </tr>\n",
       "    <tr>\n",
       "      <th>21</th>\n",
       "      <td>seo-yahoo</td>\n",
       "      <td>1</td>\n",
       "      <td>2485</td>\n",
       "    </tr>\n",
       "    <tr>\n",
       "      <th>22</th>\n",
       "      <td>seo_facebook</td>\n",
       "      <td>0</td>\n",
       "      <td>13461</td>\n",
       "    </tr>\n",
       "    <tr>\n",
       "      <th>23</th>\n",
       "      <td>seo_facebook</td>\n",
       "      <td>1</td>\n",
       "      <td>7722</td>\n",
       "    </tr>\n",
       "  </tbody>\n",
       "</table>\n",
       "</div>"
      ],
      "text/plain": [
       "             source  test  revenue\n",
       "0          ads-bing     0    14584\n",
       "1          ads-bing     1     8247\n",
       "2        ads-google     0    37845\n",
       "3        ads-google     1    21497\n",
       "4         ads-yahoo     0     4812\n",
       "5         ads-yahoo     1     2759\n",
       "6      ads_facebook     0    34074\n",
       "7      ads_facebook     1    19281\n",
       "8         ads_other     0    19256\n",
       "9         ads_other     1    10570\n",
       "10   direct_traffic     0    38712\n",
       "11   direct_traffic     1    21560\n",
       "12  friend_referral     0    13121\n",
       "13  friend_referral     1     7557\n",
       "14         seo-bing     0     1329\n",
       "15         seo-bing     1      815\n",
       "16       seo-google     0    15088\n",
       "17       seo-google     1     8060\n",
       "18        seo-other     0     5879\n",
       "19        seo-other     1     3365\n",
       "20        seo-yahoo     0     4356\n",
       "21        seo-yahoo     1     2485\n",
       "22     seo_facebook     0    13461\n",
       "23     seo_facebook     1     7722"
      ]
     },
     "execution_count": 298,
     "metadata": {},
     "output_type": "execute_result"
    }
   ],
   "source": [
    "count"
   ]
  },
  {
   "cell_type": "markdown",
   "id": "67dc0886-5767-4e7d-9e5d-e46cd903e30c",
   "metadata": {},
   "source": [
    "接着采用相对频率："
   ]
  },
  {
   "cell_type": "code",
   "execution_count": 299,
   "id": "3facddf0-9ee6-4a4e-a8fa-40126f85e813",
   "metadata": {},
   "outputs": [],
   "source": [
    "count.loc[count['test'] == 1, 'revenue'] = count.loc[count['test'] == 1, 'revenue'] / 113918\n",
    "count.loc[count['test'] == 0, 'revenue'] = count.loc[count['test'] == 0, 'revenue'] / 202517"
   ]
  },
  {
   "cell_type": "code",
   "execution_count": 300,
   "id": "a627293d-0b9d-4604-8697-938fb26c38c3",
   "metadata": {},
   "outputs": [
    {
     "data": {
      "text/html": [
       "<div>\n",
       "<style scoped>\n",
       "    .dataframe tbody tr th:only-of-type {\n",
       "        vertical-align: middle;\n",
       "    }\n",
       "\n",
       "    .dataframe tbody tr th {\n",
       "        vertical-align: top;\n",
       "    }\n",
       "\n",
       "    .dataframe thead th {\n",
       "        text-align: right;\n",
       "    }\n",
       "</style>\n",
       "<table border=\"1\" class=\"dataframe\">\n",
       "  <thead>\n",
       "    <tr style=\"text-align: right;\">\n",
       "      <th></th>\n",
       "      <th>source</th>\n",
       "      <th>test</th>\n",
       "      <th>revenue</th>\n",
       "    </tr>\n",
       "  </thead>\n",
       "  <tbody>\n",
       "    <tr>\n",
       "      <th>0</th>\n",
       "      <td>ads-bing</td>\n",
       "      <td>0</td>\n",
       "      <td>0.072014</td>\n",
       "    </tr>\n",
       "    <tr>\n",
       "      <th>1</th>\n",
       "      <td>ads-bing</td>\n",
       "      <td>1</td>\n",
       "      <td>0.072394</td>\n",
       "    </tr>\n",
       "    <tr>\n",
       "      <th>2</th>\n",
       "      <td>ads-google</td>\n",
       "      <td>0</td>\n",
       "      <td>0.186873</td>\n",
       "    </tr>\n",
       "    <tr>\n",
       "      <th>3</th>\n",
       "      <td>ads-google</td>\n",
       "      <td>1</td>\n",
       "      <td>0.188706</td>\n",
       "    </tr>\n",
       "    <tr>\n",
       "      <th>4</th>\n",
       "      <td>ads-yahoo</td>\n",
       "      <td>0</td>\n",
       "      <td>0.023761</td>\n",
       "    </tr>\n",
       "    <tr>\n",
       "      <th>5</th>\n",
       "      <td>ads-yahoo</td>\n",
       "      <td>1</td>\n",
       "      <td>0.024219</td>\n",
       "    </tr>\n",
       "    <tr>\n",
       "      <th>6</th>\n",
       "      <td>ads_facebook</td>\n",
       "      <td>0</td>\n",
       "      <td>0.168253</td>\n",
       "    </tr>\n",
       "    <tr>\n",
       "      <th>7</th>\n",
       "      <td>ads_facebook</td>\n",
       "      <td>1</td>\n",
       "      <td>0.169253</td>\n",
       "    </tr>\n",
       "    <tr>\n",
       "      <th>8</th>\n",
       "      <td>ads_other</td>\n",
       "      <td>0</td>\n",
       "      <td>0.095083</td>\n",
       "    </tr>\n",
       "    <tr>\n",
       "      <th>9</th>\n",
       "      <td>ads_other</td>\n",
       "      <td>1</td>\n",
       "      <td>0.092786</td>\n",
       "    </tr>\n",
       "    <tr>\n",
       "      <th>10</th>\n",
       "      <td>direct_traffic</td>\n",
       "      <td>0</td>\n",
       "      <td>0.191154</td>\n",
       "    </tr>\n",
       "    <tr>\n",
       "      <th>11</th>\n",
       "      <td>direct_traffic</td>\n",
       "      <td>1</td>\n",
       "      <td>0.189259</td>\n",
       "    </tr>\n",
       "    <tr>\n",
       "      <th>12</th>\n",
       "      <td>friend_referral</td>\n",
       "      <td>0</td>\n",
       "      <td>0.064790</td>\n",
       "    </tr>\n",
       "    <tr>\n",
       "      <th>13</th>\n",
       "      <td>friend_referral</td>\n",
       "      <td>1</td>\n",
       "      <td>0.066337</td>\n",
       "    </tr>\n",
       "    <tr>\n",
       "      <th>14</th>\n",
       "      <td>seo-bing</td>\n",
       "      <td>0</td>\n",
       "      <td>0.006562</td>\n",
       "    </tr>\n",
       "    <tr>\n",
       "      <th>15</th>\n",
       "      <td>seo-bing</td>\n",
       "      <td>1</td>\n",
       "      <td>0.007154</td>\n",
       "    </tr>\n",
       "    <tr>\n",
       "      <th>16</th>\n",
       "      <td>seo-google</td>\n",
       "      <td>0</td>\n",
       "      <td>0.074502</td>\n",
       "    </tr>\n",
       "    <tr>\n",
       "      <th>17</th>\n",
       "      <td>seo-google</td>\n",
       "      <td>1</td>\n",
       "      <td>0.070753</td>\n",
       "    </tr>\n",
       "    <tr>\n",
       "      <th>18</th>\n",
       "      <td>seo-other</td>\n",
       "      <td>0</td>\n",
       "      <td>0.029030</td>\n",
       "    </tr>\n",
       "    <tr>\n",
       "      <th>19</th>\n",
       "      <td>seo-other</td>\n",
       "      <td>1</td>\n",
       "      <td>0.029539</td>\n",
       "    </tr>\n",
       "    <tr>\n",
       "      <th>20</th>\n",
       "      <td>seo-yahoo</td>\n",
       "      <td>0</td>\n",
       "      <td>0.021509</td>\n",
       "    </tr>\n",
       "    <tr>\n",
       "      <th>21</th>\n",
       "      <td>seo-yahoo</td>\n",
       "      <td>1</td>\n",
       "      <td>0.021814</td>\n",
       "    </tr>\n",
       "    <tr>\n",
       "      <th>22</th>\n",
       "      <td>seo_facebook</td>\n",
       "      <td>0</td>\n",
       "      <td>0.066468</td>\n",
       "    </tr>\n",
       "    <tr>\n",
       "      <th>23</th>\n",
       "      <td>seo_facebook</td>\n",
       "      <td>1</td>\n",
       "      <td>0.067786</td>\n",
       "    </tr>\n",
       "  </tbody>\n",
       "</table>\n",
       "</div>"
      ],
      "text/plain": [
       "             source  test   revenue\n",
       "0          ads-bing     0  0.072014\n",
       "1          ads-bing     1  0.072394\n",
       "2        ads-google     0  0.186873\n",
       "3        ads-google     1  0.188706\n",
       "4         ads-yahoo     0  0.023761\n",
       "5         ads-yahoo     1  0.024219\n",
       "6      ads_facebook     0  0.168253\n",
       "7      ads_facebook     1  0.169253\n",
       "8         ads_other     0  0.095083\n",
       "9         ads_other     1  0.092786\n",
       "10   direct_traffic     0  0.191154\n",
       "11   direct_traffic     1  0.189259\n",
       "12  friend_referral     0  0.064790\n",
       "13  friend_referral     1  0.066337\n",
       "14         seo-bing     0  0.006562\n",
       "15         seo-bing     1  0.007154\n",
       "16       seo-google     0  0.074502\n",
       "17       seo-google     1  0.070753\n",
       "18        seo-other     0  0.029030\n",
       "19        seo-other     1  0.029539\n",
       "20        seo-yahoo     0  0.021509\n",
       "21        seo-yahoo     1  0.021814\n",
       "22     seo_facebook     0  0.066468\n",
       "23     seo_facebook     1  0.067786"
      ]
     },
     "execution_count": 300,
     "metadata": {},
     "output_type": "execute_result"
    }
   ],
   "source": [
    "count"
   ]
  },
  {
   "cell_type": "markdown",
   "id": "696bd9c7-a2f1-410b-bd9e-faffc0e5b2b6",
   "metadata": {},
   "source": [
    "采用相对频率是为了确保公平。\n",
    "\n",
    "不同的测试组可能包含不同数量的记录。如果直接比较记录数（如 revenue 列的计数）可能会导致不公平的比较，因为测试组的大小不同。通过计算相对频率（即每个 source 在测试组中的比例），可以消除这些差异，使得不同测试组的比较更加公正。"
   ]
  },
  {
   "cell_type": "code",
   "execution_count": 301,
   "id": "e3486128-143f-4239-8463-a3c99902d4c0",
   "metadata": {},
   "outputs": [
    {
     "data": {
      "image/png": "[encoded data removed]",
      "text/plain": [
       "<Figure size 1800x600 with 2 Axes>"
      ]
     },
     "metadata": {},
     "output_type": "display_data"
    }
   ],
   "source": [
    "# hue='test' 用于在条形图中区分不同的 test 组（test0 和 test1）\n",
    "fig, ax = plt.subplots(nrows=1, ncols=2, figsize=(18, 6))\n",
    "sns.barplot(x='source', y='revenue', hue='test', data=count, ax=ax[0])\n",
    "ax[0].set_title('Percentage Plot of Source', fontsize=16)\n",
    "\n",
    "sns.barplot(x='source', y='revenue', hue='test', data=data, ax=ax[1])\n",
    "ax[1].set_title('Mean Revenue vs. Source', fontsize=16)\n",
    "plt.tight_layout()\n",
    "\n",
    "plt.show()"
   ]
  },
  {
   "cell_type": "markdown",
   "id": "5a52cd59-879e-4bb4-b1af-91710d605a17",
   "metadata": {},
   "source": [
    "**Device**"
   ]
  },
  {
   "cell_type": "markdown",
   "id": "529616f8-45e2-4bc5-b0f6-ba23093c6794",
   "metadata": {},
   "source": [
    "查看硬件的特征的分布："
   ]
  },
  {
   "cell_type": "code",
   "execution_count": 302,
   "id": "6d23f2ee-1625-4b0e-85f5-7bfff889f3bf",
   "metadata": {},
   "outputs": [],
   "source": [
    "# Check randominess\n",
    "device = data.groupby('test')['device'].apply(lambda x: x.value_counts(normalize=True)).unstack()"
   ]
  },
  {
   "cell_type": "code",
   "execution_count": 303,
   "id": "347ca503-8164-4678-b9ee-403f0e14c830",
   "metadata": {},
   "outputs": [
    {
     "data": {
      "text/html": [
       "<div>\n",
       "<style scoped>\n",
       "    .dataframe tbody tr th:only-of-type {\n",
       "        vertical-align: middle;\n",
       "    }\n",
       "\n",
       "    .dataframe tbody tr th {\n",
       "        vertical-align: top;\n",
       "    }\n",
       "\n",
       "    .dataframe thead th {\n",
       "        text-align: right;\n",
       "    }\n",
       "</style>\n",
       "<table border=\"1\" class=\"dataframe\">\n",
       "  <thead>\n",
       "    <tr style=\"text-align: right;\">\n",
       "      <th></th>\n",
       "      <th>mobile</th>\n",
       "      <th>web</th>\n",
       "    </tr>\n",
       "    <tr>\n",
       "      <th>test</th>\n",
       "      <th></th>\n",
       "      <th></th>\n",
       "    </tr>\n",
       "  </thead>\n",
       "  <tbody>\n",
       "    <tr>\n",
       "      <th>0</th>\n",
       "      <td>0.594365</td>\n",
       "      <td>0.405635</td>\n",
       "    </tr>\n",
       "    <tr>\n",
       "      <th>1</th>\n",
       "      <td>0.578469</td>\n",
       "      <td>0.421531</td>\n",
       "    </tr>\n",
       "  </tbody>\n",
       "</table>\n",
       "</div>"
      ],
      "text/plain": [
       "0       mobile       web\n",
       "test                    \n",
       "0     0.594365  0.405635\n",
       "1     0.578469  0.421531"
      ]
     },
     "execution_count": 303,
     "metadata": {},
     "output_type": "execute_result"
    }
   ],
   "source": [
    "device"
   ]
  },
  {
   "cell_type": "code",
   "execution_count": 304,
   "id": "030b4dff-8826-4458-83fe-7db30d4da5bc",
   "metadata": {},
   "outputs": [
    {
     "data": {
      "image/png": "[encoded data removed]",
      "text/plain": [
       "<Figure size 1200x600 with 1 Axes>"
      ]
     },
     "metadata": {},
     "output_type": "display_data"
    }
   ],
   "source": [
    "fig, ax = plt.subplots(figsize=(12, 6))\n",
    "device.plot(kind='bar', ax=ax)\n",
    "plt.show()"
   ]
  },
  {
   "cell_type": "code",
   "execution_count": 305,
   "id": "9bff9009-0deb-412a-b041-1488abd84619",
   "metadata": {},
   "outputs": [
    {
     "data": {
      "image/png": "[encoded data removed]",
      "text/plain": [
       "<Figure size 1800x600 with 2 Axes>"
      ]
     },
     "metadata": {},
     "output_type": "display_data"
    }
   ],
   "source": [
    "# Visualization of device\n",
    "count = data[['device', 'test', 'revenue']].groupby(['device', 'test']).count().reset_index()\n",
    "count.loc[count['test'] == 1, 'revenue'] = count.loc[count['test'] == 1, 'revenue'] / 113918\n",
    "count.loc[count['test'] == 0, 'revenue'] = count.loc[count['test'] == 0, 'revenue'] / 202517\n",
    "\n",
    "fig, ax = plt.subplots(nrows=1, ncols=2, figsize=(18, 6))\n",
    "sns.barplot(x='device', y='revenue', hue='test', data=count, ax=ax[0])\n",
    "ax[0].set_title('Percentage Plot of Device', fontsize=16)\n",
    "\n",
    "sns.barplot(x='device', y='revenue', hue='test', data=data, ax=ax[1])\n",
    "ax[1].set_title('Mean Revenue vs. Device', fontsize=16)\n",
    "plt.tight_layout()\n",
    "plt.show()"
   ]
  },
  {
   "cell_type": "markdown",
   "id": "ced2258d-9b4a-46de-9370-6e60bdb005c8",
   "metadata": {},
   "source": [
    "**操作系统**"
   ]
  },
  {
   "cell_type": "code",
   "execution_count": 306,
   "id": "b8bda820-aca3-467c-b6d2-031f577b83df",
   "metadata": {},
   "outputs": [
    {
     "data": {
      "text/html": [
       "<div>\n",
       "<style scoped>\n",
       "    .dataframe tbody tr th:only-of-type {\n",
       "        vertical-align: middle;\n",
       "    }\n",
       "\n",
       "    .dataframe tbody tr th {\n",
       "        vertical-align: top;\n",
       "    }\n",
       "\n",
       "    .dataframe thead th {\n",
       "        text-align: right;\n",
       "    }\n",
       "</style>\n",
       "<table border=\"1\" class=\"dataframe\">\n",
       "  <thead>\n",
       "    <tr style=\"text-align: right;\">\n",
       "      <th></th>\n",
       "      <th>windows</th>\n",
       "      <th>iOS</th>\n",
       "      <th>android</th>\n",
       "      <th>mac</th>\n",
       "      <th>other</th>\n",
       "      <th>linux</th>\n",
       "    </tr>\n",
       "    <tr>\n",
       "      <th>test</th>\n",
       "      <th></th>\n",
       "      <th></th>\n",
       "      <th></th>\n",
       "      <th></th>\n",
       "      <th></th>\n",
       "      <th></th>\n",
       "    </tr>\n",
       "  </thead>\n",
       "  <tbody>\n",
       "    <tr>\n",
       "      <th>0</th>\n",
       "      <td>0.313638</td>\n",
       "      <td>0.305125</td>\n",
       "      <td>0.237891</td>\n",
       "      <td>0.080709</td>\n",
       "      <td>0.051754</td>\n",
       "      <td>0.010883</td>\n",
       "    </tr>\n",
       "    <tr>\n",
       "      <th>1</th>\n",
       "      <td>0.327718</td>\n",
       "      <td>0.294598</td>\n",
       "      <td>0.234318</td>\n",
       "      <td>0.076459</td>\n",
       "      <td>0.050001</td>\n",
       "      <td>0.016907</td>\n",
       "    </tr>\n",
       "  </tbody>\n",
       "</table>\n",
       "</div>"
      ],
      "text/plain": [
       "0      windows       iOS   android       mac     other     linux\n",
       "test                                                            \n",
       "0     0.313638  0.305125  0.237891  0.080709  0.051754  0.010883\n",
       "1     0.327718  0.294598  0.234318  0.076459  0.050001  0.016907"
      ]
     },
     "execution_count": 306,
     "metadata": {},
     "output_type": "execute_result"
    }
   ],
   "source": [
    "# Check randominess\n",
    "os = data.groupby('test')['operative_system'].apply(lambda x: x.value_counts(normalize=True)).unstack()\n",
    "os"
   ]
  },
  {
   "cell_type": "code",
   "execution_count": 307,
   "id": "1afb75ad-63c4-4d0a-baa1-6dd4d1dbae2d",
   "metadata": {},
   "outputs": [
    {
     "data": {
      "image/png": "[encoded data removed]",
      "text/plain": [
       "<Figure size 1200x600 with 1 Axes>"
      ]
     },
     "metadata": {},
     "output_type": "display_data"
    }
   ],
   "source": [
    "fig, ax = plt.subplots(figsize=(12, 6))\n",
    "os.plot(kind='bar', ax=ax, edgecolor = 'black')\n",
    "plt.show()"
   ]
  },
  {
   "cell_type": "code",
   "execution_count": 308,
   "id": "4377ded4-3c21-41ac-8b1a-b0d38226aea9",
   "metadata": {},
   "outputs": [
    {
     "data": {
      "image/png": "[encoded data removed]",
      "text/plain": [
       "<Figure size 1800x600 with 2 Axes>"
      ]
     },
     "metadata": {},
     "output_type": "display_data"
    }
   ],
   "source": [
    "# Visualization of operative system\n",
    "count = data[['operative_system', 'test', 'revenue']].groupby(['operative_system', 'test']).count().reset_index()\n",
    "count.loc[count['test'] == 1, 'revenue'] = count.loc[count['test'] == 1, 'revenue'] / 113918\n",
    "count.loc[count['test'] == 0, 'revenue'] = count.loc[count['test'] == 0, 'revenue'] / 202517\n",
    "\n",
    "fig, ax = plt.subplots(nrows=1, ncols=2, figsize=(18, 6))\n",
    "sns.barplot(x='operative_system', y='revenue', hue='test', data=count, ax=ax[0], edgecolor = 'black')  # ax = ax[0] 在这里是用来创建子图的\n",
    "ax[0].set_title('Percentage Plot of Operative System', fontsize=16)\n",
    "\n",
    "sns.barplot(x='operative_system', y='revenue', hue='test', data=data, ax=ax[1], edgecolor = 'black')\n",
    "ax[1].set_title('Mean Revenue vs. Operative System', fontsize=16)\n",
    "plt.tight_layout()\n",
    "plt.show()"
   ]
  },
  {
   "cell_type": "markdown",
   "id": "bd71c829-fe54-48bb-85ca-884177b1c16a",
   "metadata": {},
   "source": [
    "# 定价策略"
   ]
  },
  {
   "cell_type": "markdown",
   "id": "4fb172ac-1b94-435c-b1b7-80cdd039b7e4",
   "metadata": {},
   "source": [
    "需要进行A/B test分析"
   ]
  },
  {
   "cell_type": "code",
   "execution_count": 309,
   "id": "7ba73fe6-6393-41fb-a8ea-838f0c90362c",
   "metadata": {},
   "outputs": [
    {
     "data": {
      "text/html": [
       "<div>\n",
       "<style scoped>\n",
       "    .dataframe tbody tr th:only-of-type {\n",
       "        vertical-align: middle;\n",
       "    }\n",
       "\n",
       "    .dataframe tbody tr th {\n",
       "        vertical-align: top;\n",
       "    }\n",
       "\n",
       "    .dataframe thead th {\n",
       "        text-align: right;\n",
       "    }\n",
       "</style>\n",
       "<table border=\"1\" class=\"dataframe\">\n",
       "  <thead>\n",
       "    <tr style=\"text-align: right;\">\n",
       "      <th></th>\n",
       "      <th>converted</th>\n",
       "    </tr>\n",
       "    <tr>\n",
       "      <th>test</th>\n",
       "      <th></th>\n",
       "    </tr>\n",
       "  </thead>\n",
       "  <tbody>\n",
       "    <tr>\n",
       "      <th>0</th>\n",
       "      <td>0.019900</td>\n",
       "    </tr>\n",
       "    <tr>\n",
       "      <th>1</th>\n",
       "      <td>0.015555</td>\n",
       "    </tr>\n",
       "  </tbody>\n",
       "</table>\n",
       "</div>"
      ],
      "text/plain": [
       "      converted\n",
       "test           \n",
       "0      0.019900\n",
       "1      0.015555"
      ]
     },
     "execution_count": 309,
     "metadata": {},
     "output_type": "execute_result"
    }
   ],
   "source": [
    "# check the conversion rate for A/B test\n",
    "data[['test', 'converted']].groupby('test').mean()"
   ]
  },
  {
   "cell_type": "code",
   "execution_count": 310,
   "id": "76fa7651-f40c-4891-9e38-a56abf408cd5",
   "metadata": {},
   "outputs": [
    {
     "data": {
      "text/html": [
       "<div>\n",
       "<style scoped>\n",
       "    .dataframe tbody tr th:only-of-type {\n",
       "        vertical-align: middle;\n",
       "    }\n",
       "\n",
       "    .dataframe tbody tr th {\n",
       "        vertical-align: top;\n",
       "    }\n",
       "\n",
       "    .dataframe thead th {\n",
       "        text-align: right;\n",
       "    }\n",
       "</style>\n",
       "<table border=\"1\" class=\"dataframe\">\n",
       "  <thead>\n",
       "    <tr style=\"text-align: right;\">\n",
       "      <th></th>\n",
       "      <th>revenue</th>\n",
       "    </tr>\n",
       "    <tr>\n",
       "      <th>test</th>\n",
       "      <th></th>\n",
       "    </tr>\n",
       "  </thead>\n",
       "  <tbody>\n",
       "    <tr>\n",
       "      <th>0</th>\n",
       "      <td>0.776083</td>\n",
       "    </tr>\n",
       "    <tr>\n",
       "      <th>1</th>\n",
       "      <td>0.917748</td>\n",
       "    </tr>\n",
       "  </tbody>\n",
       "</table>\n",
       "</div>"
      ],
      "text/plain": [
       "       revenue\n",
       "test          \n",
       "0     0.776083\n",
       "1     0.917748"
      ]
     },
     "execution_count": 310,
     "metadata": {},
     "output_type": "execute_result"
    }
   ],
   "source": [
    "# check the revenue for A/B test\n",
    "data[['test', 'revenue']].groupby('test').mean()"
   ]
  },
  {
   "cell_type": "markdown",
   "id": "6942e3be-b80f-45a6-a91d-2d233ea28bf3",
   "metadata": {},
   "source": [
    "从结果来看，虽然价格为39的时候的转换率更高一些，但是并利润却低于了价格为59的时候的利润。"
   ]
  },
  {
   "cell_type": "markdown",
   "id": "6b487bd1-7c28-424e-95c9-a250b2d10d3b",
   "metadata": {},
   "source": [
    "但是需要进行假设性检验。\n",
    "\n",
    "两个假设：\n",
    "- $H_0$: 假设涨价前后的利润没有显著差异。即，涨价不会显著改变利润分布。\n",
    "- $H_1$：假设涨价后利润与原价时的利润有显著差异，即涨价会显著改变利润分布。\n",
    "\n",
    "假设涨价后利润与原价时的利润有显著差异，即涨价会显著改变利润分布。"
   ]
  },
  {
   "cell_type": "code",
   "execution_count": 311,
   "id": "653350d8-7ce7-46b8-b39f-f77525fe400e",
   "metadata": {},
   "outputs": [],
   "source": [
    "from scipy.stats import ttest_ind"
   ]
  },
  {
   "cell_type": "code",
   "execution_count": 312,
   "id": "b88d8713-e814-41cd-b588-5742e015aa9a",
   "metadata": {},
   "outputs": [],
   "source": [
    "ctr_val = data[data['test'] == 0]['revenue'].values\n",
    "exp_val = data[data['test'] == 1]['revenue'].values"
   ]
  },
  {
   "cell_type": "code",
   "execution_count": 313,
   "id": "8e9b324d-b39f-41bb-8ca3-343541cda4e5",
   "metadata": {},
   "outputs": [
    {
     "data": {
      "text/plain": [
       "array([0, 0, 0, ..., 0, 0, 0], dtype=int64)"
      ]
     },
     "execution_count": 313,
     "metadata": {},
     "output_type": "execute_result"
    }
   ],
   "source": [
    "ctr_val"
   ]
  },
  {
   "cell_type": "code",
   "execution_count": 314,
   "id": "7c4fc173-3c37-4429-964e-0e981a2b1e05",
   "metadata": {},
   "outputs": [
    {
     "data": {
      "text/plain": [
       "array([ 0, 59,  0, ...,  0,  0,  0], dtype=int64)"
      ]
     },
     "execution_count": 314,
     "metadata": {},
     "output_type": "execute_result"
    }
   ],
   "source": [
    "exp_val"
   ]
  },
  {
   "cell_type": "code",
   "execution_count": 315,
   "id": "848b769f-cda2-400a-b81f-b9043b0d5586",
   "metadata": {},
   "outputs": [
    {
     "name": "stdout",
     "output_type": "stream",
     "text": [
      "TtestResult(statistic=-5.715224666463108, pvalue=1.0972577312420781e-08, df=186141.738219264)\n"
     ]
    }
   ],
   "source": [
    "print(ttest_ind(ctr_val, exp_val, axis=0, equal_var=False))"
   ]
  },
  {
   "cell_type": "markdown",
   "id": "7efb5a05-05c2-41c1-8151-0014976326e0",
   "metadata": {},
   "source": [
    "在进行独立样本 t 检验时，结果显示 t 统计量为 -5.715，p 值为 1.10e-08，自由度为 186141.738。这些结果表明，在比较原价和涨价后的收益时，两个测试组之间的差异是显著的。t 统计量的绝对值较大，指示样本均值之间存在显著的差异，而负值则表明涨价后的平均收益低于原价时的平均收益。\n",
    "\n",
    "p 值非常小，远远低于通常设定的显著性水平（例如 0.05 或 0.01）。这意味着在零假设（即两个组之间没有显著差异）下，观察到如此极端结果的概率极低。因此，我们可以拒绝零假设，认为涨价对收益的影响是显著的，而不是由于随机波动造成的。\n",
    "\n",
    "自由度值接近 186,142，表明样本量非常大，这为检验结果的可靠性提供了支持。综合这些结果，可以得出结论：涨价策略导致的收益变化在统计上是显著的，因此可能需要重新评估是否继续实施该策略或调整价格策略以优化收益。\n",
    "\n",
    "涨价后，利润收益显著下降，表明涨价对收益产生了负面影响。这个结果表明，涨价策略可能导致了客户的流失或减少了销售量，从而导致整体利润的下降。因此，可能需要考虑调整价格策略以优化收益。"
   ]
  },
  {
   "cell_type": "markdown",
   "id": "762d06d5-ffd6-4439-8de5-6946794b498c",
   "metadata": {},
   "source": [
    "这与之前下定的结论存在着矛盾，这里采用该结论，因为之前的结论只是基于平均收益的初步比较，不具有统计意义。"
   ]
  },
  {
   "cell_type": "markdown",
   "id": "6d578864-a22b-49a0-b924-55b573cf47f5",
   "metadata": {},
   "source": [
    "# 用户转换率"
   ]
  },
  {
   "cell_type": "markdown",
   "id": "7cee8b0e-6a68-42cc-9a52-68ca51a45621",
   "metadata": {},
   "source": [
    "**source**"
   ]
  },
  {
   "cell_type": "code",
   "execution_count": 316,
   "id": "d60315d1-1d77-461c-9d2a-0c6f56158fd2",
   "metadata": {},
   "outputs": [
    {
     "data": {
      "text/html": [
       "<div>\n",
       "<style scoped>\n",
       "    .dataframe tbody tr th:only-of-type {\n",
       "        vertical-align: middle;\n",
       "    }\n",
       "\n",
       "    .dataframe tbody tr th {\n",
       "        vertical-align: top;\n",
       "    }\n",
       "\n",
       "    .dataframe thead th {\n",
       "        text-align: right;\n",
       "    }\n",
       "</style>\n",
       "<table border=\"1\" class=\"dataframe\">\n",
       "  <thead>\n",
       "    <tr style=\"text-align: right;\">\n",
       "      <th></th>\n",
       "      <th>source</th>\n",
       "      <th>converted</th>\n",
       "    </tr>\n",
       "  </thead>\n",
       "  <tbody>\n",
       "    <tr>\n",
       "      <th>0</th>\n",
       "      <td>ads-bing</td>\n",
       "      <td>0.012001</td>\n",
       "    </tr>\n",
       "    <tr>\n",
       "      <th>1</th>\n",
       "      <td>ads-google</td>\n",
       "      <td>0.021502</td>\n",
       "    </tr>\n",
       "    <tr>\n",
       "      <th>2</th>\n",
       "      <td>ads-yahoo</td>\n",
       "      <td>0.014793</td>\n",
       "    </tr>\n",
       "    <tr>\n",
       "      <th>3</th>\n",
       "      <td>ads_facebook</td>\n",
       "      <td>0.021198</td>\n",
       "    </tr>\n",
       "    <tr>\n",
       "      <th>4</th>\n",
       "      <td>ads_other</td>\n",
       "      <td>0.014350</td>\n",
       "    </tr>\n",
       "    <tr>\n",
       "      <th>5</th>\n",
       "      <td>direct_traffic</td>\n",
       "      <td>0.012294</td>\n",
       "    </tr>\n",
       "    <tr>\n",
       "      <th>6</th>\n",
       "      <td>friend_referral</td>\n",
       "      <td>0.038688</td>\n",
       "    </tr>\n",
       "    <tr>\n",
       "      <th>7</th>\n",
       "      <td>seo-bing</td>\n",
       "      <td>0.023787</td>\n",
       "    </tr>\n",
       "    <tr>\n",
       "      <th>8</th>\n",
       "      <td>seo-google</td>\n",
       "      <td>0.016978</td>\n",
       "    </tr>\n",
       "    <tr>\n",
       "      <th>9</th>\n",
       "      <td>seo-other</td>\n",
       "      <td>0.015686</td>\n",
       "    </tr>\n",
       "    <tr>\n",
       "      <th>10</th>\n",
       "      <td>seo-yahoo</td>\n",
       "      <td>0.016226</td>\n",
       "    </tr>\n",
       "    <tr>\n",
       "      <th>11</th>\n",
       "      <td>seo_facebook</td>\n",
       "      <td>0.016051</td>\n",
       "    </tr>\n",
       "  </tbody>\n",
       "</table>\n",
       "</div>"
      ],
      "text/plain": [
       "             source  converted\n",
       "0          ads-bing   0.012001\n",
       "1        ads-google   0.021502\n",
       "2         ads-yahoo   0.014793\n",
       "3      ads_facebook   0.021198\n",
       "4         ads_other   0.014350\n",
       "5    direct_traffic   0.012294\n",
       "6   friend_referral   0.038688\n",
       "7          seo-bing   0.023787\n",
       "8        seo-google   0.016978\n",
       "9         seo-other   0.015686\n",
       "10        seo-yahoo   0.016226\n",
       "11     seo_facebook   0.016051"
      ]
     },
     "execution_count": 316,
     "metadata": {},
     "output_type": "execute_result"
    }
   ],
   "source": [
    "data.groupby('source')['converted'].mean().reset_index()"
   ]
  },
  {
   "cell_type": "code",
   "execution_count": 317,
   "id": "fd3104c6-1e51-41e1-93b5-5c30f8efd4f0",
   "metadata": {},
   "outputs": [
    {
     "data": {
      "image/png": "[encoded data removed]",
      "text/plain": [
       "<Figure size 1600x600 with 1 Axes>"
      ]
     },
     "metadata": {},
     "output_type": "display_data"
    }
   ],
   "source": [
    "# Visualization of source\n",
    "fig, ax = plt.subplots(figsize=(16, 6))\n",
    "sns.barplot(x='source', y='converted', data=data, ax=ax)\n",
    "ax.set_title('Mean Conversion Rate vs. Source', fontsize=16)\n",
    "plt.show()"
   ]
  },
  {
   "cell_type": "code",
   "execution_count": 318,
   "id": "c28b7623-b15e-43ec-a05c-fe46ba429021",
   "metadata": {},
   "outputs": [
    {
     "data": {
      "image/png": "[encoded data removed]",
      "text/plain": [
       "<Figure size 1600x600 with 1 Axes>"
      ]
     },
     "metadata": {},
     "output_type": "display_data"
    }
   ],
   "source": [
    "# Visualization of source\n",
    "fig, ax = plt.subplots(figsize=(16, 6))\n",
    "sns.barplot(x='source', y='converted', hue='test', data=data, ax=ax)\n",
    "ax.set_title('Mean Conversion Rate vs. Source', fontsize=16)\n",
    "plt.show()"
   ]
  },
  {
   "cell_type": "markdown",
   "id": "4336a1d3-7b5d-4a41-976f-a07c4bd683b3",
   "metadata": {},
   "source": [
    "**Device**"
   ]
  },
  {
   "cell_type": "code",
   "execution_count": 319,
   "id": "5433edf3-2a8f-484c-8411-043d2765a16e",
   "metadata": {},
   "outputs": [
    {
     "data": {
      "text/html": [
       "<div>\n",
       "<style scoped>\n",
       "    .dataframe tbody tr th:only-of-type {\n",
       "        vertical-align: middle;\n",
       "    }\n",
       "\n",
       "    .dataframe tbody tr th {\n",
       "        vertical-align: top;\n",
       "    }\n",
       "\n",
       "    .dataframe thead th {\n",
       "        text-align: right;\n",
       "    }\n",
       "</style>\n",
       "<table border=\"1\" class=\"dataframe\">\n",
       "  <thead>\n",
       "    <tr style=\"text-align: right;\">\n",
       "      <th></th>\n",
       "      <th>device</th>\n",
       "      <th>converted</th>\n",
       "    </tr>\n",
       "  </thead>\n",
       "  <tbody>\n",
       "    <tr>\n",
       "      <th>0</th>\n",
       "      <td>mobile</td>\n",
       "      <td>0.018554</td>\n",
       "    </tr>\n",
       "    <tr>\n",
       "      <th>1</th>\n",
       "      <td>web</td>\n",
       "      <td>0.018023</td>\n",
       "    </tr>\n",
       "  </tbody>\n",
       "</table>\n",
       "</div>"
      ],
      "text/plain": [
       "   device  converted\n",
       "0  mobile   0.018554\n",
       "1     web   0.018023"
      ]
     },
     "execution_count": 319,
     "metadata": {},
     "output_type": "execute_result"
    }
   ],
   "source": [
    "data.groupby('device')['converted'].mean().reset_index()"
   ]
  },
  {
   "cell_type": "code",
   "execution_count": 320,
   "id": "ef760460-06c5-409d-8e30-e8727b0d0ff6",
   "metadata": {},
   "outputs": [
    {
     "data": {
      "image/png": "[encoded data removed]",
      "text/plain": [
       "<Figure size 1200x600 with 1 Axes>"
      ]
     },
     "metadata": {},
     "output_type": "display_data"
    }
   ],
   "source": [
    "# Visualization of device\n",
    "fig, ax = plt.subplots(figsize=(12, 6))\n",
    "sns.barplot(x='device', y='converted', data=data, ax=ax)\n",
    "ax.set_title('Mean Conversion Rate vs. Device', fontsize=16)\n",
    "plt.show()"
   ]
  },
  {
   "cell_type": "code",
   "execution_count": 321,
   "id": "3b62d804-a19b-4455-93ce-1ae596a5a2d7",
   "metadata": {},
   "outputs": [
    {
     "data": {
      "image/png": "[encoded data removed]",
      "text/plain": [
       "<Figure size 1200x600 with 1 Axes>"
      ]
     },
     "metadata": {},
     "output_type": "display_data"
    }
   ],
   "source": [
    "# Visualization of device\n",
    "fig, ax = plt.subplots(figsize=(12, 6))\n",
    "sns.barplot(x='device', y='converted', hue='test', data=data, ax=ax)\n",
    "ax.set_title('Mean Conversion Rate vs. Device', fontsize=16)\n",
    "plt.show()"
   ]
  },
  {
   "cell_type": "markdown",
   "id": "43a611c3-a4ed-4748-a848-4bf0b1b00a05",
   "metadata": {},
   "source": [
    "**Operating System**"
   ]
  },
  {
   "cell_type": "code",
   "execution_count": 322,
   "id": "121fedc4-795e-4c74-8e71-f7c80f34ad95",
   "metadata": {},
   "outputs": [
    {
     "data": {
      "text/html": [
       "<div>\n",
       "<style scoped>\n",
       "    .dataframe tbody tr th:only-of-type {\n",
       "        vertical-align: middle;\n",
       "    }\n",
       "\n",
       "    .dataframe tbody tr th {\n",
       "        vertical-align: top;\n",
       "    }\n",
       "\n",
       "    .dataframe thead th {\n",
       "        text-align: right;\n",
       "    }\n",
       "</style>\n",
       "<table border=\"1\" class=\"dataframe\">\n",
       "  <thead>\n",
       "    <tr style=\"text-align: right;\">\n",
       "      <th></th>\n",
       "      <th>operative_system</th>\n",
       "      <th>converted</th>\n",
       "    </tr>\n",
       "  </thead>\n",
       "  <tbody>\n",
       "    <tr>\n",
       "      <th>0</th>\n",
       "      <td>android</td>\n",
       "      <td>0.014919</td>\n",
       "    </tr>\n",
       "    <tr>\n",
       "      <th>1</th>\n",
       "      <td>iOS</td>\n",
       "      <td>0.022328</td>\n",
       "    </tr>\n",
       "    <tr>\n",
       "      <th>2</th>\n",
       "      <td>linux</td>\n",
       "      <td>0.008232</td>\n",
       "    </tr>\n",
       "    <tr>\n",
       "      <th>3</th>\n",
       "      <td>mac</td>\n",
       "      <td>0.023987</td>\n",
       "    </tr>\n",
       "    <tr>\n",
       "      <th>4</th>\n",
       "      <td>other</td>\n",
       "      <td>0.012981</td>\n",
       "    </tr>\n",
       "    <tr>\n",
       "      <th>5</th>\n",
       "      <td>windows</td>\n",
       "      <td>0.016966</td>\n",
       "    </tr>\n",
       "  </tbody>\n",
       "</table>\n",
       "</div>"
      ],
      "text/plain": [
       "  operative_system  converted\n",
       "0          android   0.014919\n",
       "1              iOS   0.022328\n",
       "2            linux   0.008232\n",
       "3              mac   0.023987\n",
       "4            other   0.012981\n",
       "5          windows   0.016966"
      ]
     },
     "execution_count": 322,
     "metadata": {},
     "output_type": "execute_result"
    }
   ],
   "source": [
    "data.groupby('operative_system')['converted'].mean().reset_index()"
   ]
  },
  {
   "cell_type": "code",
   "execution_count": 323,
   "id": "0c6db77d-3697-444b-8771-6ae8d4fcef77",
   "metadata": {},
   "outputs": [
    {
     "data": {
      "image/png": "[encoded data removed]",
      "text/plain": [
       "<Figure size 1200x600 with 1 Axes>"
      ]
     },
     "metadata": {},
     "output_type": "display_data"
    }
   ],
   "source": [
    "# Visualization of operative system\n",
    "fig, ax = plt.subplots(figsize=(12, 6))\n",
    "sns.barplot(x='operative_system', y='converted', data=data, ax=ax)\n",
    "ax.set_title('Mean Conversion Rate vs. Operative System', fontsize=16)\n",
    "plt.show()"
   ]
  },
  {
   "cell_type": "code",
   "execution_count": 324,
   "id": "ccc694ce-f8c2-424c-9471-4c3df22662e1",
   "metadata": {},
   "outputs": [
    {
     "data": {
      "image/png": "[encoded data removed]",
      "text/plain": [
       "<Figure size 1200x600 with 1 Axes>"
      ]
     },
     "metadata": {},
     "output_type": "display_data"
    }
   ],
   "source": [
    "# Visualization of operative system\n",
    "fig, ax = plt.subplots(figsize=(12, 6))\n",
    "sns.barplot(x='operative_system', y='converted', hue='test', data=data, ax=ax)\n",
    "ax.set_title('Mean Conversion Rate vs. Operative System', fontsize=16)\n",
    "plt.show()"
   ]
  },
  {
   "cell_type": "markdown",
   "id": "71a14e1b-867f-43ac-ad06-3fd3fbd442ed",
   "metadata": {},
   "source": [
    "根据上述可视化结果，我们可以轻松得出价格对转化率有显著影响的结论。然而，除了价格之外，还有其他因素可能影响转化率。\n",
    "\n",
    "1. **来源（Source）**:\n",
    "   - 通过朋友推荐的用户具有更高的转化率。\n",
    "\n",
    "2. **设备（Device）**:\n",
    "   - 设备的影响不显著。\n",
    "\n",
    "3. **操作系统（Operative System）**:\n",
    "   - 使用 Mac 和 iOS 的用户具有更高的转化率。"
   ]
  }
 ],
 "metadata": {
  "kernelspec": {
   "display_name": "Python 3 (ipykernel)",
   "language": "python",
   "name": "python3"
  },
  "language_info": {
   "codemirror_mode": {
    "name": "ipython",
    "version": 3
   },
   "file_extension": ".py",
   "mimetype": "text/x-python",
   "name": "python",
   "nbconvert_exporter": "python",
   "pygments_lexer": "ipython3",
   "version": "3.11.9"
  }
 },
 "nbformat": 4,
 "nbformat_minor": 5
}
