{
 "cells": [
  {
   "cell_type": "markdown",
   "id": "5af74803-ce53-463c-8348-91588a8a345e",
   "metadata": {},
   "source": [
    "# 介绍"
   ]
  },
  {
   "cell_type": "markdown",
   "id": "f95744f2-1386-4142-ad26-d06fff316a81",
   "metadata": {},
   "source": [
    "在XYZ公司初创阶段，数据管理尚处于初级阶段，所有信息均以JSON文件形式存储。此时，公司面临扩张的机遇，若扩张成功，早期员工的股权将可能带来丰厚的回报。在这一关键时刻，公司的首席执行官提出了一系列重要问题，涉及用户分布、用户参与度、早期采用者以及产品功能的改进。具体问题包括：1) 识别用户数量最多和最少的州；2) 分析各州的用户参与度；3) 找出每个州最早注册的用户；4) 开发一种基础的歌曲推荐功能；5) 设计测试方法来验证推荐模型的有效性。\n",
    "\n",
    "面对这些问题，深入分析现有数据并提供见解和解决方案的任务至关重要。这不仅要求具备数据分析能力，还需要创新思考，为公司的成长战略提供有价值的建议。这一挑战将考验分析技能、创造力和战略思维，同时也为早期员工提供了在潜力巨大的初创公司中发挥关键作用的机会。"
   ]
  },
  {
   "cell_type": "markdown",
   "id": "9d274439-0471-41b4-92d4-f0855941d80f",
   "metadata": {},
   "source": [
    "# 导入数据集"
   ]
  },
  {
   "cell_type": "markdown",
   "id": "d23824c4-abbe-4883-b251-9352aeda98a6",
   "metadata": {},
   "source": [
    "导入常用的库："
   ]
  },
  {
   "cell_type": "code",
   "execution_count": 1,
   "id": "6fcbb89a-88a3-4297-ae2c-fef1b7550e82",
   "metadata": {},
   "outputs": [],
   "source": [
    "import numpy as np\n",
    "import pandas as pd\n",
    "import matplotlib.pyplot as plt\n",
    "\n",
    "%matplotlib inline"
   ]
  },
  {
   "cell_type": "markdown",
   "id": "e40ea182-57b0-4cd0-8cac-40e507c386ef",
   "metadata": {},
   "source": [
    "接着导入数据集："
   ]
  },
  {
   "cell_type": "code",
   "execution_count": 2,
   "id": "615a4e91-41f1-4316-9da8-2b51db96ded4",
   "metadata": {},
   "outputs": [],
   "source": [
    "song_data = pd.read_json(\"./../dataset/08. song.json\")"
   ]
  },
  {
   "cell_type": "code",
   "execution_count": 3,
   "id": "2270d259-1a52-4caa-882a-4867cb10dbee",
   "metadata": {},
   "outputs": [
    {
     "data": {
      "text/html": [
       "<div>\n",
       "<style scoped>\n",
       "    .dataframe tbody tr th:only-of-type {\n",
       "        vertical-align: middle;\n",
       "    }\n",
       "\n",
       "    .dataframe tbody tr th {\n",
       "        vertical-align: top;\n",
       "    }\n",
       "\n",
       "    .dataframe thead th {\n",
       "        text-align: right;\n",
       "    }\n",
       "</style>\n",
       "<table border=\"1\" class=\"dataframe\">\n",
       "  <thead>\n",
       "    <tr style=\"text-align: right;\">\n",
       "      <th></th>\n",
       "      <th>id</th>\n",
       "      <th>user_id</th>\n",
       "      <th>user_state</th>\n",
       "      <th>user_sign_up_date</th>\n",
       "      <th>song_played</th>\n",
       "      <th>time_played</th>\n",
       "    </tr>\n",
       "  </thead>\n",
       "  <tbody>\n",
       "    <tr>\n",
       "      <th>0</th>\n",
       "      <td>GOQMMKSQQH</td>\n",
       "      <td>122</td>\n",
       "      <td>Louisiana</td>\n",
       "      <td>2015-05-16</td>\n",
       "      <td>Hey Jude</td>\n",
       "      <td>2015-06-11 21:51:35</td>\n",
       "    </tr>\n",
       "    <tr>\n",
       "      <th>1</th>\n",
       "      <td>HWKKBQKNWI</td>\n",
       "      <td>3</td>\n",
       "      <td>Ohio</td>\n",
       "      <td>2015-05-01</td>\n",
       "      <td>We Can Work It Out</td>\n",
       "      <td>2015-06-06 16:49:19</td>\n",
       "    </tr>\n",
       "    <tr>\n",
       "      <th>2</th>\n",
       "      <td>DKQSXVNJDH</td>\n",
       "      <td>35</td>\n",
       "      <td>New Jersey</td>\n",
       "      <td>2015-05-04</td>\n",
       "      <td>Back In the U.S.S.R.</td>\n",
       "      <td>2015-06-14 02:11:29</td>\n",
       "    </tr>\n",
       "    <tr>\n",
       "      <th>3</th>\n",
       "      <td>HLHRIDQTUW</td>\n",
       "      <td>126</td>\n",
       "      <td>Illinois</td>\n",
       "      <td>2015-05-16</td>\n",
       "      <td>P.s. I Love You</td>\n",
       "      <td>2015-06-08 12:26:10</td>\n",
       "    </tr>\n",
       "    <tr>\n",
       "      <th>4</th>\n",
       "      <td>SUKJCSBCYW</td>\n",
       "      <td>6</td>\n",
       "      <td>New Jersey</td>\n",
       "      <td>2015-05-01</td>\n",
       "      <td>Sgt. Pepper's Lonely Hearts Club Band</td>\n",
       "      <td>2015-06-28 14:57:00</td>\n",
       "    </tr>\n",
       "  </tbody>\n",
       "</table>\n",
       "</div>"
      ],
      "text/plain": [
       "           id  user_id  user_state user_sign_up_date  \\\n",
       "0  GOQMMKSQQH      122   Louisiana        2015-05-16   \n",
       "1  HWKKBQKNWI        3        Ohio        2015-05-01   \n",
       "2  DKQSXVNJDH       35  New Jersey        2015-05-04   \n",
       "3  HLHRIDQTUW      126    Illinois        2015-05-16   \n",
       "4  SUKJCSBCYW        6  New Jersey        2015-05-01   \n",
       "\n",
       "                             song_played          time_played  \n",
       "0                               Hey Jude  2015-06-11 21:51:35  \n",
       "1                     We Can Work It Out  2015-06-06 16:49:19  \n",
       "2                   Back In the U.S.S.R.  2015-06-14 02:11:29  \n",
       "3                        P.s. I Love You  2015-06-08 12:26:10  \n",
       "4  Sgt. Pepper's Lonely Hearts Club Band  2015-06-28 14:57:00  "
      ]
     },
     "execution_count": 3,
     "metadata": {},
     "output_type": "execute_result"
    }
   ],
   "source": [
    "song_data.head()"
   ]
  },
  {
   "cell_type": "markdown",
   "id": "5decb0da-13c2-4f09-88f0-b0d50dd3f4a8",
   "metadata": {},
   "source": [
    "# 数据处理"
   ]
  },
  {
   "cell_type": "markdown",
   "id": "aacdc227-3b93-43e5-8ae5-d7b6e97e5284",
   "metadata": {},
   "source": [
    "查看一下数据集的信息："
   ]
  },
  {
   "cell_type": "code",
   "execution_count": 4,
   "id": "8e5730fa-143c-402b-ae7b-30300394ffff",
   "metadata": {},
   "outputs": [
    {
     "name": "stdout",
     "output_type": "stream",
     "text": [
      "<class 'pandas.core.frame.DataFrame'>\n",
      "RangeIndex: 4000 entries, 0 to 3999\n",
      "Data columns (total 6 columns):\n",
      " #   Column             Non-Null Count  Dtype \n",
      "---  ------             --------------  ----- \n",
      " 0   id                 4000 non-null   object\n",
      " 1   user_id            4000 non-null   int64 \n",
      " 2   user_state         4000 non-null   object\n",
      " 3   user_sign_up_date  4000 non-null   object\n",
      " 4   song_played        4000 non-null   object\n",
      " 5   time_played        4000 non-null   object\n",
      "dtypes: int64(1), object(5)\n",
      "memory usage: 187.6+ KB\n"
     ]
    }
   ],
   "source": [
    "song_data.info()"
   ]
  },
  {
   "cell_type": "markdown",
   "id": "efd38374-c9e3-4f31-a471-e8c8e7095c66",
   "metadata": {},
   "source": [
    "可以认为数据集一共有4000个，并没有哪个特征变量存在着缺失值，一些特征变量需要进行类型转换。"
   ]
  },
  {
   "cell_type": "code",
   "execution_count": 5,
   "id": "e760cfaa-2c97-40bd-afd8-a35908caace2",
   "metadata": {},
   "outputs": [],
   "source": [
    "# 将'user_sign_up_date'转换为日期格式\n",
    "song_data['user_sign_up_date'] = pd.to_datetime(song_data['user_sign_up_date'])\n",
    "\n",
    "# 将'time_played'转换为日期时间格式\n",
    "song_data['time_played'] = pd.to_datetime(song_data['time_played'])"
   ]
  },
  {
   "cell_type": "markdown",
   "id": "fffd66f6-13f5-4a23-b806-43310766671a",
   "metadata": {},
   "source": [
    "# 数据探索"
   ]
  },
  {
   "cell_type": "code",
   "execution_count": 6,
   "id": "b66548c2-98bd-4288-98ab-779dfb13ba6a",
   "metadata": {},
   "outputs": [
    {
     "data": {
      "text/html": [
       "<div>\n",
       "<style scoped>\n",
       "    .dataframe tbody tr th:only-of-type {\n",
       "        vertical-align: middle;\n",
       "    }\n",
       "\n",
       "    .dataframe tbody tr th {\n",
       "        vertical-align: top;\n",
       "    }\n",
       "\n",
       "    .dataframe thead th {\n",
       "        text-align: right;\n",
       "    }\n",
       "</style>\n",
       "<table border=\"1\" class=\"dataframe\">\n",
       "  <thead>\n",
       "    <tr style=\"text-align: right;\">\n",
       "      <th></th>\n",
       "      <th>id</th>\n",
       "      <th>user_id</th>\n",
       "      <th>user_state</th>\n",
       "      <th>user_sign_up_date</th>\n",
       "      <th>song_played</th>\n",
       "      <th>time_played</th>\n",
       "    </tr>\n",
       "  </thead>\n",
       "  <tbody>\n",
       "    <tr>\n",
       "      <th>count</th>\n",
       "      <td>4000</td>\n",
       "      <td>4000.000000</td>\n",
       "      <td>4000</td>\n",
       "      <td>4000</td>\n",
       "      <td>4000</td>\n",
       "      <td>4000</td>\n",
       "    </tr>\n",
       "    <tr>\n",
       "      <th>unique</th>\n",
       "      <td>4000</td>\n",
       "      <td>NaN</td>\n",
       "      <td>41</td>\n",
       "      <td>NaN</td>\n",
       "      <td>97</td>\n",
       "      <td>NaN</td>\n",
       "    </tr>\n",
       "    <tr>\n",
       "      <th>top</th>\n",
       "      <td>GOQMMKSQQH</td>\n",
       "      <td>NaN</td>\n",
       "      <td>New York</td>\n",
       "      <td>NaN</td>\n",
       "      <td>Come Together</td>\n",
       "      <td>NaN</td>\n",
       "    </tr>\n",
       "    <tr>\n",
       "      <th>freq</th>\n",
       "      <td>1</td>\n",
       "      <td>NaN</td>\n",
       "      <td>469</td>\n",
       "      <td>NaN</td>\n",
       "      <td>408</td>\n",
       "      <td>NaN</td>\n",
       "    </tr>\n",
       "    <tr>\n",
       "      <th>mean</th>\n",
       "      <td>NaN</td>\n",
       "      <td>101.574000</td>\n",
       "      <td>NaN</td>\n",
       "      <td>2015-05-11 17:06:00</td>\n",
       "      <td>NaN</td>\n",
       "      <td>2015-06-15 00:48:44.929500160</td>\n",
       "    </tr>\n",
       "    <tr>\n",
       "      <th>min</th>\n",
       "      <td>NaN</td>\n",
       "      <td>1.000000</td>\n",
       "      <td>NaN</td>\n",
       "      <td>2015-05-01 00:00:00</td>\n",
       "      <td>NaN</td>\n",
       "      <td>2015-06-01 05:02:54</td>\n",
       "    </tr>\n",
       "    <tr>\n",
       "      <th>25%</th>\n",
       "      <td>NaN</td>\n",
       "      <td>48.000000</td>\n",
       "      <td>NaN</td>\n",
       "      <td>2015-05-06 00:00:00</td>\n",
       "      <td>NaN</td>\n",
       "      <td>2015-06-07 20:02:02</td>\n",
       "    </tr>\n",
       "    <tr>\n",
       "      <th>50%</th>\n",
       "      <td>NaN</td>\n",
       "      <td>102.000000</td>\n",
       "      <td>NaN</td>\n",
       "      <td>2015-05-12 00:00:00</td>\n",
       "      <td>NaN</td>\n",
       "      <td>2015-06-14 20:04:12.500000</td>\n",
       "    </tr>\n",
       "    <tr>\n",
       "      <th>75%</th>\n",
       "      <td>NaN</td>\n",
       "      <td>155.000000</td>\n",
       "      <td>NaN</td>\n",
       "      <td>2015-05-19 00:00:00</td>\n",
       "      <td>NaN</td>\n",
       "      <td>2015-06-21 21:36:30.249999872</td>\n",
       "    </tr>\n",
       "    <tr>\n",
       "      <th>max</th>\n",
       "      <td>NaN</td>\n",
       "      <td>200.000000</td>\n",
       "      <td>NaN</td>\n",
       "      <td>2015-05-20 00:00:00</td>\n",
       "      <td>NaN</td>\n",
       "      <td>2015-06-28 23:46:06</td>\n",
       "    </tr>\n",
       "    <tr>\n",
       "      <th>std</th>\n",
       "      <td>NaN</td>\n",
       "      <td>58.766835</td>\n",
       "      <td>NaN</td>\n",
       "      <td>NaN</td>\n",
       "      <td>NaN</td>\n",
       "      <td>NaN</td>\n",
       "    </tr>\n",
       "  </tbody>\n",
       "</table>\n",
       "</div>"
      ],
      "text/plain": [
       "                id      user_id user_state    user_sign_up_date  \\\n",
       "count         4000  4000.000000       4000                 4000   \n",
       "unique        4000          NaN         41                  NaN   \n",
       "top     GOQMMKSQQH          NaN   New York                  NaN   \n",
       "freq             1          NaN        469                  NaN   \n",
       "mean           NaN   101.574000        NaN  2015-05-11 17:06:00   \n",
       "min            NaN     1.000000        NaN  2015-05-01 00:00:00   \n",
       "25%            NaN    48.000000        NaN  2015-05-06 00:00:00   \n",
       "50%            NaN   102.000000        NaN  2015-05-12 00:00:00   \n",
       "75%            NaN   155.000000        NaN  2015-05-19 00:00:00   \n",
       "max            NaN   200.000000        NaN  2015-05-20 00:00:00   \n",
       "std            NaN    58.766835        NaN                  NaN   \n",
       "\n",
       "          song_played                    time_played  \n",
       "count            4000                           4000  \n",
       "unique             97                            NaN  \n",
       "top     Come Together                            NaN  \n",
       "freq              408                            NaN  \n",
       "mean              NaN  2015-06-15 00:48:44.929500160  \n",
       "min               NaN            2015-06-01 05:02:54  \n",
       "25%               NaN            2015-06-07 20:02:02  \n",
       "50%               NaN     2015-06-14 20:04:12.500000  \n",
       "75%               NaN  2015-06-21 21:36:30.249999872  \n",
       "max               NaN            2015-06-28 23:46:06  \n",
       "std               NaN                            NaN  "
      ]
     },
     "execution_count": 6,
     "metadata": {},
     "output_type": "execute_result"
    }
   ],
   "source": [
    "song_data.describe(include='all')"
   ]
  },
  {
   "cell_type": "markdown",
   "id": "02223b84-afcd-42cb-9d99-4543fb41b71a",
   "metadata": {},
   "source": [
    "- 州 (user_state): 数据集中包含41个不同的州。\n",
    "- 注册日期 (user_sign_up_date): 注册日期在2015年05月01日到2015年05月20日之间，共有20个不同的日期。\n",
    "- 歌曲播放 (song_played): 总共有97首不同的歌曲被播放。\n",
    "- 播放时间 (time_played): 时间戳显示有3997个唯一的播放时间，存在少量的重复时间戳。"
   ]
  },
  {
   "cell_type": "code",
   "execution_count": 7,
   "id": "8172a41b-e05f-4aaf-9696-6db84cbab10d",
   "metadata": {},
   "outputs": [
    {
     "data": {
      "text/plain": [
       "196"
      ]
     },
     "execution_count": 7,
     "metadata": {},
     "output_type": "execute_result"
    }
   ],
   "source": [
    "unique_user_count = song_data['user_id'].nunique()\n",
    "unique_user_count"
   ]
  },
  {
   "cell_type": "markdown",
   "id": "7a2efec4-6847-4b86-9e0f-88effe58077c",
   "metadata": {},
   "source": [
    "数据集中user_id列只有196个唯一值意味着尽管总共有4000条记录，但这些记录只涉及196个不同的用户。这种情况通常表示有些用户在数据收集期间有多个互动或活动记录。例如，一个用户可能在不同的时间播放了多首歌曲，或者在不同的日子里进行了多次活动，每次活动都被记录在数据集中。\n",
    "\n",
    "如果你的数据集包含如歌曲播放记录或用户登录信息等多次用户活动，这是很常见的。每个用户可能对应多条记录，但在统计唯一用户数量时，这些重复的用户ID会被计算为一个。这样可以更清楚地了解实际的用户基础大小，而不是单纯的活动数量。"
   ]
  },
  {
   "cell_type": "markdown",
   "id": "27ced71b-38b8-4aef-981f-c08253a9f8c5",
   "metadata": {},
   "source": [
    "# 州分布情况"
   ]
  },
  {
   "cell_type": "code",
   "execution_count": 8,
   "id": "e440d8fc-6747-4d8a-99de-86cd785c21e8",
   "metadata": {},
   "outputs": [
    {
     "data": {
      "image/png": "[encoded data removed]",
      "text/plain": [
       "<Figure size 640x480 with 1 Axes>"
      ]
     },
     "metadata": {},
     "output_type": "display_data"
    }
   ],
   "source": [
    "song_data['user_state'].value_counts().plot(kind='bar')\n",
    "plt.title('User Distribution by State')\n",
    "plt.xlabel('State')\n",
    "plt.ylabel('Number of Users')\n",
    "plt.show()"
   ]
  },
  {
   "cell_type": "markdown",
   "id": "88434671-a6c8-44f0-80c5-5882c884ae6e",
   "metadata": {},
   "source": [
    "上述的可视化结果给出了数据集中每个州出现次数的柱状图，从可视化的结果来看，可以发现New York和Califomia两个州遥遥领先于其他的几个州。"
   ]
  },
  {
   "cell_type": "markdown",
   "id": "895bcbd4-1f2c-4a13-b0e6-3a7199bfd5c8",
   "metadata": {},
   "source": [
    "但是这并不能够表明州用户数量信息，因为同一个用户可能多次登录使用以至于他的信息被记录下来了。"
   ]
  },
  {
   "cell_type": "code",
   "execution_count": 9,
   "id": "95edb27a-d428-4c90-a3ff-09e009483ecd",
   "metadata": {},
   "outputs": [
    {
     "data": {
      "image/png": "[encoded data removed]",
      "text/plain": [
       "<Figure size 640x480 with 1 Axes>"
      ]
     },
     "metadata": {},
     "output_type": "display_data"
    }
   ],
   "source": [
    "unique_users_per_state = song_data.groupby('user_state')['user_id'].nunique()\n",
    "\n",
    "# 先按照唯一用户数排序\n",
    "unique_users_per_state_sorted = unique_users_per_state.sort_values()\n",
    "\n",
    "# 绘制排序后的条形图\n",
    "unique_users_per_state_sorted.plot(kind='bar')\n",
    "plt.title('Unique User Distribution by State - Sorted')\n",
    "plt.xlabel('State')\n",
    "plt.ylabel('Number of Unique Users')\n",
    "plt.show()"
   ]
  },
  {
   "cell_type": "markdown",
   "id": "ff112008-91b9-4027-bb9c-49363f374c91",
   "metadata": {},
   "source": [
    "可以发现用户数量最多的三个州为：New York，Califomia和Pennsylvania；反之，则是Arizona，New Mexico和Connecticut。"
   ]
  },
  {
   "cell_type": "markdown",
   "id": "05f1a6c1-1d97-48f1-9a5b-54ec4a002904",
   "metadata": {},
   "source": [
    "# 各州用户参与度"
   ]
  },
  {
   "cell_type": "markdown",
   "id": "303c88f3-dddb-4cc9-855c-86cc04c2a5c5",
   "metadata": {},
   "source": [
    "用户参与度指标定义\n",
    "\n",
    "用户参与度是一个关键指标，用来衡量用户对产品或服务的活跃使用程度。在音乐播放平台的背景下，参与度可以通过以下几个维度来定义：\n",
    "\n",
    "1. **播放次数**：用户播放歌曲的总次数，反映了用户活跃程度。\n",
    "2. **播放的唯一歌曲数**：用户播放的不同歌曲的数量，可以反映用户对平台内容的探索性。\n",
    "3. **活跃天数**：用户在平台上活跃的天数，从首次播放到最后播放的时间跨度。\n",
    "\n",
    "计算方法\n",
    "\n",
    "基于上述定义，我们可以构建一个综合指标，将这三个维度结合起来，以得到每个州的平均用户参与度。这个综合指标可以按以下步骤计算：\n",
    "\n",
    "1. **计算每个用户的总播放次数**：\n",
    "   $ \\text{总播放次数} = \\text{用户的歌曲播放记录数} $\n",
    "\n",
    "2. **计算每个用户播放的唯一歌曲数**：\n",
    "   $ \\text{唯一歌曲数} = \\text{用户播放的不同歌曲的数量} $\n",
    "\n",
    "3. **计算每个用户的活跃天数**：\n",
    "   $ \\text{活跃天数} = \\text{用户最后一次播放日期} - \\text{用户首次播放日期} + 1 $\n",
    "\n",
    "4. **计算每个用户的参与度得分**：\n",
    "   $ \\text{用户参与度} = \\frac{\\text{总播放次数} + \\text{唯一歌曲数} + \\text{活跃天数}}{3} $\n",
    "\n",
    "5. **计算每个州的平均用户参与度**：\n",
    "   $ \\text{州平均参与度} = \\frac{\\text{该州所有用户参与度之和}}{\\text{该州用户数}} $\n",
    "\n",
    "为什么这是合理的\n",
    "\n",
    "- **综合性**：此指标通过结合多个维度来衡量用户参与度，比单一指标更全面。\n",
    "- **平衡性**：通过平均化多个维度，避免了某一方面过度影响结果的问题。\n",
    "- **适应性**：适用于多种类型的平台，可以根据不同行业特点进行调整。\n",
    "\n",
    "接下来，我将执行这些计算步骤，首先是生成每个用户的参与度得分，然后计算各州的平均参与度。"
   ]
  },
  {
   "cell_type": "code",
   "execution_count": 10,
   "id": "08c931bd-1802-48db-a0f1-691c4e111fa9",
   "metadata": {},
   "outputs": [],
   "source": [
    "# Calculate engagement metrics\n",
    "user_plays = song_data.groupby('user_id').size()\n",
    "user_unique_songs = song_data.groupby('user_id')['song_played'].nunique()\n",
    "user_first_play = song_data.groupby('user_id')['time_played'].min()\n",
    "user_last_play = song_data.groupby('user_id')['time_played'].max()\n",
    "user_active_days = (user_last_play - user_first_play).dt.days + 1"
   ]
  },
  {
   "cell_type": "code",
   "execution_count": 11,
   "id": "3f591a8a-d235-4665-a33e-bf73b59891ca",
   "metadata": {},
   "outputs": [],
   "source": [
    "user_engagement = pd.DataFrame({\n",
    "    'Total Plays': user_plays,\n",
    "    'Unique Songs': user_unique_songs,\n",
    "    'Active Days': user_active_days\n",
    "})\n",
    "user_engagement['Engagement Score'] = (user_engagement['Total Plays'] +\n",
    "                                       user_engagement['Unique Songs'] +\n",
    "                                       user_engagement['Active Days']) / 3"
   ]
  },
  {
   "cell_type": "code",
   "execution_count": 12,
   "id": "ad9ba2c6-35f7-49b7-9c5e-85ae59e61533",
   "metadata": {},
   "outputs": [],
   "source": [
    "# Map each user's state to their user_id for averaging by state\n",
    "user_state_map = song_data[['user_id', 'user_state']].drop_duplicates().set_index('user_id')\n",
    "user_engagement = user_engagement.join(user_state_map)\n",
    "\n",
    "# Calculate average engagement score by state\n",
    "state_engagement = user_engagement.groupby('user_state')['Engagement Score'].mean()"
   ]
  },
  {
   "cell_type": "code",
   "execution_count": 13,
   "id": "f4fef2ec-a15e-46af-8ea5-9a891555dc77",
   "metadata": {},
   "outputs": [
    {
     "data": {
      "image/png": "[encoded data removed]",
      "text/plain": [
       "<Figure size 1000x500 with 1 Axes>"
      ]
     },
     "metadata": {},
     "output_type": "display_data"
    }
   ],
   "source": [
    "# Visualize the average engagement score by state\n",
    "plt.figure(figsize=(10, 5))\n",
    "state_engagement.sort_values(ascending=False).plot(kind='bar', color='skyblue')\n",
    "plt.title('Average User Engagement Score by State')\n",
    "plt.xlabel('State')\n",
    "plt.ylabel('Average Engagement Score')\n",
    "plt.xticks(rotation=90)\n",
    "plt.show()"
   ]
  },
  {
   "cell_type": "code",
   "execution_count": 14,
   "id": "78b24247-d38b-481e-9312-524d596c8200",
   "metadata": {},
   "outputs": [
    {
     "data": {
      "text/plain": [
       "user_state\n",
       "Alabama           23.250000\n",
       "Alaska            24.333333\n",
       "Arizona           22.333333\n",
       "Arkansas          17.333333\n",
       "California        19.444444\n",
       "Colorado          17.111111\n",
       "Connecticut       16.333333\n",
       "Florida           22.904762\n",
       "Georgia           20.777778\n",
       "Idaho             23.666667\n",
       "Illinois          20.095238\n",
       "Indiana           14.666667\n",
       "Iowa              22.333333\n",
       "Kansas            12.333333\n",
       "Kentucky          23.666667\n",
       "Louisiana         18.466667\n",
       "Maryland          21.133333\n",
       "Massachusetts     15.722222\n",
       "Michigan          17.466667\n",
       "Minnesota         10.666667\n",
       "Mississippi       23.222222\n",
       "Missouri          23.333333\n",
       "Nebraska          29.000000\n",
       "New Jersey        18.277778\n",
       "New Mexico        18.666667\n",
       "New York          19.811594\n",
       "North Carolina    23.277778\n",
       "North Dakota      23.333333\n",
       "Ohio              21.148148\n",
       "Oklahoma          22.500000\n",
       "Oregon            20.444444\n",
       "Pennsylvania      19.888889\n",
       "Rhode Island      24.666667\n",
       "South Carolina    23.777778\n",
       "Tennessee         20.000000\n",
       "Texas             16.400000\n",
       "Utah              17.000000\n",
       "Virginia           8.000000\n",
       "Washington        20.833333\n",
       "West Virginia     13.111111\n",
       "Wisconsin         18.466667\n",
       "Name: Engagement Score, dtype: float64"
      ]
     },
     "execution_count": 14,
     "metadata": {},
     "output_type": "execute_result"
    }
   ],
   "source": [
    "state_engagement"
   ]
  },
  {
   "cell_type": "markdown",
   "id": "ca4ebc5d-53c1-4757-9e8e-7fb9b8cbbd92",
   "metadata": {},
   "source": [
    "用户参与度数据显示各州之间存在显著的差异，这些差异可能由多种因素造成，包括地区文化、市场策略及经济条件等。\n",
    "\n",
    "首先，从高参与度的州份来看，Nebraska和Rhode Island展示出了最高的用户参与度，其次是South Carolina、Missouri和North Dakota。这些州的用户表现出高度的活跃性和多样化的音乐探索行为。这可能表明这些地区的用户更倾向于广泛使用音乐平台的服务，他们不仅频繁使用该服务，而且探索了多种不同的音乐曲目。\n",
    "\n",
    "对于中等参与度的州份，如California、New York和Pennsylvania，虽然这些州拥有较大的用户基数，但其平均参与度得分并没有达到最高水平。这可能反映了这些州的用户群体在使用习惯和音乐品味上的多样性，导致了平均参与度得分的平均化。\n",
    "\n",
    "另一方面，Virginia、West Virginia和Minnesota的用户参与度相对较低，这可能指示这些地区的用户对音乐平台的使用频率较低，或者他们倾向于较少地探索新的音乐内容。这种低参与度可能是由于地区文化的差异、平台在这些州的市场推广不足，或是经济因素导致的消费能力较低。\n",
    "\n",
    "综上所述，这些参与度的地区差异表明，音乐播放平台可能需要根据不同地区的特定市场条件和用户特性，制定更加个性化和差异化的营销策略。这不仅能提高用户的总体参与度，还能增强用户的忠诚度和满意度。"
   ]
  },
  {
   "cell_type": "markdown",
   "id": "0e2fc01a-83c7-4074-a628-affb6b34918a",
   "metadata": {},
   "source": [
    "# 最早注册用户分析"
   ]
  },
  {
   "cell_type": "code",
   "execution_count": 15,
   "id": "81ad0c66-6579-4454-ac47-077c7a110fa3",
   "metadata": {},
   "outputs": [
    {
     "data": {
      "text/html": [
       "<div>\n",
       "<style scoped>\n",
       "    .dataframe tbody tr th:only-of-type {\n",
       "        vertical-align: middle;\n",
       "    }\n",
       "\n",
       "    .dataframe tbody tr th {\n",
       "        vertical-align: top;\n",
       "    }\n",
       "\n",
       "    .dataframe thead th {\n",
       "        text-align: right;\n",
       "    }\n",
       "</style>\n",
       "<table border=\"1\" class=\"dataframe\">\n",
       "  <thead>\n",
       "    <tr style=\"text-align: right;\">\n",
       "      <th></th>\n",
       "      <th>id</th>\n",
       "      <th>user_id</th>\n",
       "      <th>user_state</th>\n",
       "      <th>user_sign_up_date</th>\n",
       "      <th>song_played</th>\n",
       "      <th>time_played</th>\n",
       "    </tr>\n",
       "  </thead>\n",
       "  <tbody>\n",
       "    <tr>\n",
       "      <th>0</th>\n",
       "      <td>GOQMMKSQQH</td>\n",
       "      <td>122</td>\n",
       "      <td>Louisiana</td>\n",
       "      <td>2015-05-16</td>\n",
       "      <td>Hey Jude</td>\n",
       "      <td>2015-06-11 21:51:35</td>\n",
       "    </tr>\n",
       "    <tr>\n",
       "      <th>1</th>\n",
       "      <td>HWKKBQKNWI</td>\n",
       "      <td>3</td>\n",
       "      <td>Ohio</td>\n",
       "      <td>2015-05-01</td>\n",
       "      <td>We Can Work It Out</td>\n",
       "      <td>2015-06-06 16:49:19</td>\n",
       "    </tr>\n",
       "    <tr>\n",
       "      <th>2</th>\n",
       "      <td>DKQSXVNJDH</td>\n",
       "      <td>35</td>\n",
       "      <td>New Jersey</td>\n",
       "      <td>2015-05-04</td>\n",
       "      <td>Back In the U.S.S.R.</td>\n",
       "      <td>2015-06-14 02:11:29</td>\n",
       "    </tr>\n",
       "    <tr>\n",
       "      <th>3</th>\n",
       "      <td>HLHRIDQTUW</td>\n",
       "      <td>126</td>\n",
       "      <td>Illinois</td>\n",
       "      <td>2015-05-16</td>\n",
       "      <td>P.s. I Love You</td>\n",
       "      <td>2015-06-08 12:26:10</td>\n",
       "    </tr>\n",
       "    <tr>\n",
       "      <th>4</th>\n",
       "      <td>SUKJCSBCYW</td>\n",
       "      <td>6</td>\n",
       "      <td>New Jersey</td>\n",
       "      <td>2015-05-01</td>\n",
       "      <td>Sgt. Pepper's Lonely Hearts Club Band</td>\n",
       "      <td>2015-06-28 14:57:00</td>\n",
       "    </tr>\n",
       "    <tr>\n",
       "      <th>...</th>\n",
       "      <td>...</td>\n",
       "      <td>...</td>\n",
       "      <td>...</td>\n",
       "      <td>...</td>\n",
       "      <td>...</td>\n",
       "      <td>...</td>\n",
       "    </tr>\n",
       "    <tr>\n",
       "      <th>3995</th>\n",
       "      <td>MKVEXMRJGF</td>\n",
       "      <td>122</td>\n",
       "      <td>Louisiana</td>\n",
       "      <td>2015-05-16</td>\n",
       "      <td>Paperback Writer</td>\n",
       "      <td>2015-06-03 08:26:26</td>\n",
       "    </tr>\n",
       "    <tr>\n",
       "      <th>3996</th>\n",
       "      <td>HMBEUWPBQI</td>\n",
       "      <td>76</td>\n",
       "      <td>New York</td>\n",
       "      <td>2015-05-08</td>\n",
       "      <td>Reprise / Day in the Life</td>\n",
       "      <td>2015-06-14 15:46:04</td>\n",
       "    </tr>\n",
       "    <tr>\n",
       "      <th>3997</th>\n",
       "      <td>KIYDZUFUJN</td>\n",
       "      <td>68</td>\n",
       "      <td>Florida</td>\n",
       "      <td>2015-05-08</td>\n",
       "      <td>Get Back</td>\n",
       "      <td>2015-06-13 13:13:11</td>\n",
       "    </tr>\n",
       "    <tr>\n",
       "      <th>3998</th>\n",
       "      <td>BZNJXQSTTL</td>\n",
       "      <td>138</td>\n",
       "      <td>Alabama</td>\n",
       "      <td>2015-05-17</td>\n",
       "      <td>Help!</td>\n",
       "      <td>2015-06-01 17:01:40</td>\n",
       "    </tr>\n",
       "    <tr>\n",
       "      <th>3999</th>\n",
       "      <td>LXJTCLWRUV</td>\n",
       "      <td>188</td>\n",
       "      <td>New York</td>\n",
       "      <td>2015-05-20</td>\n",
       "      <td>Birthday</td>\n",
       "      <td>2015-06-25 18:13:41</td>\n",
       "    </tr>\n",
       "  </tbody>\n",
       "</table>\n",
       "<p>4000 rows × 6 columns</p>\n",
       "</div>"
      ],
      "text/plain": [
       "              id  user_id  user_state user_sign_up_date  \\\n",
       "0     GOQMMKSQQH      122   Louisiana        2015-05-16   \n",
       "1     HWKKBQKNWI        3        Ohio        2015-05-01   \n",
       "2     DKQSXVNJDH       35  New Jersey        2015-05-04   \n",
       "3     HLHRIDQTUW      126    Illinois        2015-05-16   \n",
       "4     SUKJCSBCYW        6  New Jersey        2015-05-01   \n",
       "...          ...      ...         ...               ...   \n",
       "3995  MKVEXMRJGF      122   Louisiana        2015-05-16   \n",
       "3996  HMBEUWPBQI       76    New York        2015-05-08   \n",
       "3997  KIYDZUFUJN       68     Florida        2015-05-08   \n",
       "3998  BZNJXQSTTL      138     Alabama        2015-05-17   \n",
       "3999  LXJTCLWRUV      188    New York        2015-05-20   \n",
       "\n",
       "                                song_played         time_played  \n",
       "0                                  Hey Jude 2015-06-11 21:51:35  \n",
       "1                        We Can Work It Out 2015-06-06 16:49:19  \n",
       "2                      Back In the U.S.S.R. 2015-06-14 02:11:29  \n",
       "3                           P.s. I Love You 2015-06-08 12:26:10  \n",
       "4     Sgt. Pepper's Lonely Hearts Club Band 2015-06-28 14:57:00  \n",
       "...                                     ...                 ...  \n",
       "3995                       Paperback Writer 2015-06-03 08:26:26  \n",
       "3996              Reprise / Day in the Life 2015-06-14 15:46:04  \n",
       "3997                               Get Back 2015-06-13 13:13:11  \n",
       "3998                                  Help! 2015-06-01 17:01:40  \n",
       "3999                               Birthday 2015-06-25 18:13:41  \n",
       "\n",
       "[4000 rows x 6 columns]"
      ]
     },
     "execution_count": 15,
     "metadata": {},
     "output_type": "execute_result"
    }
   ],
   "source": [
    "song_data"
   ]
  },
  {
   "cell_type": "code",
   "execution_count": 16,
   "id": "eb955a4c-4a8f-4c68-9870-964df44dfeef",
   "metadata": {},
   "outputs": [
    {
     "name": "stdout",
     "output_type": "stream",
     "text": [
      "      user_id      user_state user_sign_up_date\n",
      "100         5         Alabama        2015-05-01\n",
      "112       106          Alaska        2015-05-12\n",
      "368       105         Arizona        2015-05-12\n",
      "257        78        Arkansas        2015-05-08\n",
      "397        39      California        2015-05-04\n",
      "118       173        Colorado        2015-05-19\n",
      "43        127     Connecticut        2015-05-16\n",
      "57         41         Florida        2015-05-04\n",
      "146        20         Georgia        2015-05-02\n",
      "33        165           Idaho        2015-05-19\n",
      "72         45        Illinois        2015-05-05\n",
      "175       102         Indiana        2015-05-12\n",
      "164       178            Iowa        2015-05-19\n",
      "798       177          Kansas        2015-05-19\n",
      "37         34        Kentucky        2015-05-04\n",
      "2398       50       Louisiana        2015-05-06\n",
      "26         18        Maryland        2015-05-02\n",
      "91         15   Massachusetts        2015-05-02\n",
      "90         13        Michigan        2015-05-02\n",
      "1647        8       Minnesota        2015-05-02\n",
      "56         23     Mississippi        2015-05-02\n",
      "24         85        Missouri        2015-05-09\n",
      "362       134        Nebraska        2015-05-16\n",
      "4           6      New Jersey        2015-05-01\n",
      "283         4      New Mexico        2015-05-01\n",
      "52         19        New York        2015-05-02\n",
      "199         2  North Carolina        2015-05-01\n",
      "242       135    North Dakota        2015-05-17\n",
      "1           3            Ohio        2015-05-01\n",
      "209       119        Oklahoma        2015-05-16\n",
      "353         1          Oregon        2015-05-01\n",
      "18         11    Pennsylvania        2015-05-02\n",
      "8         174    Rhode Island        2015-05-19\n",
      "132        64  South Carolina        2015-05-08\n",
      "64         70       Tennessee        2015-05-08\n",
      "192         7           Texas        2015-05-01\n",
      "342        29            Utah        2015-05-03\n",
      "1159      142        Virginia        2015-05-17\n",
      "92        125      Washington        2015-05-16\n",
      "61         60   West Virginia        2015-05-07\n",
      "46         32       Wisconsin        2015-05-04\n"
     ]
    }
   ],
   "source": [
    "# Find the earliest registered user in each state\n",
    "earliest_users = song_data.loc[song_data.groupby('user_state')['user_sign_up_date'].idxmin()]\n",
    "\n",
    "# Select relevant columns\n",
    "earliest_users = earliest_users[['user_id', 'user_state', 'user_sign_up_date']]\n",
    "\n",
    "# Print the results\n",
    "print(earliest_users)"
   ]
  },
  {
   "cell_type": "markdown",
   "id": "b98e373a-8125-4f53-bf7f-5460607fc752",
   "metadata": {},
   "source": [
    "同样可以查看最后注册的用户的信息："
   ]
  },
  {
   "cell_type": "code",
   "execution_count": 17,
   "id": "385024b7-28ad-4e10-b4e4-31beb4ae478a",
   "metadata": {},
   "outputs": [
    {
     "name": "stdout",
     "output_type": "stream",
     "text": [
      "      user_id      user_state user_sign_up_date\n",
      "153       148         Alabama        2015-05-18\n",
      "54        195          Alaska        2015-05-20\n",
      "368       105         Arizona        2015-05-12\n",
      "40        124        Arkansas        2015-05-16\n",
      "49        194      California        2015-05-20\n",
      "44        181        Colorado        2015-05-20\n",
      "43        127     Connecticut        2015-05-16\n",
      "119       189         Florida        2015-05-20\n",
      "147       183         Georgia        2015-05-20\n",
      "33        165           Idaho        2015-05-19\n",
      "7         171        Illinois        2015-05-19\n",
      "138       146         Indiana        2015-05-18\n",
      "164       178            Iowa        2015-05-19\n",
      "798       177          Kansas        2015-05-19\n",
      "80        169        Kentucky        2015-05-19\n",
      "41        193       Louisiana        2015-05-20\n",
      "442        81        Maryland        2015-05-09\n",
      "1261      191   Massachusetts        2015-05-20\n",
      "561       157        Michigan        2015-05-19\n",
      "200       172       Minnesota        2015-05-19\n",
      "59         98     Mississippi        2015-05-12\n",
      "109       176        Missouri        2015-05-19\n",
      "362       134        Nebraska        2015-05-16\n",
      "224       143      New Jersey        2015-05-17\n",
      "283         4      New Mexico        2015-05-01\n",
      "11        185        New York        2015-05-20\n",
      "279       200  North Carolina        2015-05-20\n",
      "242       135    North Dakota        2015-05-17\n",
      "1727      187            Ohio        2015-05-20\n",
      "29        182        Oklahoma        2015-05-20\n",
      "9         170          Oregon        2015-05-19\n",
      "68        199    Pennsylvania        2015-05-20\n",
      "8         174    Rhode Island        2015-05-19\n",
      "71         96  South Carolina        2015-05-12\n",
      "601       186       Tennessee        2015-05-20\n",
      "324       198           Texas        2015-05-20\n",
      "50         90            Utah        2015-05-10\n",
      "94        144        Virginia        2015-05-18\n",
      "31        175      Washington        2015-05-19\n",
      "345       190   West Virginia        2015-05-20\n",
      "36        184       Wisconsin        2015-05-20\n"
     ]
    }
   ],
   "source": [
    "# Find the earliest registered user in each state\n",
    "oldest_users = song_data.loc[song_data.groupby('user_state')['user_sign_up_date'].idxmax()]\n",
    "\n",
    "# Select relevant columns\n",
    "oldest_users = oldest_users[['user_id', 'user_state', 'user_sign_up_date']]\n",
    "\n",
    "# Print the results\n",
    "print(oldest_users)"
   ]
  },
  {
   "cell_type": "markdown",
   "id": "31042c8f-7ce6-4b77-9c2a-662104d55bb2",
   "metadata": {},
   "source": [
    "# 歌曲推荐"
   ]
  },
  {
   "cell_type": "markdown",
   "id": "04b985ae-e57f-4524-83be-ab632c23f15c",
   "metadata": {},
   "source": [
    "**思路一**"
   ]
  },
  {
   "cell_type": "markdown",
   "id": "58f49124-7b47-4daf-9502-c3a0ee45a81e",
   "metadata": {},
   "source": [
    "统计出来所有歌曲的排名榜单，然后推荐靠前的歌曲："
   ]
  },
  {
   "cell_type": "code",
   "execution_count": 18,
   "id": "5d92a66a-2d70-44c3-a4c6-80950b12e050",
   "metadata": {},
   "outputs": [
    {
     "name": "stdout",
     "output_type": "stream",
     "text": [
      "推荐的歌曲包括：\n",
      "['Come Together', 'Revolution', 'Get Back', 'A Day In The Life', 'Let It Be', 'While My Guitar Gently Weeps', 'Back In the U.S.S.R.', 'Hello Goodbye', 'Here Comes The Sun', 'Hey Jude']\n"
     ]
    }
   ],
   "source": [
    "# 计算每首歌曲的播放次数\n",
    "song_play_counts = song_data['song_played'].value_counts()\n",
    "\n",
    "# 获取播放次数最多的前10首歌曲\n",
    "top_songs = song_play_counts.head(10)\n",
    "\n",
    "# 定义推荐函数\n",
    "def recommend_song():\n",
    "    return top_songs.index.tolist()\n",
    "\n",
    "# 打印推荐的歌曲\n",
    "print(\"推荐的歌曲包括：\")\n",
    "print(recommend_song())"
   ]
  },
  {
   "cell_type": "markdown",
   "id": "261a2381-2cbb-4da1-a5f1-008459392476",
   "metadata": {},
   "source": [
    "简单来做，就是聚类，基于两个特征，也就是用户的地点和歌曲，然后进行聚类。"
   ]
  },
  {
   "cell_type": "markdown",
   "id": "f23e07ab-fa89-4cc2-807a-ff8053e815dd",
   "metadata": {},
   "source": [
    "**思路二**"
   ]
  },
  {
   "cell_type": "markdown",
   "id": "8dee3ba0-e808-49b1-bcb0-5c7af37dc757",
   "metadata": {},
   "source": [
    "基于用户之间的相似性推荐歌曲。"
   ]
  },
  {
   "cell_type": "code",
   "execution_count": 19,
   "id": "0eb07116-1741-48db-aff3-05f22044a24e",
   "metadata": {},
   "outputs": [
    {
     "name": "stdout",
     "output_type": "stream",
     "text": [
      "Recommended songs: ['Birthday', 'Wild Honey Pie', 'Got To Get You Into My Life']\n"
     ]
    }
   ],
   "source": [
    "from sklearn.metrics.pairwise import cosine_similarity\n",
    "\n",
    "# 创建用户-歌曲矩阵\n",
    "user_song_matrix = pd.pivot_table(data=song_data, values='time_played', index='user_id', columns='song_played', aggfunc='count', fill_value=0)\n",
    "\n",
    "# 计算用户之间的相似度\n",
    "similarity_matrix = cosine_similarity(user_song_matrix)\n",
    "similarity_song_data = pd.DataFrame(similarity_matrix, index=user_song_matrix.index, columns=user_song_matrix.index)\n",
    "\n",
    "# 定义推荐函数\n",
    "def recommend_song_for_user(user_id, current_song):\n",
    "    # 找到最相似的用户\n",
    "    similar_users = similarity_song_data[user_id].sort_values(ascending=False).index[1:2]  # 取得分最高的用户\n",
    "    similar_user_id = similar_users[0]\n",
    "    \n",
    "    # 找出这个用户喜欢但当前用户没有听过的歌曲\n",
    "    user_songs = set(user_song_matrix.columns[user_song_matrix.loc[user_id] > 0])\n",
    "    similar_user_songs = set(user_song_matrix.columns[user_song_matrix.loc[similar_user_id] > 0])\n",
    "    recommended_songs = similar_user_songs - user_songs\n",
    "    \n",
    "    if recommended_songs:\n",
    "        return list(recommended_songs)\n",
    "    else:\n",
    "        return \"No new songs to recommend based on similar user preferences.\"\n",
    "\n",
    "# 测试推荐函数\n",
    "user_id = 3  # 假设的用户ID\n",
    "current_song = 'Hey Jude'  # 假设当前正在听的歌曲\n",
    "recommendations = recommend_song_for_user(user_id, current_song)\n",
    "print(\"Recommended songs:\", recommendations)"
   ]
  },
  {
   "cell_type": "markdown",
   "id": "37ad268b-5ab3-41b5-bb45-14f46f9dd1b8",
   "metadata": {},
   "source": [
    "**思路三**"
   ]
  },
  {
   "cell_type": "markdown",
   "id": "345c225a-3291-4405-8f1a-1147cf339929",
   "metadata": {},
   "source": [
    "使用聚类算法。"
   ]
  },
  {
   "cell_type": "code",
   "execution_count": 20,
   "id": "b75c54cf-cc01-4c5e-93b2-50bbe9ba6a92",
   "metadata": {},
   "outputs": [],
   "source": [
    "from sklearn.preprocessing import LabelEncoder\n",
    "from sklearn.cluster import KMeans"
   ]
  },
  {
   "cell_type": "code",
   "execution_count": 21,
   "id": "6ae7df2c-2981-40a7-afcb-6904b3695e98",
   "metadata": {},
   "outputs": [],
   "source": [
    "song_data['hour_played'] = song_data['time_played'].dt.hour\n",
    "\n",
    "# 特征编码\n",
    "state_encoder = LabelEncoder()\n",
    "song_encoder = LabelEncoder()\n",
    "\n",
    "song_data['user_state_encoded'] = state_encoder.fit_transform(song_data['user_state'])\n",
    "song_data['song_played_encoded'] = song_encoder.fit_transform(song_data['song_played'])\n",
    "\n",
    "# 聚类\n",
    "features = song_data[['user_state_encoded', 'hour_played', 'song_played_encoded']]\n",
    "kmeans = KMeans(n_clusters=10, random_state=0).fit(features)\n",
    "song_data['cluster'] = kmeans.labels_"
   ]
  },
  {
   "cell_type": "code",
   "execution_count": 22,
   "id": "73ce83ea-f2fb-4760-a1fb-785853c1d1c2",
   "metadata": {},
   "outputs": [],
   "source": [
    "# 定义推荐函数\n",
    "def recommend_songs(current_song, user_state, hour_played):\n",
    "    try:\n",
    "        current_encoded_song = song_encoder.transform([current_song])[0]\n",
    "    except ValueError:\n",
    "        print(\"This song is not recognized. Returning general recommendations.\")\n",
    "        return song_encoder.classes_[:5]  # 返回一些常见歌曲\n",
    "\n",
    "    try:\n",
    "        current_encoded_state = state_encoder.transform([user_state])[0]\n",
    "    except ValueError:\n",
    "        print(\"This state is not recognized. Using a default state.\")\n",
    "        current_encoded_state = state_encoder.transform(['California'])[0]  # 使用默认州\n",
    "\n",
    "    current_features = [[current_encoded_state, hour_played, current_encoded_song]]\n",
    "    current_cluster = kmeans.predict(current_features)[0]\n",
    "    similar_songs = song_data[(song_data['cluster'] == current_cluster) & (song_data['song_played_encoded'] != current_encoded_song)]\n",
    "    recommended_songs = song_encoder.inverse_transform(similar_songs['song_played_encoded'].unique())\n",
    "    return recommended_songs[:5]"
   ]
  },
  {
   "cell_type": "code",
   "execution_count": 23,
   "id": "9fb57a32-7761-4a85-850f-df921a280fd8",
   "metadata": {},
   "outputs": [
    {
     "name": "stdout",
     "output_type": "stream",
     "text": [
      "['Back In the U.S.S.R.' 'A Day In The Life'\n",
      " 'A Saturday Club Xmas/Crimble Medley' 'Birthday' \"Don't Let Me Down\"]\n"
     ]
    },
    {
     "name": "stderr",
     "output_type": "stream",
     "text": [
      "C:\\Users\\wangjun\\AppData\\Local\\Programs\\Python\\Python311\\Lib\\site-packages\\sklearn\\base.py:493: UserWarning: X does not have valid feature names, but KMeans was fitted with feature names\n",
      "  warnings.warn(\n"
     ]
    }
   ],
   "source": [
    "# 测试推荐函数\n",
    "recommended_songs = recommend_songs(\"Come Together\", \"New York\", 14)\n",
    "print(recommended_songs)"
   ]
  },
  {
   "cell_type": "markdown",
   "id": "6e630e96-6e9f-4f1e-8368-0a3e69930054",
   "metadata": {},
   "source": [
    "# 如何检验推荐模型"
   ]
  },
  {
   "cell_type": "markdown",
   "id": "c791471f-0376-4381-ab6c-1df95d39b5ce",
   "metadata": {},
   "source": [
    "设计一个A/B测试来验证推荐模型效果的详细步骤如下：\n",
    "\n",
    "**设计A/B测试**\n",
    "\n",
    "**目标**\n",
    "验证推荐系统是否能够提高用户的播放频率（平均每小时播放次数）。\n",
    "\n",
    "**步骤**\n",
    "\n",
    "1. **用户分组**：\n",
    "   - 将用户随机分成两个组：对照组（Control Group）和实验组（Experiment Group）。\n",
    "   - 确保两组用户在开始测试前具有统计上的相似性，例如在用户活路程度、历史播放记录等方面。\n",
    "\n",
    "2. **设置测试条件**：\n",
    "   - 对照组：不应用任何新的推荐策略。\n",
    "   - 实验组：实施推荐下一首歌的策略。\n",
    "\n",
    "3. **测试持续时间**：\n",
    "   - 确定测试运行的时间长短，以收集足够的数据进行有效分析。通常，这取决于用户的活跃度和数据的变异性，可能需要几周到几个月。\n",
    "\n",
    "4. **数据收集**：\n",
    "   - 对每个用户，记录测试期间的总播放次数和总在线时间（小时数）。\n",
    "   - 计算每个用户的“平均每小时播放次数”。\n",
    "\n",
    "5. **数据分析**：\n",
    "   - 使用一尾t检验来比较两组的“平均每小时播放次数”。\n",
    "   - 零假设（H0）：实验组的“平均每小时播放次数”与对照组相同。\n",
    "   - 对立假设（H1）：实验组的“平均每小时播放次数”高于对照组。\n",
    "\n",
    "6. **评估结果**：\n",
    "   - 根据t检验的p值判断是否拒绝零假设。如果p值小于事先设定的显著性水平（如0.05），则拒绝零假设，认为推荐系统有效。\n",
    "\n",
    "7. **后续行动**：\n",
    "   - 如果测试结果显示推荐系统有效，考虑全面部署推荐系统。\n",
    "   - 如果结果不明显或推荐系统效果不如预期，考虑调整或优化推荐算法。\n",
    "\n",
    "**注意事项**\n",
    "\n",
    "- **样本大小**：确保每组的用户数量足够大，以便检测到两组之间的显著差异。\n",
    "- **测试的隔离性**：确保测试过程中，除了推荐策略之外，两组用户的体验没有其他差异。\n",
    "- **避免偏见**：确保用户不知道自己处于哪个测试组，以避免心理预期影响测试结果。\n",
    "- **统计检验的选择**：选择适当的统计方法根据数据的分布和方差同质性来决定。\n",
    "\n",
    "通过上述方法，你可以有效地评估推荐系统对用户行为的影响，从而做出数据驱动的决策。"
   ]
  }
 ],
 "metadata": {
  "kernelspec": {
   "display_name": "Python 3 (ipykernel)",
   "language": "python",
   "name": "python3"
  },
  "language_info": {
   "codemirror_mode": {
    "name": "ipython",
    "version": 3
   },
   "file_extension": ".py",
   "mimetype": "text/x-python",
   "name": "python",
   "nbconvert_exporter": "python",
   "pygments_lexer": "ipython3",
   "version": "3.11.9"
  }
 },
 "nbformat": 4,
 "nbformat_minor": 5
}
