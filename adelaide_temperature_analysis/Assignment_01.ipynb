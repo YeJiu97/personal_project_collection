{
 "cells": [
  {
   "cell_type": "markdown",
   "id": "f65022f6-0f00-4f7f-848b-933623bc405c",
   "metadata": {},
   "source": [
    "## 1. Introduction"
   ]
  },
  {
   "cell_type": "markdown",
   "id": "e3fb699f-fc30-4a5a-8fc5-7568f8ff9d7f",
   "metadata": {},
   "source": [
    "There are two dataset will be used to analysis the climate change:\n",
    "\n",
    "1. \"IDCJAC0010_023034_1800_Data.csv\": Notes for Daily Maximum Temperature Climate Data\n",
    "2. \"IDCJAC0011_023034_1800_Data.csv\": Notes for Daily Minimum Temperature Climate Data\n",
    "\n",
    "The type of analysis is descriptive analysis, the statistical information (including but not limited to mean, standard deviation, skewness, etc.) contained in the data will be obtained in the analysis, and an appropriate type of chart will be selected for visualization.\n",
    "\n",
    "Based on the results of the analysis, simple inferences about climate change trends will be made."
   ]
  },
  {
   "cell_type": "code",
   "execution_count": 87,
   "id": "20e7f55b-30b4-4533-bf40-617c9b805310",
   "metadata": {},
   "outputs": [],
   "source": [
    "# import necessary modules \n",
    "import numpy as np\n",
    "import pandas as pd\n",
    "import matplotlib.pyplot as plt\n",
    "\n",
    "from pylab import *\n",
    "\n",
    "# show picture on jupyter notebook\n",
    "%matplotlib inline"
   ]
  },
  {
   "cell_type": "code",
   "execution_count": 88,
   "id": "1a9bbcf8-1969-4ce7-b62f-1d8c713cdf93",
   "metadata": {},
   "outputs": [],
   "source": [
    "# import dataset\n",
    "df_highest_temp = pd.read_csv(\"IDCJAC0010_023034_1800_Data.csv\")  # import daily highest temperature\n",
    "df_lowest_temp = pd.read_csv(\"IDCJAC0011_023034_1800_Data.csv\")  # import daily lowest temperature"
   ]
  },
  {
   "cell_type": "markdown",
   "id": "01e50a63-efa6-4d53-95aa-5a59bee13357",
   "metadata": {},
   "source": [
    "What information can be gained from the daily highest temperature dataset IDCJAC0010_023034_1800_Data.csv:"
   ]
  },
  {
   "cell_type": "code",
   "execution_count": 89,
   "id": "310352bf-5324-4db4-8d02-16819e46096c",
   "metadata": {},
   "outputs": [
    {
     "data": {
      "text/html": [
       "<div>\n",
       "<style scoped>\n",
       "    .dataframe tbody tr th:only-of-type {\n",
       "        vertical-align: middle;\n",
       "    }\n",
       "\n",
       "    .dataframe tbody tr th {\n",
       "        vertical-align: top;\n",
       "    }\n",
       "\n",
       "    .dataframe thead th {\n",
       "        text-align: right;\n",
       "    }\n",
       "</style>\n",
       "<table border=\"1\" class=\"dataframe\">\n",
       "  <thead>\n",
       "    <tr style=\"text-align: right;\">\n",
       "      <th></th>\n",
       "      <th>Product code</th>\n",
       "      <th>Bureau of Meteorology station number</th>\n",
       "      <th>Year</th>\n",
       "      <th>Month</th>\n",
       "      <th>Day</th>\n",
       "      <th>Maximum temperature (Degree C)</th>\n",
       "      <th>Days of accumulation of maximum temperature</th>\n",
       "      <th>Quality</th>\n",
       "    </tr>\n",
       "  </thead>\n",
       "  <tbody>\n",
       "    <tr>\n",
       "      <th>0</th>\n",
       "      <td>IDCJAC0010</td>\n",
       "      <td>23034</td>\n",
       "      <td>1955</td>\n",
       "      <td>1</td>\n",
       "      <td>1</td>\n",
       "      <td>NaN</td>\n",
       "      <td>NaN</td>\n",
       "      <td>NaN</td>\n",
       "    </tr>\n",
       "    <tr>\n",
       "      <th>1</th>\n",
       "      <td>IDCJAC0010</td>\n",
       "      <td>23034</td>\n",
       "      <td>1955</td>\n",
       "      <td>1</td>\n",
       "      <td>2</td>\n",
       "      <td>NaN</td>\n",
       "      <td>NaN</td>\n",
       "      <td>NaN</td>\n",
       "    </tr>\n",
       "    <tr>\n",
       "      <th>2</th>\n",
       "      <td>IDCJAC0010</td>\n",
       "      <td>23034</td>\n",
       "      <td>1955</td>\n",
       "      <td>1</td>\n",
       "      <td>3</td>\n",
       "      <td>NaN</td>\n",
       "      <td>NaN</td>\n",
       "      <td>NaN</td>\n",
       "    </tr>\n",
       "    <tr>\n",
       "      <th>3</th>\n",
       "      <td>IDCJAC0010</td>\n",
       "      <td>23034</td>\n",
       "      <td>1955</td>\n",
       "      <td>1</td>\n",
       "      <td>4</td>\n",
       "      <td>NaN</td>\n",
       "      <td>NaN</td>\n",
       "      <td>NaN</td>\n",
       "    </tr>\n",
       "    <tr>\n",
       "      <th>4</th>\n",
       "      <td>IDCJAC0010</td>\n",
       "      <td>23034</td>\n",
       "      <td>1955</td>\n",
       "      <td>1</td>\n",
       "      <td>5</td>\n",
       "      <td>NaN</td>\n",
       "      <td>NaN</td>\n",
       "      <td>NaN</td>\n",
       "    </tr>\n",
       "    <tr>\n",
       "      <th>...</th>\n",
       "      <td>...</td>\n",
       "      <td>...</td>\n",
       "      <td>...</td>\n",
       "      <td>...</td>\n",
       "      <td>...</td>\n",
       "      <td>...</td>\n",
       "      <td>...</td>\n",
       "      <td>...</td>\n",
       "    </tr>\n",
       "    <tr>\n",
       "      <th>24694</th>\n",
       "      <td>IDCJAC0010</td>\n",
       "      <td>23034</td>\n",
       "      <td>2022</td>\n",
       "      <td>8</td>\n",
       "      <td>11</td>\n",
       "      <td>15.8</td>\n",
       "      <td>1.0</td>\n",
       "      <td>N</td>\n",
       "    </tr>\n",
       "    <tr>\n",
       "      <th>24695</th>\n",
       "      <td>IDCJAC0010</td>\n",
       "      <td>23034</td>\n",
       "      <td>2022</td>\n",
       "      <td>8</td>\n",
       "      <td>12</td>\n",
       "      <td>14.6</td>\n",
       "      <td>1.0</td>\n",
       "      <td>N</td>\n",
       "    </tr>\n",
       "    <tr>\n",
       "      <th>24696</th>\n",
       "      <td>IDCJAC0010</td>\n",
       "      <td>23034</td>\n",
       "      <td>2022</td>\n",
       "      <td>8</td>\n",
       "      <td>13</td>\n",
       "      <td>14.5</td>\n",
       "      <td>1.0</td>\n",
       "      <td>N</td>\n",
       "    </tr>\n",
       "    <tr>\n",
       "      <th>24697</th>\n",
       "      <td>IDCJAC0010</td>\n",
       "      <td>23034</td>\n",
       "      <td>2022</td>\n",
       "      <td>8</td>\n",
       "      <td>14</td>\n",
       "      <td>15.2</td>\n",
       "      <td>1.0</td>\n",
       "      <td>N</td>\n",
       "    </tr>\n",
       "    <tr>\n",
       "      <th>24698</th>\n",
       "      <td>IDCJAC0010</td>\n",
       "      <td>23034</td>\n",
       "      <td>2022</td>\n",
       "      <td>8</td>\n",
       "      <td>15</td>\n",
       "      <td>15.0</td>\n",
       "      <td>1.0</td>\n",
       "      <td>N</td>\n",
       "    </tr>\n",
       "  </tbody>\n",
       "</table>\n",
       "<p>24699 rows × 8 columns</p>\n",
       "</div>"
      ],
      "text/plain": [
       "      Product code  Bureau of Meteorology station number  Year  Month  Day  \\\n",
       "0       IDCJAC0010                                 23034  1955      1    1   \n",
       "1       IDCJAC0010                                 23034  1955      1    2   \n",
       "2       IDCJAC0010                                 23034  1955      1    3   \n",
       "3       IDCJAC0010                                 23034  1955      1    4   \n",
       "4       IDCJAC0010                                 23034  1955      1    5   \n",
       "...            ...                                   ...   ...    ...  ...   \n",
       "24694   IDCJAC0010                                 23034  2022      8   11   \n",
       "24695   IDCJAC0010                                 23034  2022      8   12   \n",
       "24696   IDCJAC0010                                 23034  2022      8   13   \n",
       "24697   IDCJAC0010                                 23034  2022      8   14   \n",
       "24698   IDCJAC0010                                 23034  2022      8   15   \n",
       "\n",
       "       Maximum temperature (Degree C)  \\\n",
       "0                                 NaN   \n",
       "1                                 NaN   \n",
       "2                                 NaN   \n",
       "3                                 NaN   \n",
       "4                                 NaN   \n",
       "...                               ...   \n",
       "24694                            15.8   \n",
       "24695                            14.6   \n",
       "24696                            14.5   \n",
       "24697                            15.2   \n",
       "24698                            15.0   \n",
       "\n",
       "       Days of accumulation of maximum temperature Quality  \n",
       "0                                              NaN     NaN  \n",
       "1                                              NaN     NaN  \n",
       "2                                              NaN     NaN  \n",
       "3                                              NaN     NaN  \n",
       "4                                              NaN     NaN  \n",
       "...                                            ...     ...  \n",
       "24694                                          1.0       N  \n",
       "24695                                          1.0       N  \n",
       "24696                                          1.0       N  \n",
       "24697                                          1.0       N  \n",
       "24698                                          1.0       N  \n",
       "\n",
       "[24699 rows x 8 columns]"
      ]
     },
     "execution_count": 89,
     "metadata": {},
     "output_type": "execute_result"
    }
   ],
   "source": [
    "df_highest_temp"
   ]
  },
  {
   "cell_type": "markdown",
   "id": "f29b05f3-c1be-41e7-a340-24fadbf1e134",
   "metadata": {},
   "source": [
    "The data size in the dataset is: 24699*8 (24699 rows, 8 columns)\n",
    "\n",
    "There are a total of eight variables, which are: Product code, Bureau of Meteorology station number, Year, Month, Day, Maximum temperature (Degree C), Days of accumulation of maximum temperature, Quality.\n",
    "\n",
    "The two variables product code and bureau of meteorology station number will not have a very practical role in data analysis. So these two data may be dropped in subsequent analysis.  "
   ]
  },
  {
   "cell_type": "code",
   "execution_count": 90,
   "id": "0911d45e-3e0c-433d-a681-8c0d24c2bf9f",
   "metadata": {},
   "outputs": [
    {
     "data": {
      "text/plain": [
       "45.8"
      ]
     },
     "execution_count": 90,
     "metadata": {},
     "output_type": "execute_result"
    }
   ],
   "source": [
    "df_highest_temp[\"Maximum temperature (Degree C)\"].max()"
   ]
  },
  {
   "cell_type": "code",
   "execution_count": 91,
   "id": "4f7d338b-aac9-486c-9be3-69bc272c4645",
   "metadata": {},
   "outputs": [
    {
     "data": {
      "text/html": [
       "<div>\n",
       "<style scoped>\n",
       "    .dataframe tbody tr th:only-of-type {\n",
       "        vertical-align: middle;\n",
       "    }\n",
       "\n",
       "    .dataframe tbody tr th {\n",
       "        vertical-align: top;\n",
       "    }\n",
       "\n",
       "    .dataframe thead th {\n",
       "        text-align: right;\n",
       "    }\n",
       "</style>\n",
       "<table border=\"1\" class=\"dataframe\">\n",
       "  <thead>\n",
       "    <tr style=\"text-align: right;\">\n",
       "      <th></th>\n",
       "      <th>Product code</th>\n",
       "      <th>Bureau of Meteorology station number</th>\n",
       "      <th>Year</th>\n",
       "      <th>Month</th>\n",
       "      <th>Day</th>\n",
       "      <th>Maximum temperature (Degree C)</th>\n",
       "      <th>Days of accumulation of maximum temperature</th>\n",
       "      <th>Quality</th>\n",
       "    </tr>\n",
       "  </thead>\n",
       "  <tbody>\n",
       "    <tr>\n",
       "      <th>23399</th>\n",
       "      <td>IDCJAC0010</td>\n",
       "      <td>23034</td>\n",
       "      <td>2019</td>\n",
       "      <td>1</td>\n",
       "      <td>24</td>\n",
       "      <td>45.8</td>\n",
       "      <td>1.0</td>\n",
       "      <td>N</td>\n",
       "    </tr>\n",
       "  </tbody>\n",
       "</table>\n",
       "</div>"
      ],
      "text/plain": [
       "      Product code  Bureau of Meteorology station number  Year  Month  Day  \\\n",
       "23399   IDCJAC0010                                 23034  2019      1   24   \n",
       "\n",
       "       Maximum temperature (Degree C)  \\\n",
       "23399                            45.8   \n",
       "\n",
       "       Days of accumulation of maximum temperature Quality  \n",
       "23399                                          1.0       N  "
      ]
     },
     "execution_count": 91,
     "metadata": {},
     "output_type": "execute_result"
    }
   ],
   "source": [
    "df_highest_temp[df_highest_temp[\"Maximum temperature (Degree C)\"] == df_highest_temp[\"Maximum temperature (Degree C)\"].max()]"
   ]
  },
  {
   "cell_type": "markdown",
   "id": "0b315a34-dab1-4d30-ad77-493c103e8ce2",
   "metadata": {},
   "source": [
    "Daily maximum temperature has a maximum temperature of 45.8, this temperature occurred on January 24, 2019."
   ]
  },
  {
   "cell_type": "code",
   "execution_count": 92,
   "id": "f5985634-acfc-4fdd-8bf3-2cdeb9c2b06b",
   "metadata": {},
   "outputs": [
    {
     "data": {
      "text/plain": [
       "9.4"
      ]
     },
     "execution_count": 92,
     "metadata": {},
     "output_type": "execute_result"
    }
   ],
   "source": [
    "df_highest_temp[\"Maximum temperature (Degree C)\"].min()"
   ]
  },
  {
   "cell_type": "code",
   "execution_count": 93,
   "id": "edde83b1-26c0-40fd-871d-73ce361373da",
   "metadata": {},
   "outputs": [
    {
     "data": {
      "text/html": [
       "<div>\n",
       "<style scoped>\n",
       "    .dataframe tbody tr th:only-of-type {\n",
       "        vertical-align: middle;\n",
       "    }\n",
       "\n",
       "    .dataframe tbody tr th {\n",
       "        vertical-align: top;\n",
       "    }\n",
       "\n",
       "    .dataframe thead th {\n",
       "        text-align: right;\n",
       "    }\n",
       "</style>\n",
       "<table border=\"1\" class=\"dataframe\">\n",
       "  <thead>\n",
       "    <tr style=\"text-align: right;\">\n",
       "      <th></th>\n",
       "      <th>Product code</th>\n",
       "      <th>Bureau of Meteorology station number</th>\n",
       "      <th>Year</th>\n",
       "      <th>Month</th>\n",
       "      <th>Day</th>\n",
       "      <th>Maximum temperature (Degree C)</th>\n",
       "      <th>Days of accumulation of maximum temperature</th>\n",
       "      <th>Quality</th>\n",
       "    </tr>\n",
       "  </thead>\n",
       "  <tbody>\n",
       "    <tr>\n",
       "      <th>24309</th>\n",
       "      <td>IDCJAC0010</td>\n",
       "      <td>23034</td>\n",
       "      <td>2021</td>\n",
       "      <td>7</td>\n",
       "      <td>22</td>\n",
       "      <td>9.4</td>\n",
       "      <td>1.0</td>\n",
       "      <td>N</td>\n",
       "    </tr>\n",
       "  </tbody>\n",
       "</table>\n",
       "</div>"
      ],
      "text/plain": [
       "      Product code  Bureau of Meteorology station number  Year  Month  Day  \\\n",
       "24309   IDCJAC0010                                 23034  2021      7   22   \n",
       "\n",
       "       Maximum temperature (Degree C)  \\\n",
       "24309                             9.4   \n",
       "\n",
       "       Days of accumulation of maximum temperature Quality  \n",
       "24309                                          1.0       N  "
      ]
     },
     "execution_count": 93,
     "metadata": {},
     "output_type": "execute_result"
    }
   ],
   "source": [
    "df_highest_temp[df_highest_temp[\"Maximum temperature (Degree C)\"] == df_highest_temp[\"Maximum temperature (Degree C)\"].min()]"
   ]
  },
  {
   "cell_type": "markdown",
   "id": "ebacee53-b705-4ad6-952f-1db29b3fbc1b",
   "metadata": {},
   "source": [
    "Daily maximum temperature with a minimum temperature of 9.4, the temperature appeared on July 22, 2021."
   ]
  },
  {
   "cell_type": "markdown",
   "id": "e4d465fb-4853-4fc6-8880-8c6583b282a4",
   "metadata": {},
   "source": [
    "Next, output the daily minimum temperature data IDCJAC0011_023034_1800_Data.csv:"
   ]
  },
  {
   "cell_type": "code",
   "execution_count": 94,
   "id": "ab7ce14b-8dcd-4aa7-b0c7-92471961a9f8",
   "metadata": {},
   "outputs": [
    {
     "data": {
      "text/html": [
       "<div>\n",
       "<style scoped>\n",
       "    .dataframe tbody tr th:only-of-type {\n",
       "        vertical-align: middle;\n",
       "    }\n",
       "\n",
       "    .dataframe tbody tr th {\n",
       "        vertical-align: top;\n",
       "    }\n",
       "\n",
       "    .dataframe thead th {\n",
       "        text-align: right;\n",
       "    }\n",
       "</style>\n",
       "<table border=\"1\" class=\"dataframe\">\n",
       "  <thead>\n",
       "    <tr style=\"text-align: right;\">\n",
       "      <th></th>\n",
       "      <th>Product code</th>\n",
       "      <th>Bureau of Meteorology station number</th>\n",
       "      <th>Year</th>\n",
       "      <th>Month</th>\n",
       "      <th>Day</th>\n",
       "      <th>Minimum temperature (Degree C)</th>\n",
       "      <th>Days of accumulation of minimum temperature</th>\n",
       "      <th>Quality</th>\n",
       "    </tr>\n",
       "  </thead>\n",
       "  <tbody>\n",
       "    <tr>\n",
       "      <th>0</th>\n",
       "      <td>IDCJAC0011</td>\n",
       "      <td>23034</td>\n",
       "      <td>1955</td>\n",
       "      <td>1</td>\n",
       "      <td>1</td>\n",
       "      <td>NaN</td>\n",
       "      <td>NaN</td>\n",
       "      <td>NaN</td>\n",
       "    </tr>\n",
       "    <tr>\n",
       "      <th>1</th>\n",
       "      <td>IDCJAC0011</td>\n",
       "      <td>23034</td>\n",
       "      <td>1955</td>\n",
       "      <td>1</td>\n",
       "      <td>2</td>\n",
       "      <td>NaN</td>\n",
       "      <td>NaN</td>\n",
       "      <td>NaN</td>\n",
       "    </tr>\n",
       "    <tr>\n",
       "      <th>2</th>\n",
       "      <td>IDCJAC0011</td>\n",
       "      <td>23034</td>\n",
       "      <td>1955</td>\n",
       "      <td>1</td>\n",
       "      <td>3</td>\n",
       "      <td>NaN</td>\n",
       "      <td>NaN</td>\n",
       "      <td>NaN</td>\n",
       "    </tr>\n",
       "    <tr>\n",
       "      <th>3</th>\n",
       "      <td>IDCJAC0011</td>\n",
       "      <td>23034</td>\n",
       "      <td>1955</td>\n",
       "      <td>1</td>\n",
       "      <td>4</td>\n",
       "      <td>NaN</td>\n",
       "      <td>NaN</td>\n",
       "      <td>NaN</td>\n",
       "    </tr>\n",
       "    <tr>\n",
       "      <th>4</th>\n",
       "      <td>IDCJAC0011</td>\n",
       "      <td>23034</td>\n",
       "      <td>1955</td>\n",
       "      <td>1</td>\n",
       "      <td>5</td>\n",
       "      <td>NaN</td>\n",
       "      <td>NaN</td>\n",
       "      <td>NaN</td>\n",
       "    </tr>\n",
       "    <tr>\n",
       "      <th>...</th>\n",
       "      <td>...</td>\n",
       "      <td>...</td>\n",
       "      <td>...</td>\n",
       "      <td>...</td>\n",
       "      <td>...</td>\n",
       "      <td>...</td>\n",
       "      <td>...</td>\n",
       "      <td>...</td>\n",
       "    </tr>\n",
       "    <tr>\n",
       "      <th>24695</th>\n",
       "      <td>IDCJAC0011</td>\n",
       "      <td>23034</td>\n",
       "      <td>2022</td>\n",
       "      <td>8</td>\n",
       "      <td>12</td>\n",
       "      <td>11.1</td>\n",
       "      <td>1.0</td>\n",
       "      <td>N</td>\n",
       "    </tr>\n",
       "    <tr>\n",
       "      <th>24696</th>\n",
       "      <td>IDCJAC0011</td>\n",
       "      <td>23034</td>\n",
       "      <td>2022</td>\n",
       "      <td>8</td>\n",
       "      <td>13</td>\n",
       "      <td>9.8</td>\n",
       "      <td>1.0</td>\n",
       "      <td>N</td>\n",
       "    </tr>\n",
       "    <tr>\n",
       "      <th>24697</th>\n",
       "      <td>IDCJAC0011</td>\n",
       "      <td>23034</td>\n",
       "      <td>2022</td>\n",
       "      <td>8</td>\n",
       "      <td>14</td>\n",
       "      <td>7.8</td>\n",
       "      <td>1.0</td>\n",
       "      <td>N</td>\n",
       "    </tr>\n",
       "    <tr>\n",
       "      <th>24698</th>\n",
       "      <td>IDCJAC0011</td>\n",
       "      <td>23034</td>\n",
       "      <td>2022</td>\n",
       "      <td>8</td>\n",
       "      <td>15</td>\n",
       "      <td>10.1</td>\n",
       "      <td>1.0</td>\n",
       "      <td>N</td>\n",
       "    </tr>\n",
       "    <tr>\n",
       "      <th>24699</th>\n",
       "      <td>IDCJAC0011</td>\n",
       "      <td>23034</td>\n",
       "      <td>2022</td>\n",
       "      <td>8</td>\n",
       "      <td>16</td>\n",
       "      <td>8.1</td>\n",
       "      <td>1.0</td>\n",
       "      <td>N</td>\n",
       "    </tr>\n",
       "  </tbody>\n",
       "</table>\n",
       "<p>24700 rows × 8 columns</p>\n",
       "</div>"
      ],
      "text/plain": [
       "      Product code  Bureau of Meteorology station number  Year  Month  Day  \\\n",
       "0       IDCJAC0011                                 23034  1955      1    1   \n",
       "1       IDCJAC0011                                 23034  1955      1    2   \n",
       "2       IDCJAC0011                                 23034  1955      1    3   \n",
       "3       IDCJAC0011                                 23034  1955      1    4   \n",
       "4       IDCJAC0011                                 23034  1955      1    5   \n",
       "...            ...                                   ...   ...    ...  ...   \n",
       "24695   IDCJAC0011                                 23034  2022      8   12   \n",
       "24696   IDCJAC0011                                 23034  2022      8   13   \n",
       "24697   IDCJAC0011                                 23034  2022      8   14   \n",
       "24698   IDCJAC0011                                 23034  2022      8   15   \n",
       "24699   IDCJAC0011                                 23034  2022      8   16   \n",
       "\n",
       "       Minimum temperature (Degree C)  \\\n",
       "0                                 NaN   \n",
       "1                                 NaN   \n",
       "2                                 NaN   \n",
       "3                                 NaN   \n",
       "4                                 NaN   \n",
       "...                               ...   \n",
       "24695                            11.1   \n",
       "24696                             9.8   \n",
       "24697                             7.8   \n",
       "24698                            10.1   \n",
       "24699                             8.1   \n",
       "\n",
       "       Days of accumulation of minimum temperature Quality  \n",
       "0                                              NaN     NaN  \n",
       "1                                              NaN     NaN  \n",
       "2                                              NaN     NaN  \n",
       "3                                              NaN     NaN  \n",
       "4                                              NaN     NaN  \n",
       "...                                            ...     ...  \n",
       "24695                                          1.0       N  \n",
       "24696                                          1.0       N  \n",
       "24697                                          1.0       N  \n",
       "24698                                          1.0       N  \n",
       "24699                                          1.0       N  \n",
       "\n",
       "[24700 rows x 8 columns]"
      ]
     },
     "execution_count": 94,
     "metadata": {},
     "output_type": "execute_result"
    }
   ],
   "source": [
    "df_lowest_temp"
   ]
  },
  {
   "cell_type": "markdown",
   "id": "f1ef0436-d261-460d-a7c6-42807c92592e",
   "metadata": {},
   "source": [
    "From the output results, the size of the data set is 24700*8. This data set has one more row of data than the previous data set, and the variables of the two data sets are basically the same, one records the maximum temperature, and the other records the minimum temperature."
   ]
  },
  {
   "cell_type": "code",
   "execution_count": 95,
   "id": "c266702e-43df-48e0-9568-fbb926fbdc26",
   "metadata": {},
   "outputs": [
    {
     "data": {
      "text/plain": [
       "33.5"
      ]
     },
     "execution_count": 95,
     "metadata": {},
     "output_type": "execute_result"
    }
   ],
   "source": [
    "df_lowest_temp[\"Minimum temperature (Degree C)\"].max()"
   ]
  },
  {
   "cell_type": "code",
   "execution_count": 96,
   "id": "c71aef6d-eb2f-4594-a184-934dabb6215f",
   "metadata": {},
   "outputs": [
    {
     "data": {
      "text/html": [
       "<div>\n",
       "<style scoped>\n",
       "    .dataframe tbody tr th:only-of-type {\n",
       "        vertical-align: middle;\n",
       "    }\n",
       "\n",
       "    .dataframe tbody tr th {\n",
       "        vertical-align: top;\n",
       "    }\n",
       "\n",
       "    .dataframe thead th {\n",
       "        text-align: right;\n",
       "    }\n",
       "</style>\n",
       "<table border=\"1\" class=\"dataframe\">\n",
       "  <thead>\n",
       "    <tr style=\"text-align: right;\">\n",
       "      <th></th>\n",
       "      <th>Product code</th>\n",
       "      <th>Bureau of Meteorology station number</th>\n",
       "      <th>Year</th>\n",
       "      <th>Month</th>\n",
       "      <th>Day</th>\n",
       "      <th>Minimum temperature (Degree C)</th>\n",
       "      <th>Days of accumulation of minimum temperature</th>\n",
       "      <th>Quality</th>\n",
       "    </tr>\n",
       "  </thead>\n",
       "  <tbody>\n",
       "    <tr>\n",
       "      <th>18649</th>\n",
       "      <td>IDCJAC0011</td>\n",
       "      <td>23034</td>\n",
       "      <td>2006</td>\n",
       "      <td>1</td>\n",
       "      <td>22</td>\n",
       "      <td>33.5</td>\n",
       "      <td>1.0</td>\n",
       "      <td>Y</td>\n",
       "    </tr>\n",
       "  </tbody>\n",
       "</table>\n",
       "</div>"
      ],
      "text/plain": [
       "      Product code  Bureau of Meteorology station number  Year  Month  Day  \\\n",
       "18649   IDCJAC0011                                 23034  2006      1   22   \n",
       "\n",
       "       Minimum temperature (Degree C)  \\\n",
       "18649                            33.5   \n",
       "\n",
       "       Days of accumulation of minimum temperature Quality  \n",
       "18649                                          1.0       Y  "
      ]
     },
     "execution_count": 96,
     "metadata": {},
     "output_type": "execute_result"
    }
   ],
   "source": [
    "df_lowest_temp[df_lowest_temp[\"Minimum temperature (Degree C)\"] == df_lowest_temp[\"Minimum temperature (Degree C)\"].max()]"
   ]
  },
  {
   "cell_type": "markdown",
   "id": "9b1daf58-c41e-4c1d-8cdb-7235dff15096",
   "metadata": {},
   "source": [
    "Daily minimum temperature has a maximum temperature of 33.5, this temperature appeared on January 22, 2006."
   ]
  },
  {
   "cell_type": "code",
   "execution_count": 97,
   "id": "3e0a967d-4910-4aaa-9f01-2be4e468f75c",
   "metadata": {},
   "outputs": [
    {
     "data": {
      "text/plain": [
       "-2.6"
      ]
     },
     "execution_count": 97,
     "metadata": {},
     "output_type": "execute_result"
    }
   ],
   "source": [
    "df_lowest_temp[\"Minimum temperature (Degree C)\"].min()"
   ]
  },
  {
   "cell_type": "code",
   "execution_count": 98,
   "id": "73fe27e7-c802-46a1-9080-2075245a4732",
   "metadata": {},
   "outputs": [
    {
     "data": {
      "text/html": [
       "<div>\n",
       "<style scoped>\n",
       "    .dataframe tbody tr th:only-of-type {\n",
       "        vertical-align: middle;\n",
       "    }\n",
       "\n",
       "    .dataframe tbody tr th {\n",
       "        vertical-align: top;\n",
       "    }\n",
       "\n",
       "    .dataframe thead th {\n",
       "        text-align: right;\n",
       "    }\n",
       "</style>\n",
       "<table border=\"1\" class=\"dataframe\">\n",
       "  <thead>\n",
       "    <tr style=\"text-align: right;\">\n",
       "      <th></th>\n",
       "      <th>Product code</th>\n",
       "      <th>Bureau of Meteorology station number</th>\n",
       "      <th>Year</th>\n",
       "      <th>Month</th>\n",
       "      <th>Day</th>\n",
       "      <th>Minimum temperature (Degree C)</th>\n",
       "      <th>Days of accumulation of minimum temperature</th>\n",
       "      <th>Quality</th>\n",
       "    </tr>\n",
       "  </thead>\n",
       "  <tbody>\n",
       "    <tr>\n",
       "      <th>10020</th>\n",
       "      <td>IDCJAC0011</td>\n",
       "      <td>23034</td>\n",
       "      <td>1982</td>\n",
       "      <td>6</td>\n",
       "      <td>8</td>\n",
       "      <td>-2.6</td>\n",
       "      <td>1.0</td>\n",
       "      <td>Y</td>\n",
       "    </tr>\n",
       "  </tbody>\n",
       "</table>\n",
       "</div>"
      ],
      "text/plain": [
       "      Product code  Bureau of Meteorology station number  Year  Month  Day  \\\n",
       "10020   IDCJAC0011                                 23034  1982      6    8   \n",
       "\n",
       "       Minimum temperature (Degree C)  \\\n",
       "10020                            -2.6   \n",
       "\n",
       "       Days of accumulation of minimum temperature Quality  \n",
       "10020                                          1.0       Y  "
      ]
     },
     "execution_count": 98,
     "metadata": {},
     "output_type": "execute_result"
    }
   ],
   "source": [
    "df_lowest_temp[df_lowest_temp[\"Minimum temperature (Degree C)\"] == df_lowest_temp[\"Minimum temperature (Degree C)\"].min()]"
   ]
  },
  {
   "cell_type": "markdown",
   "id": "d0d53414-a4d8-4e2e-a4a0-5afd98547359",
   "metadata": {},
   "source": [
    "Daily minimum temperature has a minimum temperature of 33.5, this temperature occurred on June 8, 1982."
   ]
  },
  {
   "cell_type": "markdown",
   "id": "d7b81e80-8982-48e8-9a60-afa8c947ab36",
   "metadata": {},
   "source": [
    "More statistics will be further analyzed in subsequent reports."
   ]
  },
  {
   "cell_type": "markdown",
   "id": "e3f4816e-b144-4c55-ab88-306087cb94f9",
   "metadata": {},
   "source": [
    "## 2. Build a function for descriptive statistics"
   ]
  },
  {
   "cell_type": "markdown",
   "id": "e2014bf2-ce0c-438d-97c6-36e3b4437c3a",
   "metadata": {},
   "source": [
    "A function is building to calculate the mean, standard deviation, skewness, kurtosis, median, IQR of a selected datafram:"
   ]
  },
  {
   "cell_type": "code",
   "execution_count": 99,
   "id": "dc012b47-d0ed-4b23-b9e5-c04349c7a77b",
   "metadata": {},
   "outputs": [],
   "source": [
    "def describe_month(df, month, year, column_name):\n",
    "    \"\"\"This function will provide statistics information of the input dataframe\"\"\"\n",
    "   \n",
    "    # selected dataframe from the input dataframe\n",
    "    selected_df = df[(df[\"Year\"] == year) & (df[\"Month\"] == month)]\n",
    "    \n",
    "    #  descriptive statistics information\n",
    "    mean_temp = selected_df[column_name].mean()\n",
    "    std_temp = selected_df[column_name].std()\n",
    "    skew_temp = selected_df[column_name].skew()\n",
    "    kurt_temp = selected_df[column_name].kurt()\n",
    "    median_temp = selected_df[column_name].median()\n",
    "    \n",
    "    # IQR = the difference between the 75th and 25th percentiles of the data\n",
    "    IQR_temp = selected_df[column_name].quantile(0.75) - selected_df[column_name].quantile(0.25)\n",
    "    \n",
    "    # return selected dataframe and descriptive statistics information\n",
    "    result_temp = pd.DataFrame(np.array([[mean_temp, std_temp, skew_temp, kurt_temp, median_temp, IQR_temp]]), columns=[\"Mean\", \"STD\", \"SKEW\", \"KURT\", \"MEDIAN\", \"IQR\"]).round(2)\n",
    "    return selected_df[column_name], result_temp"
   ]
  },
  {
   "cell_type": "markdown",
   "id": "28b41727-b868-4419-a944-dfeefcfc17a0",
   "metadata": {},
   "source": [
    "Testing that function:"
   ]
  },
  {
   "cell_type": "code",
   "execution_count": 100,
   "id": "45c958b9-8471-449e-b369-76d03e693d56",
   "metadata": {},
   "outputs": [],
   "source": [
    "selected_df, result = describe_month(df_highest_temp, 2, 2000, \"Maximum temperature (Degree C)\")"
   ]
  },
  {
   "cell_type": "code",
   "execution_count": 101,
   "id": "d9c3578e-617b-4435-ac2a-f5553f9c5adf",
   "metadata": {},
   "outputs": [
    {
     "data": {
      "text/html": [
       "<div>\n",
       "<style scoped>\n",
       "    .dataframe tbody tr th:only-of-type {\n",
       "        vertical-align: middle;\n",
       "    }\n",
       "\n",
       "    .dataframe tbody tr th {\n",
       "        vertical-align: top;\n",
       "    }\n",
       "\n",
       "    .dataframe thead th {\n",
       "        text-align: right;\n",
       "    }\n",
       "</style>\n",
       "<table border=\"1\" class=\"dataframe\">\n",
       "  <thead>\n",
       "    <tr style=\"text-align: right;\">\n",
       "      <th></th>\n",
       "      <th>Mean</th>\n",
       "      <th>STD</th>\n",
       "      <th>SKEW</th>\n",
       "      <th>KURT</th>\n",
       "      <th>MEDIAN</th>\n",
       "      <th>IQR</th>\n",
       "    </tr>\n",
       "  </thead>\n",
       "  <tbody>\n",
       "    <tr>\n",
       "      <th>0</th>\n",
       "      <td>31.56</td>\n",
       "      <td>5.21</td>\n",
       "      <td>-0.01</td>\n",
       "      <td>-1.28</td>\n",
       "      <td>31.7</td>\n",
       "      <td>9.5</td>\n",
       "    </tr>\n",
       "  </tbody>\n",
       "</table>\n",
       "</div>"
      ],
      "text/plain": [
       "    Mean   STD  SKEW  KURT  MEDIAN  IQR\n",
       "0  31.56  5.21 -0.01 -1.28    31.7  9.5"
      ]
     },
     "execution_count": 101,
     "metadata": {},
     "output_type": "execute_result"
    }
   ],
   "source": [
    "result"
   ]
  },
  {
   "cell_type": "markdown",
   "id": "8f141d18-c38f-401d-927d-82a2dc20f610",
   "metadata": {},
   "source": [
    "The average daily highest temperature in February 2000 was 31.56, the standard deviation was 5.21, the Skewness was -0.01, the kurtosis was -1.28, the median was 31.7, and the IQR was 9.5."
   ]
  },
  {
   "cell_type": "markdown",
   "id": "a48e0cdf-ab1b-4902-90e3-11c96fe941b0",
   "metadata": {},
   "source": [
    "Perform visual analysis:"
   ]
  },
  {
   "cell_type": "code",
   "execution_count": 102,
   "id": "fdd0fab7-25a3-47e0-8df7-0036748af887",
   "metadata": {},
   "outputs": [
    {
     "data": {
      "image/png": "[encoded data removed]",
      "text/plain": [
       "<Figure size 432x288 with 1 Axes>"
      ]
     },
     "metadata": {
      "needs_background": "light"
     },
     "output_type": "display_data"
    }
   ],
   "source": [
    "# Create a simple histogram\n",
    "fig = plt.figure()\n",
    "fig.suptitle('Monthly Max Temperature', fontsize=14, fontweight='bold')  # 稍微修改一下，加点儿年月的信息\n",
    "\n",
    "plt.hist(selected_df)\n",
    "plt.ylabel(\"Frequency\")\n",
    "plt.xlabel(\"Temperature\")\n",
    "\n",
    "plt.show()"
   ]
  },
  {
   "cell_type": "code",
   "execution_count": 103,
   "id": "f69ced5a-d31e-419b-a2b0-37b8dcf8e415",
   "metadata": {},
   "outputs": [
    {
     "data": {
      "image/png": "[encoded data removed]",
      "text/plain": [
       "<Figure size 432x288 with 1 Axes>"
      ]
     },
     "metadata": {
      "needs_background": "light"
     },
     "output_type": "display_data"
    }
   ],
   "source": [
    "# figure related code by using boxplot diagram\n",
    "fig = plt.figure()\n",
    "fig.suptitle('Monthly Max Temperature', fontsize=14, fontweight='bold')\n",
    "\n",
    "ax = fig.add_subplot(111)\n",
    "ax.boxplot(selected_df)\n",
    "ax.set_ylabel('Temperature')\n",
    "\n",
    "plt.show()"
   ]
  },
  {
   "cell_type": "markdown",
   "id": "f107b9fc-bc9a-4b06-9624-355c807f200a",
   "metadata": {},
   "source": [
    "The histogram and boxplot are consistent with the previously output data."
   ]
  },
  {
   "cell_type": "markdown",
   "id": "7268ce53-6004-47ed-b096-612998ea0749",
   "metadata": {},
   "source": [
    "## 3. Daily range between maximal and minimal temperature"
   ]
  },
  {
   "cell_type": "markdown",
   "id": "dcbaea0c-e598-4fdc-bfda-139e13ab00d2",
   "metadata": {},
   "source": [
    "Combining two datasets first:"
   ]
  },
  {
   "cell_type": "code",
   "execution_count": 104,
   "id": "706fb3ca-ac51-436d-9fcd-f556448b4532",
   "metadata": {},
   "outputs": [
    {
     "data": {
      "text/html": [
       "<div>\n",
       "<style scoped>\n",
       "    .dataframe tbody tr th:only-of-type {\n",
       "        vertical-align: middle;\n",
       "    }\n",
       "\n",
       "    .dataframe tbody tr th {\n",
       "        vertical-align: top;\n",
       "    }\n",
       "\n",
       "    .dataframe thead th {\n",
       "        text-align: right;\n",
       "    }\n",
       "</style>\n",
       "<table border=\"1\" class=\"dataframe\">\n",
       "  <thead>\n",
       "    <tr style=\"text-align: right;\">\n",
       "      <th></th>\n",
       "      <th>Product code_x</th>\n",
       "      <th>Bureau of Meteorology station number</th>\n",
       "      <th>Year</th>\n",
       "      <th>Month</th>\n",
       "      <th>Day</th>\n",
       "      <th>Maximum temperature (Degree C)</th>\n",
       "      <th>Days of accumulation of maximum temperature</th>\n",
       "      <th>Quality_x</th>\n",
       "      <th>Product code_y</th>\n",
       "      <th>Minimum temperature (Degree C)</th>\n",
       "      <th>Days of accumulation of minimum temperature</th>\n",
       "      <th>Quality_y</th>\n",
       "    </tr>\n",
       "  </thead>\n",
       "  <tbody>\n",
       "    <tr>\n",
       "      <th>0</th>\n",
       "      <td>IDCJAC0010</td>\n",
       "      <td>23034</td>\n",
       "      <td>1955</td>\n",
       "      <td>1</td>\n",
       "      <td>1</td>\n",
       "      <td>NaN</td>\n",
       "      <td>NaN</td>\n",
       "      <td>NaN</td>\n",
       "      <td>IDCJAC0011</td>\n",
       "      <td>NaN</td>\n",
       "      <td>NaN</td>\n",
       "      <td>NaN</td>\n",
       "    </tr>\n",
       "    <tr>\n",
       "      <th>1</th>\n",
       "      <td>IDCJAC0010</td>\n",
       "      <td>23034</td>\n",
       "      <td>1955</td>\n",
       "      <td>1</td>\n",
       "      <td>2</td>\n",
       "      <td>NaN</td>\n",
       "      <td>NaN</td>\n",
       "      <td>NaN</td>\n",
       "      <td>IDCJAC0011</td>\n",
       "      <td>NaN</td>\n",
       "      <td>NaN</td>\n",
       "      <td>NaN</td>\n",
       "    </tr>\n",
       "    <tr>\n",
       "      <th>2</th>\n",
       "      <td>IDCJAC0010</td>\n",
       "      <td>23034</td>\n",
       "      <td>1955</td>\n",
       "      <td>1</td>\n",
       "      <td>3</td>\n",
       "      <td>NaN</td>\n",
       "      <td>NaN</td>\n",
       "      <td>NaN</td>\n",
       "      <td>IDCJAC0011</td>\n",
       "      <td>NaN</td>\n",
       "      <td>NaN</td>\n",
       "      <td>NaN</td>\n",
       "    </tr>\n",
       "    <tr>\n",
       "      <th>3</th>\n",
       "      <td>IDCJAC0010</td>\n",
       "      <td>23034</td>\n",
       "      <td>1955</td>\n",
       "      <td>1</td>\n",
       "      <td>4</td>\n",
       "      <td>NaN</td>\n",
       "      <td>NaN</td>\n",
       "      <td>NaN</td>\n",
       "      <td>IDCJAC0011</td>\n",
       "      <td>NaN</td>\n",
       "      <td>NaN</td>\n",
       "      <td>NaN</td>\n",
       "    </tr>\n",
       "    <tr>\n",
       "      <th>4</th>\n",
       "      <td>IDCJAC0010</td>\n",
       "      <td>23034</td>\n",
       "      <td>1955</td>\n",
       "      <td>1</td>\n",
       "      <td>5</td>\n",
       "      <td>NaN</td>\n",
       "      <td>NaN</td>\n",
       "      <td>NaN</td>\n",
       "      <td>IDCJAC0011</td>\n",
       "      <td>NaN</td>\n",
       "      <td>NaN</td>\n",
       "      <td>NaN</td>\n",
       "    </tr>\n",
       "    <tr>\n",
       "      <th>...</th>\n",
       "      <td>...</td>\n",
       "      <td>...</td>\n",
       "      <td>...</td>\n",
       "      <td>...</td>\n",
       "      <td>...</td>\n",
       "      <td>...</td>\n",
       "      <td>...</td>\n",
       "      <td>...</td>\n",
       "      <td>...</td>\n",
       "      <td>...</td>\n",
       "      <td>...</td>\n",
       "      <td>...</td>\n",
       "    </tr>\n",
       "    <tr>\n",
       "      <th>24694</th>\n",
       "      <td>IDCJAC0010</td>\n",
       "      <td>23034</td>\n",
       "      <td>2022</td>\n",
       "      <td>8</td>\n",
       "      <td>11</td>\n",
       "      <td>15.8</td>\n",
       "      <td>1.0</td>\n",
       "      <td>N</td>\n",
       "      <td>IDCJAC0011</td>\n",
       "      <td>7.3</td>\n",
       "      <td>1.0</td>\n",
       "      <td>N</td>\n",
       "    </tr>\n",
       "    <tr>\n",
       "      <th>24695</th>\n",
       "      <td>IDCJAC0010</td>\n",
       "      <td>23034</td>\n",
       "      <td>2022</td>\n",
       "      <td>8</td>\n",
       "      <td>12</td>\n",
       "      <td>14.6</td>\n",
       "      <td>1.0</td>\n",
       "      <td>N</td>\n",
       "      <td>IDCJAC0011</td>\n",
       "      <td>11.1</td>\n",
       "      <td>1.0</td>\n",
       "      <td>N</td>\n",
       "    </tr>\n",
       "    <tr>\n",
       "      <th>24696</th>\n",
       "      <td>IDCJAC0010</td>\n",
       "      <td>23034</td>\n",
       "      <td>2022</td>\n",
       "      <td>8</td>\n",
       "      <td>13</td>\n",
       "      <td>14.5</td>\n",
       "      <td>1.0</td>\n",
       "      <td>N</td>\n",
       "      <td>IDCJAC0011</td>\n",
       "      <td>9.8</td>\n",
       "      <td>1.0</td>\n",
       "      <td>N</td>\n",
       "    </tr>\n",
       "    <tr>\n",
       "      <th>24697</th>\n",
       "      <td>IDCJAC0010</td>\n",
       "      <td>23034</td>\n",
       "      <td>2022</td>\n",
       "      <td>8</td>\n",
       "      <td>14</td>\n",
       "      <td>15.2</td>\n",
       "      <td>1.0</td>\n",
       "      <td>N</td>\n",
       "      <td>IDCJAC0011</td>\n",
       "      <td>7.8</td>\n",
       "      <td>1.0</td>\n",
       "      <td>N</td>\n",
       "    </tr>\n",
       "    <tr>\n",
       "      <th>24698</th>\n",
       "      <td>IDCJAC0010</td>\n",
       "      <td>23034</td>\n",
       "      <td>2022</td>\n",
       "      <td>8</td>\n",
       "      <td>15</td>\n",
       "      <td>15.0</td>\n",
       "      <td>1.0</td>\n",
       "      <td>N</td>\n",
       "      <td>IDCJAC0011</td>\n",
       "      <td>10.1</td>\n",
       "      <td>1.0</td>\n",
       "      <td>N</td>\n",
       "    </tr>\n",
       "  </tbody>\n",
       "</table>\n",
       "<p>24699 rows × 12 columns</p>\n",
       "</div>"
      ],
      "text/plain": [
       "      Product code_x  Bureau of Meteorology station number  Year  Month  Day  \\\n",
       "0         IDCJAC0010                                 23034  1955      1    1   \n",
       "1         IDCJAC0010                                 23034  1955      1    2   \n",
       "2         IDCJAC0010                                 23034  1955      1    3   \n",
       "3         IDCJAC0010                                 23034  1955      1    4   \n",
       "4         IDCJAC0010                                 23034  1955      1    5   \n",
       "...              ...                                   ...   ...    ...  ...   \n",
       "24694     IDCJAC0010                                 23034  2022      8   11   \n",
       "24695     IDCJAC0010                                 23034  2022      8   12   \n",
       "24696     IDCJAC0010                                 23034  2022      8   13   \n",
       "24697     IDCJAC0010                                 23034  2022      8   14   \n",
       "24698     IDCJAC0010                                 23034  2022      8   15   \n",
       "\n",
       "       Maximum temperature (Degree C)  \\\n",
       "0                                 NaN   \n",
       "1                                 NaN   \n",
       "2                                 NaN   \n",
       "3                                 NaN   \n",
       "4                                 NaN   \n",
       "...                               ...   \n",
       "24694                            15.8   \n",
       "24695                            14.6   \n",
       "24696                            14.5   \n",
       "24697                            15.2   \n",
       "24698                            15.0   \n",
       "\n",
       "       Days of accumulation of maximum temperature Quality_x Product code_y  \\\n",
       "0                                              NaN       NaN     IDCJAC0011   \n",
       "1                                              NaN       NaN     IDCJAC0011   \n",
       "2                                              NaN       NaN     IDCJAC0011   \n",
       "3                                              NaN       NaN     IDCJAC0011   \n",
       "4                                              NaN       NaN     IDCJAC0011   \n",
       "...                                            ...       ...            ...   \n",
       "24694                                          1.0         N     IDCJAC0011   \n",
       "24695                                          1.0         N     IDCJAC0011   \n",
       "24696                                          1.0         N     IDCJAC0011   \n",
       "24697                                          1.0         N     IDCJAC0011   \n",
       "24698                                          1.0         N     IDCJAC0011   \n",
       "\n",
       "       Minimum temperature (Degree C)  \\\n",
       "0                                 NaN   \n",
       "1                                 NaN   \n",
       "2                                 NaN   \n",
       "3                                 NaN   \n",
       "4                                 NaN   \n",
       "...                               ...   \n",
       "24694                             7.3   \n",
       "24695                            11.1   \n",
       "24696                             9.8   \n",
       "24697                             7.8   \n",
       "24698                            10.1   \n",
       "\n",
       "       Days of accumulation of minimum temperature Quality_y  \n",
       "0                                              NaN       NaN  \n",
       "1                                              NaN       NaN  \n",
       "2                                              NaN       NaN  \n",
       "3                                              NaN       NaN  \n",
       "4                                              NaN       NaN  \n",
       "...                                            ...       ...  \n",
       "24694                                          1.0         N  \n",
       "24695                                          1.0         N  \n",
       "24696                                          1.0         N  \n",
       "24697                                          1.0         N  \n",
       "24698                                          1.0         N  \n",
       "\n",
       "[24699 rows x 12 columns]"
      ]
     },
     "execution_count": 104,
     "metadata": {},
     "output_type": "execute_result"
    }
   ],
   "source": [
    "df_comb = pd.merge(\n",
    "    df_highest_temp,\n",
    "    df_lowest_temp,\n",
    "    how=\"inner\",\n",
    "    on=[\"Bureau of Meteorology station number\", \"Year\", \"Month\", \"Day\"]\n",
    ")\n",
    "\n",
    "df_comb"
   ]
  },
  {
   "cell_type": "code",
   "execution_count": 105,
   "id": "ccf6c0dc-aae2-4691-9f92-be8148890a8b",
   "metadata": {},
   "outputs": [
    {
     "data": {
      "text/html": [
       "<div>\n",
       "<style scoped>\n",
       "    .dataframe tbody tr th:only-of-type {\n",
       "        vertical-align: middle;\n",
       "    }\n",
       "\n",
       "    .dataframe tbody tr th {\n",
       "        vertical-align: top;\n",
       "    }\n",
       "\n",
       "    .dataframe thead th {\n",
       "        text-align: right;\n",
       "    }\n",
       "</style>\n",
       "<table border=\"1\" class=\"dataframe\">\n",
       "  <thead>\n",
       "    <tr style=\"text-align: right;\">\n",
       "      <th></th>\n",
       "      <th>Product code_x</th>\n",
       "      <th>Bureau of Meteorology station number</th>\n",
       "      <th>Year</th>\n",
       "      <th>Month</th>\n",
       "      <th>Day</th>\n",
       "      <th>Maximum temperature (Degree C)</th>\n",
       "      <th>Days of accumulation of maximum temperature</th>\n",
       "      <th>Quality_x</th>\n",
       "      <th>Product code_y</th>\n",
       "      <th>Minimum temperature (Degree C)</th>\n",
       "      <th>Days of accumulation of minimum temperature</th>\n",
       "      <th>Quality_y</th>\n",
       "    </tr>\n",
       "  </thead>\n",
       "  <tbody>\n",
       "    <tr>\n",
       "      <th>47</th>\n",
       "      <td>IDCJAC0010</td>\n",
       "      <td>23034</td>\n",
       "      <td>1955</td>\n",
       "      <td>2</td>\n",
       "      <td>17</td>\n",
       "      <td>29.9</td>\n",
       "      <td>1.0</td>\n",
       "      <td>Y</td>\n",
       "      <td>IDCJAC0011</td>\n",
       "      <td>17.1</td>\n",
       "      <td>1.0</td>\n",
       "      <td>Y</td>\n",
       "    </tr>\n",
       "    <tr>\n",
       "      <th>48</th>\n",
       "      <td>IDCJAC0010</td>\n",
       "      <td>23034</td>\n",
       "      <td>1955</td>\n",
       "      <td>2</td>\n",
       "      <td>18</td>\n",
       "      <td>27.2</td>\n",
       "      <td>1.0</td>\n",
       "      <td>Y</td>\n",
       "      <td>IDCJAC0011</td>\n",
       "      <td>17.2</td>\n",
       "      <td>1.0</td>\n",
       "      <td>Y</td>\n",
       "    </tr>\n",
       "    <tr>\n",
       "      <th>49</th>\n",
       "      <td>IDCJAC0010</td>\n",
       "      <td>23034</td>\n",
       "      <td>1955</td>\n",
       "      <td>2</td>\n",
       "      <td>19</td>\n",
       "      <td>22.6</td>\n",
       "      <td>1.0</td>\n",
       "      <td>Y</td>\n",
       "      <td>IDCJAC0011</td>\n",
       "      <td>15.1</td>\n",
       "      <td>1.0</td>\n",
       "      <td>Y</td>\n",
       "    </tr>\n",
       "    <tr>\n",
       "      <th>50</th>\n",
       "      <td>IDCJAC0010</td>\n",
       "      <td>23034</td>\n",
       "      <td>1955</td>\n",
       "      <td>2</td>\n",
       "      <td>20</td>\n",
       "      <td>25.6</td>\n",
       "      <td>1.0</td>\n",
       "      <td>Y</td>\n",
       "      <td>IDCJAC0011</td>\n",
       "      <td>13.4</td>\n",
       "      <td>1.0</td>\n",
       "      <td>Y</td>\n",
       "    </tr>\n",
       "    <tr>\n",
       "      <th>51</th>\n",
       "      <td>IDCJAC0010</td>\n",
       "      <td>23034</td>\n",
       "      <td>1955</td>\n",
       "      <td>2</td>\n",
       "      <td>21</td>\n",
       "      <td>26.6</td>\n",
       "      <td>1.0</td>\n",
       "      <td>Y</td>\n",
       "      <td>IDCJAC0011</td>\n",
       "      <td>11.4</td>\n",
       "      <td>1.0</td>\n",
       "      <td>Y</td>\n",
       "    </tr>\n",
       "    <tr>\n",
       "      <th>...</th>\n",
       "      <td>...</td>\n",
       "      <td>...</td>\n",
       "      <td>...</td>\n",
       "      <td>...</td>\n",
       "      <td>...</td>\n",
       "      <td>...</td>\n",
       "      <td>...</td>\n",
       "      <td>...</td>\n",
       "      <td>...</td>\n",
       "      <td>...</td>\n",
       "      <td>...</td>\n",
       "      <td>...</td>\n",
       "    </tr>\n",
       "    <tr>\n",
       "      <th>24694</th>\n",
       "      <td>IDCJAC0010</td>\n",
       "      <td>23034</td>\n",
       "      <td>2022</td>\n",
       "      <td>8</td>\n",
       "      <td>11</td>\n",
       "      <td>15.8</td>\n",
       "      <td>1.0</td>\n",
       "      <td>N</td>\n",
       "      <td>IDCJAC0011</td>\n",
       "      <td>7.3</td>\n",
       "      <td>1.0</td>\n",
       "      <td>N</td>\n",
       "    </tr>\n",
       "    <tr>\n",
       "      <th>24695</th>\n",
       "      <td>IDCJAC0010</td>\n",
       "      <td>23034</td>\n",
       "      <td>2022</td>\n",
       "      <td>8</td>\n",
       "      <td>12</td>\n",
       "      <td>14.6</td>\n",
       "      <td>1.0</td>\n",
       "      <td>N</td>\n",
       "      <td>IDCJAC0011</td>\n",
       "      <td>11.1</td>\n",
       "      <td>1.0</td>\n",
       "      <td>N</td>\n",
       "    </tr>\n",
       "    <tr>\n",
       "      <th>24696</th>\n",
       "      <td>IDCJAC0010</td>\n",
       "      <td>23034</td>\n",
       "      <td>2022</td>\n",
       "      <td>8</td>\n",
       "      <td>13</td>\n",
       "      <td>14.5</td>\n",
       "      <td>1.0</td>\n",
       "      <td>N</td>\n",
       "      <td>IDCJAC0011</td>\n",
       "      <td>9.8</td>\n",
       "      <td>1.0</td>\n",
       "      <td>N</td>\n",
       "    </tr>\n",
       "    <tr>\n",
       "      <th>24697</th>\n",
       "      <td>IDCJAC0010</td>\n",
       "      <td>23034</td>\n",
       "      <td>2022</td>\n",
       "      <td>8</td>\n",
       "      <td>14</td>\n",
       "      <td>15.2</td>\n",
       "      <td>1.0</td>\n",
       "      <td>N</td>\n",
       "      <td>IDCJAC0011</td>\n",
       "      <td>7.8</td>\n",
       "      <td>1.0</td>\n",
       "      <td>N</td>\n",
       "    </tr>\n",
       "    <tr>\n",
       "      <th>24698</th>\n",
       "      <td>IDCJAC0010</td>\n",
       "      <td>23034</td>\n",
       "      <td>2022</td>\n",
       "      <td>8</td>\n",
       "      <td>15</td>\n",
       "      <td>15.0</td>\n",
       "      <td>1.0</td>\n",
       "      <td>N</td>\n",
       "      <td>IDCJAC0011</td>\n",
       "      <td>10.1</td>\n",
       "      <td>1.0</td>\n",
       "      <td>N</td>\n",
       "    </tr>\n",
       "  </tbody>\n",
       "</table>\n",
       "<p>24636 rows × 12 columns</p>\n",
       "</div>"
      ],
      "text/plain": [
       "      Product code_x  Bureau of Meteorology station number  Year  Month  Day  \\\n",
       "47        IDCJAC0010                                 23034  1955      2   17   \n",
       "48        IDCJAC0010                                 23034  1955      2   18   \n",
       "49        IDCJAC0010                                 23034  1955      2   19   \n",
       "50        IDCJAC0010                                 23034  1955      2   20   \n",
       "51        IDCJAC0010                                 23034  1955      2   21   \n",
       "...              ...                                   ...   ...    ...  ...   \n",
       "24694     IDCJAC0010                                 23034  2022      8   11   \n",
       "24695     IDCJAC0010                                 23034  2022      8   12   \n",
       "24696     IDCJAC0010                                 23034  2022      8   13   \n",
       "24697     IDCJAC0010                                 23034  2022      8   14   \n",
       "24698     IDCJAC0010                                 23034  2022      8   15   \n",
       "\n",
       "       Maximum temperature (Degree C)  \\\n",
       "47                               29.9   \n",
       "48                               27.2   \n",
       "49                               22.6   \n",
       "50                               25.6   \n",
       "51                               26.6   \n",
       "...                               ...   \n",
       "24694                            15.8   \n",
       "24695                            14.6   \n",
       "24696                            14.5   \n",
       "24697                            15.2   \n",
       "24698                            15.0   \n",
       "\n",
       "       Days of accumulation of maximum temperature Quality_x Product code_y  \\\n",
       "47                                             1.0         Y     IDCJAC0011   \n",
       "48                                             1.0         Y     IDCJAC0011   \n",
       "49                                             1.0         Y     IDCJAC0011   \n",
       "50                                             1.0         Y     IDCJAC0011   \n",
       "51                                             1.0         Y     IDCJAC0011   \n",
       "...                                            ...       ...            ...   \n",
       "24694                                          1.0         N     IDCJAC0011   \n",
       "24695                                          1.0         N     IDCJAC0011   \n",
       "24696                                          1.0         N     IDCJAC0011   \n",
       "24697                                          1.0         N     IDCJAC0011   \n",
       "24698                                          1.0         N     IDCJAC0011   \n",
       "\n",
       "       Minimum temperature (Degree C)  \\\n",
       "47                               17.1   \n",
       "48                               17.2   \n",
       "49                               15.1   \n",
       "50                               13.4   \n",
       "51                               11.4   \n",
       "...                               ...   \n",
       "24694                             7.3   \n",
       "24695                            11.1   \n",
       "24696                             9.8   \n",
       "24697                             7.8   \n",
       "24698                            10.1   \n",
       "\n",
       "       Days of accumulation of minimum temperature Quality_y  \n",
       "47                                             1.0         Y  \n",
       "48                                             1.0         Y  \n",
       "49                                             1.0         Y  \n",
       "50                                             1.0         Y  \n",
       "51                                             1.0         Y  \n",
       "...                                            ...       ...  \n",
       "24694                                          1.0         N  \n",
       "24695                                          1.0         N  \n",
       "24696                                          1.0         N  \n",
       "24697                                          1.0         N  \n",
       "24698                                          1.0         N  \n",
       "\n",
       "[24636 rows x 12 columns]"
      ]
     },
     "execution_count": 105,
     "metadata": {},
     "output_type": "execute_result"
    }
   ],
   "source": [
    "df_comb_dropna = df_comb.dropna()\n",
    "\n",
    "df_comb_dropna"
   ]
  },
  {
   "cell_type": "markdown",
   "id": "e21cf1d9-948e-4e11-b90e-6492667147ed",
   "metadata": {},
   "source": [
    "Calculating daily range:"
   ]
  },
  {
   "cell_type": "code",
   "execution_count": 106,
   "id": "a3baa6fe-93fb-4245-82c4-3eefe5656481",
   "metadata": {},
   "outputs": [
    {
     "data": {
      "text/plain": [
       "47       12.8\n",
       "48       10.0\n",
       "49        7.5\n",
       "50       12.2\n",
       "51       15.2\n",
       "         ... \n",
       "24694     8.5\n",
       "24695     3.5\n",
       "24696     4.7\n",
       "24697     7.4\n",
       "24698     4.9\n",
       "Length: 24636, dtype: float64"
      ]
     },
     "execution_count": 106,
     "metadata": {},
     "output_type": "execute_result"
    }
   ],
   "source": [
    "df_daily_range = df_comb_dropna[\"Maximum temperature (Degree C)\"] - df_comb_dropna[\"Minimum temperature (Degree C)\"]\n",
    "\n",
    "df_daily_range"
   ]
  },
  {
   "cell_type": "code",
   "execution_count": 107,
   "id": "cc63fbfc-2695-4d29-addf-f41716920ae9",
   "metadata": {},
   "outputs": [
    {
     "name": "stderr",
     "output_type": "stream",
     "text": [
      "C:\\Users\\yinia\\AppData\\Local\\Temp\\ipykernel_2636\\2025318016.py:2: SettingWithCopyWarning: \n",
      "A value is trying to be set on a copy of a slice from a DataFrame.\n",
      "Try using .loc[row_indexer,col_indexer] = value instead\n",
      "\n",
      "See the caveats in the documentation: https://pandas.pydata.org/pandas-docs/stable/user_guide/indexing.html#returning-a-view-versus-a-copy\n",
      "  df_comb_dropna[\"Range\"] = df_comb_dropna[\"Maximum temperature (Degree C)\"] - df_comb_dropna[\"Minimum temperature (Degree C)\"]\n"
     ]
    }
   ],
   "source": [
    "#df_comb_daily_range = pd.concat([df_comb_dropna,df_daily_range],  ignore_index=True)\n",
    "df_comb_dropna[\"Range\"] = df_comb_dropna[\"Maximum temperature (Degree C)\"] - df_comb_dropna[\"Minimum temperature (Degree C)\"]"
   ]
  },
  {
   "cell_type": "code",
   "execution_count": 108,
   "id": "267719c6-efa6-49bb-99ce-cad5c424e710",
   "metadata": {},
   "outputs": [
    {
     "data": {
      "text/html": [
       "<div>\n",
       "<style scoped>\n",
       "    .dataframe tbody tr th:only-of-type {\n",
       "        vertical-align: middle;\n",
       "    }\n",
       "\n",
       "    .dataframe tbody tr th {\n",
       "        vertical-align: top;\n",
       "    }\n",
       "\n",
       "    .dataframe thead th {\n",
       "        text-align: right;\n",
       "    }\n",
       "</style>\n",
       "<table border=\"1\" class=\"dataframe\">\n",
       "  <thead>\n",
       "    <tr style=\"text-align: right;\">\n",
       "      <th></th>\n",
       "      <th>Product code_x</th>\n",
       "      <th>Bureau of Meteorology station number</th>\n",
       "      <th>Year</th>\n",
       "      <th>Month</th>\n",
       "      <th>Day</th>\n",
       "      <th>Maximum temperature (Degree C)</th>\n",
       "      <th>Days of accumulation of maximum temperature</th>\n",
       "      <th>Quality_x</th>\n",
       "      <th>Product code_y</th>\n",
       "      <th>Minimum temperature (Degree C)</th>\n",
       "      <th>Days of accumulation of minimum temperature</th>\n",
       "      <th>Quality_y</th>\n",
       "      <th>Range</th>\n",
       "    </tr>\n",
       "  </thead>\n",
       "  <tbody>\n",
       "    <tr>\n",
       "      <th>47</th>\n",
       "      <td>IDCJAC0010</td>\n",
       "      <td>23034</td>\n",
       "      <td>1955</td>\n",
       "      <td>2</td>\n",
       "      <td>17</td>\n",
       "      <td>29.9</td>\n",
       "      <td>1.0</td>\n",
       "      <td>Y</td>\n",
       "      <td>IDCJAC0011</td>\n",
       "      <td>17.1</td>\n",
       "      <td>1.0</td>\n",
       "      <td>Y</td>\n",
       "      <td>12.8</td>\n",
       "    </tr>\n",
       "    <tr>\n",
       "      <th>48</th>\n",
       "      <td>IDCJAC0010</td>\n",
       "      <td>23034</td>\n",
       "      <td>1955</td>\n",
       "      <td>2</td>\n",
       "      <td>18</td>\n",
       "      <td>27.2</td>\n",
       "      <td>1.0</td>\n",
       "      <td>Y</td>\n",
       "      <td>IDCJAC0011</td>\n",
       "      <td>17.2</td>\n",
       "      <td>1.0</td>\n",
       "      <td>Y</td>\n",
       "      <td>10.0</td>\n",
       "    </tr>\n",
       "    <tr>\n",
       "      <th>49</th>\n",
       "      <td>IDCJAC0010</td>\n",
       "      <td>23034</td>\n",
       "      <td>1955</td>\n",
       "      <td>2</td>\n",
       "      <td>19</td>\n",
       "      <td>22.6</td>\n",
       "      <td>1.0</td>\n",
       "      <td>Y</td>\n",
       "      <td>IDCJAC0011</td>\n",
       "      <td>15.1</td>\n",
       "      <td>1.0</td>\n",
       "      <td>Y</td>\n",
       "      <td>7.5</td>\n",
       "    </tr>\n",
       "    <tr>\n",
       "      <th>50</th>\n",
       "      <td>IDCJAC0010</td>\n",
       "      <td>23034</td>\n",
       "      <td>1955</td>\n",
       "      <td>2</td>\n",
       "      <td>20</td>\n",
       "      <td>25.6</td>\n",
       "      <td>1.0</td>\n",
       "      <td>Y</td>\n",
       "      <td>IDCJAC0011</td>\n",
       "      <td>13.4</td>\n",
       "      <td>1.0</td>\n",
       "      <td>Y</td>\n",
       "      <td>12.2</td>\n",
       "    </tr>\n",
       "    <tr>\n",
       "      <th>51</th>\n",
       "      <td>IDCJAC0010</td>\n",
       "      <td>23034</td>\n",
       "      <td>1955</td>\n",
       "      <td>2</td>\n",
       "      <td>21</td>\n",
       "      <td>26.6</td>\n",
       "      <td>1.0</td>\n",
       "      <td>Y</td>\n",
       "      <td>IDCJAC0011</td>\n",
       "      <td>11.4</td>\n",
       "      <td>1.0</td>\n",
       "      <td>Y</td>\n",
       "      <td>15.2</td>\n",
       "    </tr>\n",
       "    <tr>\n",
       "      <th>...</th>\n",
       "      <td>...</td>\n",
       "      <td>...</td>\n",
       "      <td>...</td>\n",
       "      <td>...</td>\n",
       "      <td>...</td>\n",
       "      <td>...</td>\n",
       "      <td>...</td>\n",
       "      <td>...</td>\n",
       "      <td>...</td>\n",
       "      <td>...</td>\n",
       "      <td>...</td>\n",
       "      <td>...</td>\n",
       "      <td>...</td>\n",
       "    </tr>\n",
       "    <tr>\n",
       "      <th>24694</th>\n",
       "      <td>IDCJAC0010</td>\n",
       "      <td>23034</td>\n",
       "      <td>2022</td>\n",
       "      <td>8</td>\n",
       "      <td>11</td>\n",
       "      <td>15.8</td>\n",
       "      <td>1.0</td>\n",
       "      <td>N</td>\n",
       "      <td>IDCJAC0011</td>\n",
       "      <td>7.3</td>\n",
       "      <td>1.0</td>\n",
       "      <td>N</td>\n",
       "      <td>8.5</td>\n",
       "    </tr>\n",
       "    <tr>\n",
       "      <th>24695</th>\n",
       "      <td>IDCJAC0010</td>\n",
       "      <td>23034</td>\n",
       "      <td>2022</td>\n",
       "      <td>8</td>\n",
       "      <td>12</td>\n",
       "      <td>14.6</td>\n",
       "      <td>1.0</td>\n",
       "      <td>N</td>\n",
       "      <td>IDCJAC0011</td>\n",
       "      <td>11.1</td>\n",
       "      <td>1.0</td>\n",
       "      <td>N</td>\n",
       "      <td>3.5</td>\n",
       "    </tr>\n",
       "    <tr>\n",
       "      <th>24696</th>\n",
       "      <td>IDCJAC0010</td>\n",
       "      <td>23034</td>\n",
       "      <td>2022</td>\n",
       "      <td>8</td>\n",
       "      <td>13</td>\n",
       "      <td>14.5</td>\n",
       "      <td>1.0</td>\n",
       "      <td>N</td>\n",
       "      <td>IDCJAC0011</td>\n",
       "      <td>9.8</td>\n",
       "      <td>1.0</td>\n",
       "      <td>N</td>\n",
       "      <td>4.7</td>\n",
       "    </tr>\n",
       "    <tr>\n",
       "      <th>24697</th>\n",
       "      <td>IDCJAC0010</td>\n",
       "      <td>23034</td>\n",
       "      <td>2022</td>\n",
       "      <td>8</td>\n",
       "      <td>14</td>\n",
       "      <td>15.2</td>\n",
       "      <td>1.0</td>\n",
       "      <td>N</td>\n",
       "      <td>IDCJAC0011</td>\n",
       "      <td>7.8</td>\n",
       "      <td>1.0</td>\n",
       "      <td>N</td>\n",
       "      <td>7.4</td>\n",
       "    </tr>\n",
       "    <tr>\n",
       "      <th>24698</th>\n",
       "      <td>IDCJAC0010</td>\n",
       "      <td>23034</td>\n",
       "      <td>2022</td>\n",
       "      <td>8</td>\n",
       "      <td>15</td>\n",
       "      <td>15.0</td>\n",
       "      <td>1.0</td>\n",
       "      <td>N</td>\n",
       "      <td>IDCJAC0011</td>\n",
       "      <td>10.1</td>\n",
       "      <td>1.0</td>\n",
       "      <td>N</td>\n",
       "      <td>4.9</td>\n",
       "    </tr>\n",
       "  </tbody>\n",
       "</table>\n",
       "<p>24636 rows × 13 columns</p>\n",
       "</div>"
      ],
      "text/plain": [
       "      Product code_x  Bureau of Meteorology station number  Year  Month  Day  \\\n",
       "47        IDCJAC0010                                 23034  1955      2   17   \n",
       "48        IDCJAC0010                                 23034  1955      2   18   \n",
       "49        IDCJAC0010                                 23034  1955      2   19   \n",
       "50        IDCJAC0010                                 23034  1955      2   20   \n",
       "51        IDCJAC0010                                 23034  1955      2   21   \n",
       "...              ...                                   ...   ...    ...  ...   \n",
       "24694     IDCJAC0010                                 23034  2022      8   11   \n",
       "24695     IDCJAC0010                                 23034  2022      8   12   \n",
       "24696     IDCJAC0010                                 23034  2022      8   13   \n",
       "24697     IDCJAC0010                                 23034  2022      8   14   \n",
       "24698     IDCJAC0010                                 23034  2022      8   15   \n",
       "\n",
       "       Maximum temperature (Degree C)  \\\n",
       "47                               29.9   \n",
       "48                               27.2   \n",
       "49                               22.6   \n",
       "50                               25.6   \n",
       "51                               26.6   \n",
       "...                               ...   \n",
       "24694                            15.8   \n",
       "24695                            14.6   \n",
       "24696                            14.5   \n",
       "24697                            15.2   \n",
       "24698                            15.0   \n",
       "\n",
       "       Days of accumulation of maximum temperature Quality_x Product code_y  \\\n",
       "47                                             1.0         Y     IDCJAC0011   \n",
       "48                                             1.0         Y     IDCJAC0011   \n",
       "49                                             1.0         Y     IDCJAC0011   \n",
       "50                                             1.0         Y     IDCJAC0011   \n",
       "51                                             1.0         Y     IDCJAC0011   \n",
       "...                                            ...       ...            ...   \n",
       "24694                                          1.0         N     IDCJAC0011   \n",
       "24695                                          1.0         N     IDCJAC0011   \n",
       "24696                                          1.0         N     IDCJAC0011   \n",
       "24697                                          1.0         N     IDCJAC0011   \n",
       "24698                                          1.0         N     IDCJAC0011   \n",
       "\n",
       "       Minimum temperature (Degree C)  \\\n",
       "47                               17.1   \n",
       "48                               17.2   \n",
       "49                               15.1   \n",
       "50                               13.4   \n",
       "51                               11.4   \n",
       "...                               ...   \n",
       "24694                             7.3   \n",
       "24695                            11.1   \n",
       "24696                             9.8   \n",
       "24697                             7.8   \n",
       "24698                            10.1   \n",
       "\n",
       "       Days of accumulation of minimum temperature Quality_y  Range  \n",
       "47                                             1.0         Y   12.8  \n",
       "48                                             1.0         Y   10.0  \n",
       "49                                             1.0         Y    7.5  \n",
       "50                                             1.0         Y   12.2  \n",
       "51                                             1.0         Y   15.2  \n",
       "...                                            ...       ...    ...  \n",
       "24694                                          1.0         N    8.5  \n",
       "24695                                          1.0         N    3.5  \n",
       "24696                                          1.0         N    4.7  \n",
       "24697                                          1.0         N    7.4  \n",
       "24698                                          1.0         N    4.9  \n",
       "\n",
       "[24636 rows x 13 columns]"
      ]
     },
     "execution_count": 108,
     "metadata": {},
     "output_type": "execute_result"
    }
   ],
   "source": [
    "df_comb_dropna"
   ]
  },
  {
   "cell_type": "code",
   "execution_count": 109,
   "id": "6a504e5f-7a50-4eb3-ad45-04f62304c7ab",
   "metadata": {},
   "outputs": [],
   "source": [
    "# df_yealy_mean = df_comb_dropna[\"\"]\n",
    "df_year_mean = df_comb_dropna.groupby(['Year']).mean()[\"Range\"]"
   ]
  },
  {
   "cell_type": "code",
   "execution_count": 110,
   "id": "5d4972ba-dc80-4b91-8f28-ece0d7e455b2",
   "metadata": {},
   "outputs": [
    {
     "data": {
      "text/plain": [
       "Year\n",
       "1955     9.350000\n",
       "1956     9.065027\n",
       "1957    10.746575\n",
       "1958    10.100274\n",
       "1959    11.033973\n",
       "          ...    \n",
       "2018     9.897808\n",
       "2019    10.090959\n",
       "2020     9.734699\n",
       "2021     9.710411\n",
       "2022     8.697357\n",
       "Name: Range, Length: 68, dtype: float64"
      ]
     },
     "execution_count": 110,
     "metadata": {},
     "output_type": "execute_result"
    }
   ],
   "source": [
    "df_year_mean"
   ]
  },
  {
   "cell_type": "code",
   "execution_count": 111,
   "id": "31a23856-aae4-4e4d-a850-183f256152cd",
   "metadata": {},
   "outputs": [
    {
     "data": {
      "image/png": "[encoded data removed]",
      "text/plain": [
       "<Figure size 432x288 with 1 Axes>"
      ]
     },
     "metadata": {
      "needs_background": "light"
     },
     "output_type": "display_data"
    }
   ],
   "source": [
    "plt.hist(df_year_mean)\n",
    "plt.show()"
   ]
  },
  {
   "cell_type": "code",
   "execution_count": 112,
   "id": "12a805f2-1367-4f9b-8181-e658e8e0cb9b",
   "metadata": {},
   "outputs": [
    {
     "data": {
      "image/png": "[encoded data removed]",
      "text/plain": [
       "<Figure size 432x288 with 1 Axes>"
      ]
     },
     "metadata": {
      "needs_background": "light"
     },
     "output_type": "display_data"
    }
   ],
   "source": [
    "# figure related code\n",
    "fig = plt.figure()\n",
    "fig.suptitle('Yearly Mean Temperature Range', fontsize=14, fontweight='bold')  # 稍微修改一下，加点儿年月的信息\n",
    "\n",
    "ax = fig.add_subplot(111)\n",
    "ax.boxplot(df_year_mean)\n",
    "\n",
    "ax.set_ylabel('Temperature Range')\n",
    "\n",
    "plt.show()"
   ]
  },
  {
   "cell_type": "markdown",
   "id": "082bc9b5-dc64-47a4-9776-d2fc030c5c95",
   "metadata": {},
   "source": [
    "From the histogram and box plot, it can be regarded as a normal distribution, and there are some outliers in the data."
   ]
  },
  {
   "cell_type": "code",
   "execution_count": 113,
   "id": "44af9746-6a5b-4ba0-b4c7-93070f2aae9b",
   "metadata": {},
   "outputs": [
    {
     "data": {
      "text/plain": [
       "[<matplotlib.lines.Line2D at 0x217b5fe9ab0>]"
      ]
     },
     "execution_count": 113,
     "metadata": {},
     "output_type": "execute_result"
    },
    {
     "data": {
      "image/png": "[encoded data removed]",
      "text/plain": [
       "<Figure size 432x288 with 1 Axes>"
      ]
     },
     "metadata": {
      "needs_background": "light"
     },
     "output_type": "display_data"
    }
   ],
   "source": [
    "plt.plot(df_year_mean)"
   ]
  },
  {
   "cell_type": "markdown",
   "id": "82aa169f-d257-430c-b46d-f094246185be",
   "metadata": {},
   "source": [
    "Although the lines on the picture fluctuate greatly, the actual difference is about 2 degrees Celsius, which is not very large.\n",
    "\n",
    "The last drop of the line may be due to the fact that 2022 data is only recorded for August."
   ]
  },
  {
   "cell_type": "markdown",
   "id": "4a6455d9-8f0e-492e-8f1f-d1839b47d704",
   "metadata": {},
   "source": [
    "## 4. Calculate the occurrence of high and low temperatures"
   ]
  },
  {
   "cell_type": "markdown",
   "id": "d4321aa0-1c52-43cb-ab54-c195727e2eab",
   "metadata": {},
   "source": [
    "### 4.1 Count number of days per year with maximal temperature above 35 degrees"
   ]
  },
  {
   "cell_type": "markdown",
   "id": "dd0ef5c2-61f1-4ec2-b43b-d02332cc8f53",
   "metadata": {},
   "source": [
    "Set 35 as the temperature dividing line, once the temperature is higher than 35, then it is high temperature."
   ]
  },
  {
   "cell_type": "code",
   "execution_count": 114,
   "id": "6c010a02-bd4e-4a51-862e-62fba4a71f58",
   "metadata": {},
   "outputs": [],
   "source": [
    "df_higher_35 = df_highest_temp[df_highest_temp[\"Maximum temperature (Degree C)\"] > 35]"
   ]
  },
  {
   "cell_type": "code",
   "execution_count": 115,
   "id": "11470346-c130-4df4-9c3a-9d2afa8beef8",
   "metadata": {},
   "outputs": [
    {
     "data": {
      "text/html": [
       "<div>\n",
       "<style scoped>\n",
       "    .dataframe tbody tr th:only-of-type {\n",
       "        vertical-align: middle;\n",
       "    }\n",
       "\n",
       "    .dataframe tbody tr th {\n",
       "        vertical-align: top;\n",
       "    }\n",
       "\n",
       "    .dataframe thead th {\n",
       "        text-align: right;\n",
       "    }\n",
       "</style>\n",
       "<table border=\"1\" class=\"dataframe\">\n",
       "  <thead>\n",
       "    <tr style=\"text-align: right;\">\n",
       "      <th></th>\n",
       "      <th>Product code</th>\n",
       "      <th>Bureau of Meteorology station number</th>\n",
       "      <th>Year</th>\n",
       "      <th>Month</th>\n",
       "      <th>Day</th>\n",
       "      <th>Maximum temperature (Degree C)</th>\n",
       "      <th>Days of accumulation of maximum temperature</th>\n",
       "      <th>Quality</th>\n",
       "    </tr>\n",
       "  </thead>\n",
       "  <tbody>\n",
       "    <tr>\n",
       "      <th>341</th>\n",
       "      <td>IDCJAC0010</td>\n",
       "      <td>23034</td>\n",
       "      <td>1955</td>\n",
       "      <td>12</td>\n",
       "      <td>8</td>\n",
       "      <td>37.1</td>\n",
       "      <td>1.0</td>\n",
       "      <td>Y</td>\n",
       "    </tr>\n",
       "    <tr>\n",
       "      <th>342</th>\n",
       "      <td>IDCJAC0010</td>\n",
       "      <td>23034</td>\n",
       "      <td>1955</td>\n",
       "      <td>12</td>\n",
       "      <td>9</td>\n",
       "      <td>38.4</td>\n",
       "      <td>1.0</td>\n",
       "      <td>Y</td>\n",
       "    </tr>\n",
       "    <tr>\n",
       "      <th>343</th>\n",
       "      <td>IDCJAC0010</td>\n",
       "      <td>23034</td>\n",
       "      <td>1955</td>\n",
       "      <td>12</td>\n",
       "      <td>10</td>\n",
       "      <td>39.1</td>\n",
       "      <td>1.0</td>\n",
       "      <td>Y</td>\n",
       "    </tr>\n",
       "    <tr>\n",
       "      <th>372</th>\n",
       "      <td>IDCJAC0010</td>\n",
       "      <td>23034</td>\n",
       "      <td>1956</td>\n",
       "      <td>1</td>\n",
       "      <td>8</td>\n",
       "      <td>37.4</td>\n",
       "      <td>1.0</td>\n",
       "      <td>Y</td>\n",
       "    </tr>\n",
       "    <tr>\n",
       "      <th>403</th>\n",
       "      <td>IDCJAC0010</td>\n",
       "      <td>23034</td>\n",
       "      <td>1956</td>\n",
       "      <td>2</td>\n",
       "      <td>8</td>\n",
       "      <td>35.6</td>\n",
       "      <td>1.0</td>\n",
       "      <td>Y</td>\n",
       "    </tr>\n",
       "    <tr>\n",
       "      <th>...</th>\n",
       "      <td>...</td>\n",
       "      <td>...</td>\n",
       "      <td>...</td>\n",
       "      <td>...</td>\n",
       "      <td>...</td>\n",
       "      <td>...</td>\n",
       "      <td>...</td>\n",
       "      <td>...</td>\n",
       "    </tr>\n",
       "    <tr>\n",
       "      <th>24470</th>\n",
       "      <td>IDCJAC0010</td>\n",
       "      <td>23034</td>\n",
       "      <td>2021</td>\n",
       "      <td>12</td>\n",
       "      <td>30</td>\n",
       "      <td>36.0</td>\n",
       "      <td>1.0</td>\n",
       "      <td>N</td>\n",
       "    </tr>\n",
       "    <tr>\n",
       "      <th>24471</th>\n",
       "      <td>IDCJAC0010</td>\n",
       "      <td>23034</td>\n",
       "      <td>2021</td>\n",
       "      <td>12</td>\n",
       "      <td>31</td>\n",
       "      <td>37.5</td>\n",
       "      <td>1.0</td>\n",
       "      <td>N</td>\n",
       "    </tr>\n",
       "    <tr>\n",
       "      <th>24481</th>\n",
       "      <td>IDCJAC0010</td>\n",
       "      <td>23034</td>\n",
       "      <td>2022</td>\n",
       "      <td>1</td>\n",
       "      <td>10</td>\n",
       "      <td>35.4</td>\n",
       "      <td>1.0</td>\n",
       "      <td>Y</td>\n",
       "    </tr>\n",
       "    <tr>\n",
       "      <th>24491</th>\n",
       "      <td>IDCJAC0010</td>\n",
       "      <td>23034</td>\n",
       "      <td>2022</td>\n",
       "      <td>1</td>\n",
       "      <td>20</td>\n",
       "      <td>35.9</td>\n",
       "      <td>1.0</td>\n",
       "      <td>Y</td>\n",
       "    </tr>\n",
       "    <tr>\n",
       "      <th>24492</th>\n",
       "      <td>IDCJAC0010</td>\n",
       "      <td>23034</td>\n",
       "      <td>2022</td>\n",
       "      <td>1</td>\n",
       "      <td>21</td>\n",
       "      <td>35.5</td>\n",
       "      <td>1.0</td>\n",
       "      <td>Y</td>\n",
       "    </tr>\n",
       "  </tbody>\n",
       "</table>\n",
       "<p>916 rows × 8 columns</p>\n",
       "</div>"
      ],
      "text/plain": [
       "      Product code  Bureau of Meteorology station number  Year  Month  Day  \\\n",
       "341     IDCJAC0010                                 23034  1955     12    8   \n",
       "342     IDCJAC0010                                 23034  1955     12    9   \n",
       "343     IDCJAC0010                                 23034  1955     12   10   \n",
       "372     IDCJAC0010                                 23034  1956      1    8   \n",
       "403     IDCJAC0010                                 23034  1956      2    8   \n",
       "...            ...                                   ...   ...    ...  ...   \n",
       "24470   IDCJAC0010                                 23034  2021     12   30   \n",
       "24471   IDCJAC0010                                 23034  2021     12   31   \n",
       "24481   IDCJAC0010                                 23034  2022      1   10   \n",
       "24491   IDCJAC0010                                 23034  2022      1   20   \n",
       "24492   IDCJAC0010                                 23034  2022      1   21   \n",
       "\n",
       "       Maximum temperature (Degree C)  \\\n",
       "341                              37.1   \n",
       "342                              38.4   \n",
       "343                              39.1   \n",
       "372                              37.4   \n",
       "403                              35.6   \n",
       "...                               ...   \n",
       "24470                            36.0   \n",
       "24471                            37.5   \n",
       "24481                            35.4   \n",
       "24491                            35.9   \n",
       "24492                            35.5   \n",
       "\n",
       "       Days of accumulation of maximum temperature Quality  \n",
       "341                                            1.0       Y  \n",
       "342                                            1.0       Y  \n",
       "343                                            1.0       Y  \n",
       "372                                            1.0       Y  \n",
       "403                                            1.0       Y  \n",
       "...                                            ...     ...  \n",
       "24470                                          1.0       N  \n",
       "24471                                          1.0       N  \n",
       "24481                                          1.0       Y  \n",
       "24491                                          1.0       Y  \n",
       "24492                                          1.0       Y  \n",
       "\n",
       "[916 rows x 8 columns]"
      ]
     },
     "execution_count": 115,
     "metadata": {},
     "output_type": "execute_result"
    }
   ],
   "source": [
    "df_higher_35"
   ]
  },
  {
   "cell_type": "code",
   "execution_count": 116,
   "id": "af71437a-1871-43f9-bdf3-0e570f18cb03",
   "metadata": {},
   "outputs": [
    {
     "data": {
      "text/plain": [
       "Year\n",
       "1955     3\n",
       "1956     3\n",
       "1957     8\n",
       "1958     4\n",
       "1959     8\n",
       "        ..\n",
       "2018    19\n",
       "2019    25\n",
       "2020    11\n",
       "2021    10\n",
       "2022     3\n",
       "Name: Year, Length: 68, dtype: int64"
      ]
     },
     "execution_count": 116,
     "metadata": {},
     "output_type": "execute_result"
    }
   ],
   "source": [
    "df_higher_35.groupby(\"Year\")[\"Year\"].count()"
   ]
  },
  {
   "cell_type": "code",
   "execution_count": 117,
   "id": "c69bd855-4972-4d31-a68c-31ae5bbaab4e",
   "metadata": {},
   "outputs": [
    {
     "data": {
      "text/plain": [
       "[<matplotlib.lines.Line2D at 0x217b3b597b0>]"
      ]
     },
     "execution_count": 117,
     "metadata": {},
     "output_type": "execute_result"
    },
    {
     "data": {
      "image/png": "[encoded data removed]",
      "text/plain": [
       "<Figure size 432x288 with 1 Axes>"
      ]
     },
     "metadata": {
      "needs_background": "light"
     },
     "output_type": "display_data"
    }
   ],
   "source": [
    "plt.plot(df_higher_35.groupby(\"Year\")[\"Year\"].count())"
   ]
  },
  {
   "cell_type": "code",
   "execution_count": 118,
   "id": "eb1dd71d-e74b-4ce0-ac5c-0ce8da7c8db2",
   "metadata": {},
   "outputs": [
    {
     "data": {
      "image/png": "[encoded data removed]",
      "text/plain": [
       "<Figure size 432x288 with 1 Axes>"
      ]
     },
     "metadata": {
      "needs_background": "light"
     },
     "output_type": "display_data"
    }
   ],
   "source": [
    "plt.hist(df_higher_35.groupby(\"Year\")[\"Year\"].count())\n",
    "plt.show()"
   ]
  },
  {
   "cell_type": "markdown",
   "id": "26a4c4ca-3029-4ce1-b511-b6be8aa0c98e",
   "metadata": {},
   "source": [
    "It can be seen from the observation that the occurrence of cases above the high temperature threshold is increasing with the passage of time."
   ]
  },
  {
   "cell_type": "markdown",
   "id": "3e5966cd-dd13-40ff-943f-17d06017d13f",
   "metadata": {},
   "source": [
    "### 4.2 Set a threshold for a minimal temperature and count number of days"
   ]
  },
  {
   "cell_type": "markdown",
   "id": "e147174e-9d72-441b-b905-9526553db4e0",
   "metadata": {},
   "source": [
    "Through the daily highest temperature data, it can be found that the average value of Maximum temperature (Degree C) is:"
   ]
  },
  {
   "cell_type": "code",
   "execution_count": 119,
   "id": "86a4175d-49fa-49b7-a438-8e6338a08761",
   "metadata": {},
   "outputs": [
    {
     "data": {
      "text/plain": [
       "21.53"
      ]
     },
     "execution_count": 119,
     "metadata": {},
     "output_type": "execute_result"
    }
   ],
   "source": [
    "highest_temp_mean =  df_highest_temp[\"Maximum temperature (Degree C)\"].mean().round(2)\n",
    "highest_temp_mean"
   ]
  },
  {
   "cell_type": "markdown",
   "id": "9037455c-bebb-4f99-bcae-2f52ac77fd3c",
   "metadata": {},
   "source": [
    "And 35 is higher than the average:"
   ]
  },
  {
   "cell_type": "code",
   "execution_count": 120,
   "id": "2fe76f96-4372-42ad-b10f-272b31a1ec7c",
   "metadata": {},
   "outputs": [
    {
     "data": {
      "text/plain": [
       "13.47"
      ]
     },
     "execution_count": 120,
     "metadata": {},
     "output_type": "execute_result"
    }
   ],
   "source": [
    "temp_diff = 35 - highest_temp_mean\n",
    "temp_diff.round(2)"
   ]
  },
  {
   "cell_type": "markdown",
   "id": "689c5647-e10c-421e-a613-f296bad27e6d",
   "metadata": {},
   "source": [
    "We set the difference from the mean to an integer around 13.47 as the low temperature threshold:"
   ]
  },
  {
   "cell_type": "code",
   "execution_count": 121,
   "id": "984cdde9-29ca-4576-9a9b-fef9e666a169",
   "metadata": {},
   "outputs": [
    {
     "data": {
      "text/plain": [
       "11.485673131542645"
      ]
     },
     "execution_count": 121,
     "metadata": {},
     "output_type": "execute_result"
    }
   ],
   "source": [
    "lowest_temp_mean = df_lowest_temp[\"Minimum temperature (Degree C)\"].mean()\n",
    "lowest_temp_mean"
   ]
  },
  {
   "cell_type": "code",
   "execution_count": 122,
   "id": "b2e2e52e-85a7-44a1-ba36-5cbf88407ca2",
   "metadata": {},
   "outputs": [
    {
     "data": {
      "text/plain": [
       "-2.0"
      ]
     },
     "execution_count": 122,
     "metadata": {},
     "output_type": "execute_result"
    }
   ],
   "source": [
    "min_temp_threshold = lowest_temp_mean - temp_diff\n",
    "min_temp_threshold.round(0)"
   ]
  },
  {
   "cell_type": "markdown",
   "id": "32583ed0-4ca9-435e-a0c1-d822e15cfdeb",
   "metadata": {},
   "source": [
    "From the calculation results, it can be seen that this value is -2."
   ]
  },
  {
   "cell_type": "markdown",
   "id": "d98ea03c-9497-43aa-80ca-dd503745567c",
   "metadata": {},
   "source": [
    "Count number of days per year with minimum temperature below -2 degrees: "
   ]
  },
  {
   "cell_type": "code",
   "execution_count": 131,
   "id": "fd6507b9-d34e-4130-ace0-6fd8f3c0f6a1",
   "metadata": {},
   "outputs": [
    {
     "data": {
      "text/html": [
       "<div>\n",
       "<style scoped>\n",
       "    .dataframe tbody tr th:only-of-type {\n",
       "        vertical-align: middle;\n",
       "    }\n",
       "\n",
       "    .dataframe tbody tr th {\n",
       "        vertical-align: top;\n",
       "    }\n",
       "\n",
       "    .dataframe thead th {\n",
       "        text-align: right;\n",
       "    }\n",
       "</style>\n",
       "<table border=\"1\" class=\"dataframe\">\n",
       "  <thead>\n",
       "    <tr style=\"text-align: right;\">\n",
       "      <th></th>\n",
       "      <th>Product code</th>\n",
       "      <th>Bureau of Meteorology station number</th>\n",
       "      <th>Year</th>\n",
       "      <th>Month</th>\n",
       "      <th>Day</th>\n",
       "      <th>Minimum temperature (Degree C)</th>\n",
       "      <th>Days of accumulation of minimum temperature</th>\n",
       "      <th>Quality</th>\n",
       "    </tr>\n",
       "  </thead>\n",
       "  <tbody>\n",
       "    <tr>\n",
       "      <th>6372</th>\n",
       "      <td>IDCJAC0011</td>\n",
       "      <td>23034</td>\n",
       "      <td>1972</td>\n",
       "      <td>6</td>\n",
       "      <td>12</td>\n",
       "      <td>-2.2</td>\n",
       "      <td>1.0</td>\n",
       "      <td>Y</td>\n",
       "    </tr>\n",
       "    <tr>\n",
       "      <th>10020</th>\n",
       "      <td>IDCJAC0011</td>\n",
       "      <td>23034</td>\n",
       "      <td>1982</td>\n",
       "      <td>6</td>\n",
       "      <td>8</td>\n",
       "      <td>-2.6</td>\n",
       "      <td>1.0</td>\n",
       "      <td>Y</td>\n",
       "    </tr>\n",
       "  </tbody>\n",
       "</table>\n",
       "</div>"
      ],
      "text/plain": [
       "      Product code  Bureau of Meteorology station number  Year  Month  Day  \\\n",
       "6372    IDCJAC0011                                 23034  1972      6   12   \n",
       "10020   IDCJAC0011                                 23034  1982      6    8   \n",
       "\n",
       "       Minimum temperature (Degree C)  \\\n",
       "6372                             -2.2   \n",
       "10020                            -2.6   \n",
       "\n",
       "       Days of accumulation of minimum temperature Quality  \n",
       "6372                                           1.0       Y  \n",
       "10020                                          1.0       Y  "
      ]
     },
     "execution_count": 131,
     "metadata": {},
     "output_type": "execute_result"
    }
   ],
   "source": [
    "df_lowest_count = df_lowest_temp[df_lowest_temp[\"Minimum temperature (Degree C)\"] < -2]\n",
    "\n",
    "df_lowest_count"
   ]
  },
  {
   "cell_type": "markdown",
   "id": "16c7b5fc-1c31-4b13-82dc-6009b3a3e0ef",
   "metadata": {},
   "source": [
    "From the test results, -2 does not seem to be a very good threshold, because only two data can be lower than this value."
   ]
  },
  {
   "cell_type": "markdown",
   "id": "01f82ee3-bd08-4ce6-9b0c-64d7e0e4b836",
   "metadata": {},
   "source": [
    "Try using scaling to set a new threshold:"
   ]
  },
  {
   "cell_type": "code",
   "execution_count": 125,
   "id": "77655f61-7306-4828-a104-88948ced0d57",
   "metadata": {},
   "outputs": [
    {
     "data": {
      "text/plain": [
       "1.63"
      ]
     },
     "execution_count": 125,
     "metadata": {},
     "output_type": "execute_result"
    }
   ],
   "source": [
    "scale = (35 / highest_temp_mean).round(2)\n",
    "scale"
   ]
  },
  {
   "cell_type": "code",
   "execution_count": 126,
   "id": "7b69aa2e-1276-4028-91d4-c9a769aa4fae",
   "metadata": {},
   "outputs": [
    {
     "data": {
      "text/plain": [
       "7.0"
      ]
     },
     "execution_count": 126,
     "metadata": {},
     "output_type": "execute_result"
    }
   ],
   "source": [
    "min_temp_threshold_new = (lowest_temp_mean / scale).round(0)\n",
    "min_temp_threshold_new"
   ]
  },
  {
   "cell_type": "markdown",
   "id": "adea0853-c898-4bd5-a795-5380b9093fb9",
   "metadata": {},
   "source": [
    "Use this new threshold for calculations:"
   ]
  },
  {
   "cell_type": "code",
   "execution_count": 127,
   "id": "5d2bf1b7-3474-44c3-b12e-c44c30469083",
   "metadata": {},
   "outputs": [
    {
     "data": {
      "text/html": [
       "<div>\n",
       "<style scoped>\n",
       "    .dataframe tbody tr th:only-of-type {\n",
       "        vertical-align: middle;\n",
       "    }\n",
       "\n",
       "    .dataframe tbody tr th {\n",
       "        vertical-align: top;\n",
       "    }\n",
       "\n",
       "    .dataframe thead th {\n",
       "        text-align: right;\n",
       "    }\n",
       "</style>\n",
       "<table border=\"1\" class=\"dataframe\">\n",
       "  <thead>\n",
       "    <tr style=\"text-align: right;\">\n",
       "      <th></th>\n",
       "      <th>Product code</th>\n",
       "      <th>Bureau of Meteorology station number</th>\n",
       "      <th>Year</th>\n",
       "      <th>Month</th>\n",
       "      <th>Day</th>\n",
       "      <th>Minimum temperature (Degree C)</th>\n",
       "      <th>Days of accumulation of minimum temperature</th>\n",
       "      <th>Quality</th>\n",
       "    </tr>\n",
       "  </thead>\n",
       "  <tbody>\n",
       "    <tr>\n",
       "      <th>92</th>\n",
       "      <td>IDCJAC0011</td>\n",
       "      <td>23034</td>\n",
       "      <td>1955</td>\n",
       "      <td>4</td>\n",
       "      <td>3</td>\n",
       "      <td>6.8</td>\n",
       "      <td>1.0</td>\n",
       "      <td>Y</td>\n",
       "    </tr>\n",
       "    <tr>\n",
       "      <th>93</th>\n",
       "      <td>IDCJAC0011</td>\n",
       "      <td>23034</td>\n",
       "      <td>1955</td>\n",
       "      <td>4</td>\n",
       "      <td>4</td>\n",
       "      <td>6.8</td>\n",
       "      <td>1.0</td>\n",
       "      <td>Y</td>\n",
       "    </tr>\n",
       "    <tr>\n",
       "      <th>115</th>\n",
       "      <td>IDCJAC0011</td>\n",
       "      <td>23034</td>\n",
       "      <td>1955</td>\n",
       "      <td>4</td>\n",
       "      <td>26</td>\n",
       "      <td>6.8</td>\n",
       "      <td>1.0</td>\n",
       "      <td>Y</td>\n",
       "    </tr>\n",
       "    <tr>\n",
       "      <th>118</th>\n",
       "      <td>IDCJAC0011</td>\n",
       "      <td>23034</td>\n",
       "      <td>1955</td>\n",
       "      <td>4</td>\n",
       "      <td>29</td>\n",
       "      <td>6.1</td>\n",
       "      <td>1.0</td>\n",
       "      <td>Y</td>\n",
       "    </tr>\n",
       "    <tr>\n",
       "      <th>120</th>\n",
       "      <td>IDCJAC0011</td>\n",
       "      <td>23034</td>\n",
       "      <td>1955</td>\n",
       "      <td>5</td>\n",
       "      <td>1</td>\n",
       "      <td>5.1</td>\n",
       "      <td>1.0</td>\n",
       "      <td>Y</td>\n",
       "    </tr>\n",
       "    <tr>\n",
       "      <th>...</th>\n",
       "      <td>...</td>\n",
       "      <td>...</td>\n",
       "      <td>...</td>\n",
       "      <td>...</td>\n",
       "      <td>...</td>\n",
       "      <td>...</td>\n",
       "      <td>...</td>\n",
       "      <td>...</td>\n",
       "    </tr>\n",
       "    <tr>\n",
       "      <th>24680</th>\n",
       "      <td>IDCJAC0011</td>\n",
       "      <td>23034</td>\n",
       "      <td>2022</td>\n",
       "      <td>7</td>\n",
       "      <td>28</td>\n",
       "      <td>4.9</td>\n",
       "      <td>1.0</td>\n",
       "      <td>N</td>\n",
       "    </tr>\n",
       "    <tr>\n",
       "      <th>24681</th>\n",
       "      <td>IDCJAC0011</td>\n",
       "      <td>23034</td>\n",
       "      <td>2022</td>\n",
       "      <td>7</td>\n",
       "      <td>29</td>\n",
       "      <td>2.4</td>\n",
       "      <td>1.0</td>\n",
       "      <td>N</td>\n",
       "    </tr>\n",
       "    <tr>\n",
       "      <th>24684</th>\n",
       "      <td>IDCJAC0011</td>\n",
       "      <td>23034</td>\n",
       "      <td>2022</td>\n",
       "      <td>8</td>\n",
       "      <td>1</td>\n",
       "      <td>6.9</td>\n",
       "      <td>1.0</td>\n",
       "      <td>N</td>\n",
       "    </tr>\n",
       "    <tr>\n",
       "      <th>24691</th>\n",
       "      <td>IDCJAC0011</td>\n",
       "      <td>23034</td>\n",
       "      <td>2022</td>\n",
       "      <td>8</td>\n",
       "      <td>8</td>\n",
       "      <td>5.0</td>\n",
       "      <td>1.0</td>\n",
       "      <td>N</td>\n",
       "    </tr>\n",
       "    <tr>\n",
       "      <th>24692</th>\n",
       "      <td>IDCJAC0011</td>\n",
       "      <td>23034</td>\n",
       "      <td>2022</td>\n",
       "      <td>8</td>\n",
       "      <td>9</td>\n",
       "      <td>4.5</td>\n",
       "      <td>1.0</td>\n",
       "      <td>N</td>\n",
       "    </tr>\n",
       "  </tbody>\n",
       "</table>\n",
       "<p>4005 rows × 8 columns</p>\n",
       "</div>"
      ],
      "text/plain": [
       "      Product code  Bureau of Meteorology station number  Year  Month  Day  \\\n",
       "92      IDCJAC0011                                 23034  1955      4    3   \n",
       "93      IDCJAC0011                                 23034  1955      4    4   \n",
       "115     IDCJAC0011                                 23034  1955      4   26   \n",
       "118     IDCJAC0011                                 23034  1955      4   29   \n",
       "120     IDCJAC0011                                 23034  1955      5    1   \n",
       "...            ...                                   ...   ...    ...  ...   \n",
       "24680   IDCJAC0011                                 23034  2022      7   28   \n",
       "24681   IDCJAC0011                                 23034  2022      7   29   \n",
       "24684   IDCJAC0011                                 23034  2022      8    1   \n",
       "24691   IDCJAC0011                                 23034  2022      8    8   \n",
       "24692   IDCJAC0011                                 23034  2022      8    9   \n",
       "\n",
       "       Minimum temperature (Degree C)  \\\n",
       "92                                6.8   \n",
       "93                                6.8   \n",
       "115                               6.8   \n",
       "118                               6.1   \n",
       "120                               5.1   \n",
       "...                               ...   \n",
       "24680                             4.9   \n",
       "24681                             2.4   \n",
       "24684                             6.9   \n",
       "24691                             5.0   \n",
       "24692                             4.5   \n",
       "\n",
       "       Days of accumulation of minimum temperature Quality  \n",
       "92                                             1.0       Y  \n",
       "93                                             1.0       Y  \n",
       "115                                            1.0       Y  \n",
       "118                                            1.0       Y  \n",
       "120                                            1.0       Y  \n",
       "...                                            ...     ...  \n",
       "24680                                          1.0       N  \n",
       "24681                                          1.0       N  \n",
       "24684                                          1.0       N  \n",
       "24691                                          1.0       N  \n",
       "24692                                          1.0       N  \n",
       "\n",
       "[4005 rows x 8 columns]"
      ]
     },
     "execution_count": 127,
     "metadata": {},
     "output_type": "execute_result"
    }
   ],
   "source": [
    "df_lowest_count_new = df_lowest_temp[df_lowest_temp[\"Minimum temperature (Degree C)\"] < 7.0]\n",
    "df_lowest_count_new"
   ]
  },
  {
   "cell_type": "code",
   "execution_count": 128,
   "id": "bfaf99f0-f121-4e01-acc1-72bc311103a9",
   "metadata": {},
   "outputs": [
    {
     "data": {
      "text/plain": [
       "Year\n",
       "1955    59\n",
       "1956    52\n",
       "1957    73\n",
       "1958    70\n",
       "1959    86\n",
       "        ..\n",
       "2018    46\n",
       "2019    51\n",
       "2020    58\n",
       "2021    43\n",
       "2022    32\n",
       "Name: Year, Length: 68, dtype: int64"
      ]
     },
     "execution_count": 128,
     "metadata": {},
     "output_type": "execute_result"
    }
   ],
   "source": [
    "df_lowest_count_new.groupby(\"Year\")[\"Year\"].count()"
   ]
  },
  {
   "cell_type": "code",
   "execution_count": 129,
   "id": "f0a3ae18-94c4-41ba-8ba9-0b69a11aef35",
   "metadata": {},
   "outputs": [
    {
     "data": {
      "text/plain": [
       "[<matplotlib.lines.Line2D at 0x217b7197760>]"
      ]
     },
     "execution_count": 129,
     "metadata": {},
     "output_type": "execute_result"
    },
    {
     "data": {
      "image/png": "[encoded data removed]",
      "text/plain": [
       "<Figure size 432x288 with 1 Axes>"
      ]
     },
     "metadata": {
      "needs_background": "light"
     },
     "output_type": "display_data"
    }
   ],
   "source": [
    "plt.plot(df_lowest_count_new.groupby(\"Year\")[\"Year\"].count())"
   ]
  },
  {
   "cell_type": "code",
   "execution_count": 130,
   "id": "27c47086-e007-4bf2-be75-81fbe833b99a",
   "metadata": {},
   "outputs": [
    {
     "data": {
      "image/png": "[encoded data removed]",
      "text/plain": [
       "<Figure size 432x288 with 1 Axes>"
      ]
     },
     "metadata": {
      "needs_background": "light"
     },
     "output_type": "display_data"
    }
   ],
   "source": [
    "plt.hist(df_lowest_count_new.groupby(\"Year\")[\"Year\"].count())\n",
    "plt.show()"
   ]
  },
  {
   "cell_type": "markdown",
   "id": "b11123a5-caa3-460c-92d9-afcc3ade7b2f",
   "metadata": {},
   "source": [
    "It can be seen from the observation that the frequency of the temperature lower than the threshold value generally shows a decreasing trend with the passage of time."
   ]
  },
  {
   "cell_type": "markdown",
   "id": "2c78d137-8664-4d95-b034-4425d78fafdd",
   "metadata": {},
   "source": [
    "### 4.3 Combined discussion"
   ]
  },
  {
   "cell_type": "markdown",
   "id": "d0fe015d-85c3-4622-bd03-c459d5fab9bd",
   "metadata": {},
   "source": [
    "The occurrence of high temperature is increasing, but the occurrence of low temperature is decreasing, which shows that climate change is generally warming."
   ]
  },
  {
   "cell_type": "markdown",
   "id": "2aabc8a1-5233-4085-8bbf-29a11085744a",
   "metadata": {},
   "source": [
    "## 5. Conlusion"
   ]
  },
  {
   "cell_type": "markdown",
   "id": "3e62ee3c-89ba-4215-91f6-c56fd7226e7c",
   "metadata": {},
   "source": [
    "From the above analysis results, the yearly temperature range remains between 9 degrees and 11 degrees Celsius, this shows that with the passage of time, the temperature difference between high and low temperatures in the same year has not changed much.\n",
    "\n",
    "From the results of statistics and analysis of the number of days above the high temperature threshold each year, with the passage of time, the number of days above the high temperature threshold is increasing every year; conversely, the number of days below the low temperature threshold is decreasing each year.\n",
    "\n",
    "In conclusion, there is sufficient evidence to point out that climate change is showing a warming trend, which is also in line with the perception in daily life."
   ]
  }
 ],
 "metadata": {
  "kernelspec": {
   "display_name": "Python 3 (ipykernel)",
   "language": "python",
   "name": "python3"
  },
  "language_info": {
   "codemirror_mode": {
    "name": "ipython",
    "version": 3
   },
   "file_extension": ".py",
   "mimetype": "text/x-python",
   "name": "python",
   "nbconvert_exporter": "python",
   "pygments_lexer": "ipython3",
   "version": "3.10.5"
  }
 },
 "nbformat": 4,
 "nbformat_minor": 5
}
